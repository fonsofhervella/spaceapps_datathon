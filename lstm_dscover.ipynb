{
 "cells": [
  {
   "cell_type": "code",
   "execution_count": 1,
   "metadata": {},
   "outputs": [],
   "source": [
    "import numpy as np\n",
    "import pandas as pd\n",
    "import matplotlib.pyplot as plt"
   ]
  },
  {
   "cell_type": "code",
   "execution_count": 2,
   "metadata": {},
   "outputs": [],
   "source": [
    "df = pd.read_csv('DSCVR_KP_all_cleaned_extended_fp32_vF1.csv')"
   ]
  },
  {
   "cell_type": "code",
   "execution_count": 3,
   "metadata": {},
   "outputs": [
    {
     "name": "stdout",
     "output_type": "stream",
     "text": [
      "<class 'pandas.core.frame.DataFrame'>\n",
      "RangeIndex: 18041 entries, 0 to 18040\n",
      "Columns: 375 entries, datetime_DSCVR to FarCup50_mean_MISSING\n",
      "dtypes: float64(374), object(1)\n",
      "memory usage: 51.6+ MB\n"
     ]
    }
   ],
   "source": [
    "df.info()"
   ]
  },
  {
   "cell_type": "code",
   "execution_count": 4,
   "metadata": {},
   "outputs": [
    {
     "data": {
      "text/plain": [
       "(18041, 375)"
      ]
     },
     "execution_count": 4,
     "metadata": {},
     "output_type": "execute_result"
    }
   ],
   "source": [
    "df.shape"
   ]
  },
  {
   "cell_type": "code",
   "execution_count": 5,
   "metadata": {},
   "outputs": [
    {
     "data": {
      "text/plain": [
       "datetime_DSCVR              object\n",
       "MagFieldVect_Comp1_mean    float64\n",
       "MagFieldVect_Comp2_mean    float64\n",
       "MagFieldVect_Comp3_mean    float64\n",
       "FarCup1_mean               float64\n",
       "                            ...   \n",
       "FarCup46_mean_MISSING      float64\n",
       "FarCup47_mean_MISSING      float64\n",
       "FarCup48_mean_MISSING      float64\n",
       "FarCup49_mean_MISSING      float64\n",
       "FarCup50_mean_MISSING      float64\n",
       "Length: 375, dtype: object"
      ]
     },
     "execution_count": 5,
     "metadata": {},
     "output_type": "execute_result"
    }
   ],
   "source": [
    "df.dtypes"
   ]
  },
  {
   "cell_type": "code",
   "execution_count": 6,
   "metadata": {},
   "outputs": [
    {
     "data": {
      "text/html": [
       "<div>\n",
       "<style scoped>\n",
       "    .dataframe tbody tr th:only-of-type {\n",
       "        vertical-align: middle;\n",
       "    }\n",
       "\n",
       "    .dataframe tbody tr th {\n",
       "        vertical-align: top;\n",
       "    }\n",
       "\n",
       "    .dataframe thead th {\n",
       "        text-align: right;\n",
       "    }\n",
       "</style>\n",
       "<table border=\"1\" class=\"dataframe\">\n",
       "  <thead>\n",
       "    <tr style=\"text-align: right;\">\n",
       "      <th></th>\n",
       "      <th>MagFieldVect_Comp1_mean</th>\n",
       "      <th>MagFieldVect_Comp2_mean</th>\n",
       "      <th>MagFieldVect_Comp3_mean</th>\n",
       "      <th>FarCup1_mean</th>\n",
       "      <th>FarCup2_mean</th>\n",
       "      <th>FarCup3_mean</th>\n",
       "      <th>FarCup4_mean</th>\n",
       "      <th>FarCup5_mean</th>\n",
       "      <th>FarCup6_mean</th>\n",
       "      <th>FarCup7_mean</th>\n",
       "      <th>...</th>\n",
       "      <th>FarCup41_mean_MISSING</th>\n",
       "      <th>FarCup42_mean_MISSING</th>\n",
       "      <th>FarCup43_mean_MISSING</th>\n",
       "      <th>FarCup44_mean_MISSING</th>\n",
       "      <th>FarCup45_mean_MISSING</th>\n",
       "      <th>FarCup46_mean_MISSING</th>\n",
       "      <th>FarCup47_mean_MISSING</th>\n",
       "      <th>FarCup48_mean_MISSING</th>\n",
       "      <th>FarCup49_mean_MISSING</th>\n",
       "      <th>FarCup50_mean_MISSING</th>\n",
       "    </tr>\n",
       "    <tr>\n",
       "      <th>datetime_DSCVR</th>\n",
       "      <th></th>\n",
       "      <th></th>\n",
       "      <th></th>\n",
       "      <th></th>\n",
       "      <th></th>\n",
       "      <th></th>\n",
       "      <th></th>\n",
       "      <th></th>\n",
       "      <th></th>\n",
       "      <th></th>\n",
       "      <th></th>\n",
       "      <th></th>\n",
       "      <th></th>\n",
       "      <th></th>\n",
       "      <th></th>\n",
       "      <th></th>\n",
       "      <th></th>\n",
       "      <th></th>\n",
       "      <th></th>\n",
       "      <th></th>\n",
       "      <th></th>\n",
       "    </tr>\n",
       "  </thead>\n",
       "  <tbody>\n",
       "    <tr>\n",
       "      <th>2016-07-01 03:00:00</th>\n",
       "      <td>0.265339</td>\n",
       "      <td>3.261504</td>\n",
       "      <td>0.045978</td>\n",
       "      <td>0.0</td>\n",
       "      <td>0.0</td>\n",
       "      <td>0.0</td>\n",
       "      <td>0.0</td>\n",
       "      <td>356.221</td>\n",
       "      <td>333.40884</td>\n",
       "      <td>349.22742</td>\n",
       "      <td>...</td>\n",
       "      <td>0.0</td>\n",
       "      <td>0.0</td>\n",
       "      <td>0.0</td>\n",
       "      <td>0.0</td>\n",
       "      <td>0.0</td>\n",
       "      <td>0.0</td>\n",
       "      <td>0.0</td>\n",
       "      <td>0.0</td>\n",
       "      <td>0.0</td>\n",
       "      <td>0.0</td>\n",
       "    </tr>\n",
       "    <tr>\n",
       "      <th>2016-07-01 06:00:00</th>\n",
       "      <td>0.924654</td>\n",
       "      <td>1.763291</td>\n",
       "      <td>-0.228962</td>\n",
       "      <td>0.0</td>\n",
       "      <td>0.0</td>\n",
       "      <td>0.0</td>\n",
       "      <td>0.0</td>\n",
       "      <td>0.000</td>\n",
       "      <td>0.00000</td>\n",
       "      <td>351.97586</td>\n",
       "      <td>...</td>\n",
       "      <td>0.0</td>\n",
       "      <td>0.0</td>\n",
       "      <td>0.0</td>\n",
       "      <td>0.0</td>\n",
       "      <td>0.0</td>\n",
       "      <td>0.0</td>\n",
       "      <td>0.0</td>\n",
       "      <td>0.0</td>\n",
       "      <td>0.0</td>\n",
       "      <td>0.0</td>\n",
       "    </tr>\n",
       "    <tr>\n",
       "      <th>2016-07-01 09:00:00</th>\n",
       "      <td>-0.770110</td>\n",
       "      <td>2.431628</td>\n",
       "      <td>-1.294382</td>\n",
       "      <td>0.0</td>\n",
       "      <td>0.0</td>\n",
       "      <td>0.0</td>\n",
       "      <td>0.0</td>\n",
       "      <td>0.000</td>\n",
       "      <td>0.00000</td>\n",
       "      <td>356.85150</td>\n",
       "      <td>...</td>\n",
       "      <td>0.0</td>\n",
       "      <td>0.0</td>\n",
       "      <td>0.0</td>\n",
       "      <td>0.0</td>\n",
       "      <td>0.0</td>\n",
       "      <td>0.0</td>\n",
       "      <td>0.0</td>\n",
       "      <td>0.0</td>\n",
       "      <td>0.0</td>\n",
       "      <td>0.0</td>\n",
       "    </tr>\n",
       "    <tr>\n",
       "      <th>2016-07-01 12:00:00</th>\n",
       "      <td>1.719482</td>\n",
       "      <td>3.512640</td>\n",
       "      <td>-0.144519</td>\n",
       "      <td>0.0</td>\n",
       "      <td>0.0</td>\n",
       "      <td>0.0</td>\n",
       "      <td>0.0</td>\n",
       "      <td>360.279</td>\n",
       "      <td>340.13800</td>\n",
       "      <td>355.93466</td>\n",
       "      <td>...</td>\n",
       "      <td>0.0</td>\n",
       "      <td>0.0</td>\n",
       "      <td>0.0</td>\n",
       "      <td>0.0</td>\n",
       "      <td>0.0</td>\n",
       "      <td>0.0</td>\n",
       "      <td>0.0</td>\n",
       "      <td>0.0</td>\n",
       "      <td>0.0</td>\n",
       "      <td>0.0</td>\n",
       "    </tr>\n",
       "    <tr>\n",
       "      <th>2016-07-01 15:00:00</th>\n",
       "      <td>-1.733990</td>\n",
       "      <td>1.799461</td>\n",
       "      <td>-0.555546</td>\n",
       "      <td>0.0</td>\n",
       "      <td>0.0</td>\n",
       "      <td>0.0</td>\n",
       "      <td>0.0</td>\n",
       "      <td>354.486</td>\n",
       "      <td>335.14722</td>\n",
       "      <td>348.99988</td>\n",
       "      <td>...</td>\n",
       "      <td>0.0</td>\n",
       "      <td>0.0</td>\n",
       "      <td>0.0</td>\n",
       "      <td>0.0</td>\n",
       "      <td>0.0</td>\n",
       "      <td>0.0</td>\n",
       "      <td>0.0</td>\n",
       "      <td>0.0</td>\n",
       "      <td>0.0</td>\n",
       "      <td>0.0</td>\n",
       "    </tr>\n",
       "  </tbody>\n",
       "</table>\n",
       "<p>5 rows × 374 columns</p>\n",
       "</div>"
      ],
      "text/plain": [
       "                     MagFieldVect_Comp1_mean  MagFieldVect_Comp2_mean  \\\n",
       "datetime_DSCVR                                                          \n",
       "2016-07-01 03:00:00                 0.265339                 3.261504   \n",
       "2016-07-01 06:00:00                 0.924654                 1.763291   \n",
       "2016-07-01 09:00:00                -0.770110                 2.431628   \n",
       "2016-07-01 12:00:00                 1.719482                 3.512640   \n",
       "2016-07-01 15:00:00                -1.733990                 1.799461   \n",
       "\n",
       "                     MagFieldVect_Comp3_mean  FarCup1_mean  FarCup2_mean  \\\n",
       "datetime_DSCVR                                                             \n",
       "2016-07-01 03:00:00                 0.045978           0.0           0.0   \n",
       "2016-07-01 06:00:00                -0.228962           0.0           0.0   \n",
       "2016-07-01 09:00:00                -1.294382           0.0           0.0   \n",
       "2016-07-01 12:00:00                -0.144519           0.0           0.0   \n",
       "2016-07-01 15:00:00                -0.555546           0.0           0.0   \n",
       "\n",
       "                     FarCup3_mean  FarCup4_mean  FarCup5_mean  FarCup6_mean  \\\n",
       "datetime_DSCVR                                                                \n",
       "2016-07-01 03:00:00           0.0           0.0       356.221     333.40884   \n",
       "2016-07-01 06:00:00           0.0           0.0         0.000       0.00000   \n",
       "2016-07-01 09:00:00           0.0           0.0         0.000       0.00000   \n",
       "2016-07-01 12:00:00           0.0           0.0       360.279     340.13800   \n",
       "2016-07-01 15:00:00           0.0           0.0       354.486     335.14722   \n",
       "\n",
       "                     FarCup7_mean  ...  FarCup41_mean_MISSING  \\\n",
       "datetime_DSCVR                     ...                          \n",
       "2016-07-01 03:00:00     349.22742  ...                    0.0   \n",
       "2016-07-01 06:00:00     351.97586  ...                    0.0   \n",
       "2016-07-01 09:00:00     356.85150  ...                    0.0   \n",
       "2016-07-01 12:00:00     355.93466  ...                    0.0   \n",
       "2016-07-01 15:00:00     348.99988  ...                    0.0   \n",
       "\n",
       "                     FarCup42_mean_MISSING  FarCup43_mean_MISSING  \\\n",
       "datetime_DSCVR                                                      \n",
       "2016-07-01 03:00:00                    0.0                    0.0   \n",
       "2016-07-01 06:00:00                    0.0                    0.0   \n",
       "2016-07-01 09:00:00                    0.0                    0.0   \n",
       "2016-07-01 12:00:00                    0.0                    0.0   \n",
       "2016-07-01 15:00:00                    0.0                    0.0   \n",
       "\n",
       "                     FarCup44_mean_MISSING  FarCup45_mean_MISSING  \\\n",
       "datetime_DSCVR                                                      \n",
       "2016-07-01 03:00:00                    0.0                    0.0   \n",
       "2016-07-01 06:00:00                    0.0                    0.0   \n",
       "2016-07-01 09:00:00                    0.0                    0.0   \n",
       "2016-07-01 12:00:00                    0.0                    0.0   \n",
       "2016-07-01 15:00:00                    0.0                    0.0   \n",
       "\n",
       "                     FarCup46_mean_MISSING  FarCup47_mean_MISSING  \\\n",
       "datetime_DSCVR                                                      \n",
       "2016-07-01 03:00:00                    0.0                    0.0   \n",
       "2016-07-01 06:00:00                    0.0                    0.0   \n",
       "2016-07-01 09:00:00                    0.0                    0.0   \n",
       "2016-07-01 12:00:00                    0.0                    0.0   \n",
       "2016-07-01 15:00:00                    0.0                    0.0   \n",
       "\n",
       "                     FarCup48_mean_MISSING  FarCup49_mean_MISSING  \\\n",
       "datetime_DSCVR                                                      \n",
       "2016-07-01 03:00:00                    0.0                    0.0   \n",
       "2016-07-01 06:00:00                    0.0                    0.0   \n",
       "2016-07-01 09:00:00                    0.0                    0.0   \n",
       "2016-07-01 12:00:00                    0.0                    0.0   \n",
       "2016-07-01 15:00:00                    0.0                    0.0   \n",
       "\n",
       "                     FarCup50_mean_MISSING  \n",
       "datetime_DSCVR                              \n",
       "2016-07-01 03:00:00                    0.0  \n",
       "2016-07-01 06:00:00                    0.0  \n",
       "2016-07-01 09:00:00                    0.0  \n",
       "2016-07-01 12:00:00                    0.0  \n",
       "2016-07-01 15:00:00                    0.0  \n",
       "\n",
       "[5 rows x 374 columns]"
      ]
     },
     "execution_count": 6,
     "metadata": {},
     "output_type": "execute_result"
    }
   ],
   "source": [
    "#convert datetime_DSCVR to datetime and set as index \n",
    "df['datetime_DSCVR'] = pd.to_datetime(df['datetime_DSCVR'])\n",
    "df = df.set_index('datetime_DSCVR')\n",
    " \n",
    "df.head()"
   ]
  },
  {
   "cell_type": "code",
   "execution_count": 7,
   "metadata": {},
   "outputs": [],
   "source": [
    "#change all columns that are float 64 to float 32\n",
    "df = df.astype('float32')"
   ]
  },
  {
   "cell_type": "code",
   "execution_count": 8,
   "metadata": {},
   "outputs": [
    {
     "data": {
      "text/html": [
       "<div>\n",
       "<style scoped>\n",
       "    .dataframe tbody tr th:only-of-type {\n",
       "        vertical-align: middle;\n",
       "    }\n",
       "\n",
       "    .dataframe tbody tr th {\n",
       "        vertical-align: top;\n",
       "    }\n",
       "\n",
       "    .dataframe thead th {\n",
       "        text-align: right;\n",
       "    }\n",
       "</style>\n",
       "<table border=\"1\" class=\"dataframe\">\n",
       "  <thead>\n",
       "    <tr style=\"text-align: right;\">\n",
       "      <th></th>\n",
       "      <th>MagFieldVect_Comp1_mean</th>\n",
       "      <th>MagFieldVect_Comp2_mean</th>\n",
       "      <th>MagFieldVect_Comp3_mean</th>\n",
       "      <th>FarCup1_mean</th>\n",
       "      <th>FarCup2_mean</th>\n",
       "      <th>FarCup3_mean</th>\n",
       "      <th>FarCup4_mean</th>\n",
       "      <th>FarCup5_mean</th>\n",
       "      <th>FarCup6_mean</th>\n",
       "      <th>FarCup7_mean</th>\n",
       "      <th>...</th>\n",
       "      <th>FarCup41_mean_MISSING</th>\n",
       "      <th>FarCup42_mean_MISSING</th>\n",
       "      <th>FarCup43_mean_MISSING</th>\n",
       "      <th>FarCup44_mean_MISSING</th>\n",
       "      <th>FarCup45_mean_MISSING</th>\n",
       "      <th>FarCup46_mean_MISSING</th>\n",
       "      <th>FarCup47_mean_MISSING</th>\n",
       "      <th>FarCup48_mean_MISSING</th>\n",
       "      <th>FarCup49_mean_MISSING</th>\n",
       "      <th>FarCup50_mean_MISSING</th>\n",
       "    </tr>\n",
       "    <tr>\n",
       "      <th>datetime_DSCVR</th>\n",
       "      <th></th>\n",
       "      <th></th>\n",
       "      <th></th>\n",
       "      <th></th>\n",
       "      <th></th>\n",
       "      <th></th>\n",
       "      <th></th>\n",
       "      <th></th>\n",
       "      <th></th>\n",
       "      <th></th>\n",
       "      <th></th>\n",
       "      <th></th>\n",
       "      <th></th>\n",
       "      <th></th>\n",
       "      <th></th>\n",
       "      <th></th>\n",
       "      <th></th>\n",
       "      <th></th>\n",
       "      <th></th>\n",
       "      <th></th>\n",
       "      <th></th>\n",
       "    </tr>\n",
       "  </thead>\n",
       "  <tbody>\n",
       "    <tr>\n",
       "      <th>2016-07-01 03:00:00</th>\n",
       "      <td>0.265339</td>\n",
       "      <td>3.261504</td>\n",
       "      <td>0.045978</td>\n",
       "      <td>0.0</td>\n",
       "      <td>0.0</td>\n",
       "      <td>0.0</td>\n",
       "      <td>0.0</td>\n",
       "      <td>356.221008</td>\n",
       "      <td>333.408844</td>\n",
       "      <td>349.227417</td>\n",
       "      <td>...</td>\n",
       "      <td>0.0</td>\n",
       "      <td>0.0</td>\n",
       "      <td>0.0</td>\n",
       "      <td>0.0</td>\n",
       "      <td>0.0</td>\n",
       "      <td>0.0</td>\n",
       "      <td>0.0</td>\n",
       "      <td>0.0</td>\n",
       "      <td>0.0</td>\n",
       "      <td>0.0</td>\n",
       "    </tr>\n",
       "    <tr>\n",
       "      <th>2016-07-01 06:00:00</th>\n",
       "      <td>0.924653</td>\n",
       "      <td>1.763291</td>\n",
       "      <td>-0.228962</td>\n",
       "      <td>0.0</td>\n",
       "      <td>0.0</td>\n",
       "      <td>0.0</td>\n",
       "      <td>0.0</td>\n",
       "      <td>0.000000</td>\n",
       "      <td>0.000000</td>\n",
       "      <td>351.975861</td>\n",
       "      <td>...</td>\n",
       "      <td>0.0</td>\n",
       "      <td>0.0</td>\n",
       "      <td>0.0</td>\n",
       "      <td>0.0</td>\n",
       "      <td>0.0</td>\n",
       "      <td>0.0</td>\n",
       "      <td>0.0</td>\n",
       "      <td>0.0</td>\n",
       "      <td>0.0</td>\n",
       "      <td>0.0</td>\n",
       "    </tr>\n",
       "    <tr>\n",
       "      <th>2016-07-01 09:00:00</th>\n",
       "      <td>-0.770110</td>\n",
       "      <td>2.431628</td>\n",
       "      <td>-1.294382</td>\n",
       "      <td>0.0</td>\n",
       "      <td>0.0</td>\n",
       "      <td>0.0</td>\n",
       "      <td>0.0</td>\n",
       "      <td>0.000000</td>\n",
       "      <td>0.000000</td>\n",
       "      <td>356.851501</td>\n",
       "      <td>...</td>\n",
       "      <td>0.0</td>\n",
       "      <td>0.0</td>\n",
       "      <td>0.0</td>\n",
       "      <td>0.0</td>\n",
       "      <td>0.0</td>\n",
       "      <td>0.0</td>\n",
       "      <td>0.0</td>\n",
       "      <td>0.0</td>\n",
       "      <td>0.0</td>\n",
       "      <td>0.0</td>\n",
       "    </tr>\n",
       "    <tr>\n",
       "      <th>2016-07-01 12:00:00</th>\n",
       "      <td>1.719482</td>\n",
       "      <td>3.512640</td>\n",
       "      <td>-0.144519</td>\n",
       "      <td>0.0</td>\n",
       "      <td>0.0</td>\n",
       "      <td>0.0</td>\n",
       "      <td>0.0</td>\n",
       "      <td>360.278992</td>\n",
       "      <td>340.138000</td>\n",
       "      <td>355.934662</td>\n",
       "      <td>...</td>\n",
       "      <td>0.0</td>\n",
       "      <td>0.0</td>\n",
       "      <td>0.0</td>\n",
       "      <td>0.0</td>\n",
       "      <td>0.0</td>\n",
       "      <td>0.0</td>\n",
       "      <td>0.0</td>\n",
       "      <td>0.0</td>\n",
       "      <td>0.0</td>\n",
       "      <td>0.0</td>\n",
       "    </tr>\n",
       "    <tr>\n",
       "      <th>2016-07-01 15:00:00</th>\n",
       "      <td>-1.733990</td>\n",
       "      <td>1.799461</td>\n",
       "      <td>-0.555546</td>\n",
       "      <td>0.0</td>\n",
       "      <td>0.0</td>\n",
       "      <td>0.0</td>\n",
       "      <td>0.0</td>\n",
       "      <td>354.485992</td>\n",
       "      <td>335.147217</td>\n",
       "      <td>348.999878</td>\n",
       "      <td>...</td>\n",
       "      <td>0.0</td>\n",
       "      <td>0.0</td>\n",
       "      <td>0.0</td>\n",
       "      <td>0.0</td>\n",
       "      <td>0.0</td>\n",
       "      <td>0.0</td>\n",
       "      <td>0.0</td>\n",
       "      <td>0.0</td>\n",
       "      <td>0.0</td>\n",
       "      <td>0.0</td>\n",
       "    </tr>\n",
       "  </tbody>\n",
       "</table>\n",
       "<p>5 rows × 374 columns</p>\n",
       "</div>"
      ],
      "text/plain": [
       "                     MagFieldVect_Comp1_mean  MagFieldVect_Comp2_mean  \\\n",
       "datetime_DSCVR                                                          \n",
       "2016-07-01 03:00:00                 0.265339                 3.261504   \n",
       "2016-07-01 06:00:00                 0.924653                 1.763291   \n",
       "2016-07-01 09:00:00                -0.770110                 2.431628   \n",
       "2016-07-01 12:00:00                 1.719482                 3.512640   \n",
       "2016-07-01 15:00:00                -1.733990                 1.799461   \n",
       "\n",
       "                     MagFieldVect_Comp3_mean  FarCup1_mean  FarCup2_mean  \\\n",
       "datetime_DSCVR                                                             \n",
       "2016-07-01 03:00:00                 0.045978           0.0           0.0   \n",
       "2016-07-01 06:00:00                -0.228962           0.0           0.0   \n",
       "2016-07-01 09:00:00                -1.294382           0.0           0.0   \n",
       "2016-07-01 12:00:00                -0.144519           0.0           0.0   \n",
       "2016-07-01 15:00:00                -0.555546           0.0           0.0   \n",
       "\n",
       "                     FarCup3_mean  FarCup4_mean  FarCup5_mean  FarCup6_mean  \\\n",
       "datetime_DSCVR                                                                \n",
       "2016-07-01 03:00:00           0.0           0.0    356.221008    333.408844   \n",
       "2016-07-01 06:00:00           0.0           0.0      0.000000      0.000000   \n",
       "2016-07-01 09:00:00           0.0           0.0      0.000000      0.000000   \n",
       "2016-07-01 12:00:00           0.0           0.0    360.278992    340.138000   \n",
       "2016-07-01 15:00:00           0.0           0.0    354.485992    335.147217   \n",
       "\n",
       "                     FarCup7_mean  ...  FarCup41_mean_MISSING  \\\n",
       "datetime_DSCVR                     ...                          \n",
       "2016-07-01 03:00:00    349.227417  ...                    0.0   \n",
       "2016-07-01 06:00:00    351.975861  ...                    0.0   \n",
       "2016-07-01 09:00:00    356.851501  ...                    0.0   \n",
       "2016-07-01 12:00:00    355.934662  ...                    0.0   \n",
       "2016-07-01 15:00:00    348.999878  ...                    0.0   \n",
       "\n",
       "                     FarCup42_mean_MISSING  FarCup43_mean_MISSING  \\\n",
       "datetime_DSCVR                                                      \n",
       "2016-07-01 03:00:00                    0.0                    0.0   \n",
       "2016-07-01 06:00:00                    0.0                    0.0   \n",
       "2016-07-01 09:00:00                    0.0                    0.0   \n",
       "2016-07-01 12:00:00                    0.0                    0.0   \n",
       "2016-07-01 15:00:00                    0.0                    0.0   \n",
       "\n",
       "                     FarCup44_mean_MISSING  FarCup45_mean_MISSING  \\\n",
       "datetime_DSCVR                                                      \n",
       "2016-07-01 03:00:00                    0.0                    0.0   \n",
       "2016-07-01 06:00:00                    0.0                    0.0   \n",
       "2016-07-01 09:00:00                    0.0                    0.0   \n",
       "2016-07-01 12:00:00                    0.0                    0.0   \n",
       "2016-07-01 15:00:00                    0.0                    0.0   \n",
       "\n",
       "                     FarCup46_mean_MISSING  FarCup47_mean_MISSING  \\\n",
       "datetime_DSCVR                                                      \n",
       "2016-07-01 03:00:00                    0.0                    0.0   \n",
       "2016-07-01 06:00:00                    0.0                    0.0   \n",
       "2016-07-01 09:00:00                    0.0                    0.0   \n",
       "2016-07-01 12:00:00                    0.0                    0.0   \n",
       "2016-07-01 15:00:00                    0.0                    0.0   \n",
       "\n",
       "                     FarCup48_mean_MISSING  FarCup49_mean_MISSING  \\\n",
       "datetime_DSCVR                                                      \n",
       "2016-07-01 03:00:00                    0.0                    0.0   \n",
       "2016-07-01 06:00:00                    0.0                    0.0   \n",
       "2016-07-01 09:00:00                    0.0                    0.0   \n",
       "2016-07-01 12:00:00                    0.0                    0.0   \n",
       "2016-07-01 15:00:00                    0.0                    0.0   \n",
       "\n",
       "                     FarCup50_mean_MISSING  \n",
       "datetime_DSCVR                              \n",
       "2016-07-01 03:00:00                    0.0  \n",
       "2016-07-01 06:00:00                    0.0  \n",
       "2016-07-01 09:00:00                    0.0  \n",
       "2016-07-01 12:00:00                    0.0  \n",
       "2016-07-01 15:00:00                    0.0  \n",
       "\n",
       "[5 rows x 374 columns]"
      ]
     },
     "execution_count": 8,
     "metadata": {},
     "output_type": "execute_result"
    }
   ],
   "source": [
    "df.head()"
   ]
  },
  {
   "cell_type": "code",
   "execution_count": 9,
   "metadata": {},
   "outputs": [
    {
     "data": {
      "text/plain": [
       "MagFieldVect_Comp1_mean    float32\n",
       "MagFieldVect_Comp2_mean    float32\n",
       "MagFieldVect_Comp3_mean    float32\n",
       "FarCup1_mean               float32\n",
       "FarCup2_mean               float32\n",
       "                            ...   \n",
       "FarCup46_mean_MISSING      float32\n",
       "FarCup47_mean_MISSING      float32\n",
       "FarCup48_mean_MISSING      float32\n",
       "FarCup49_mean_MISSING      float32\n",
       "FarCup50_mean_MISSING      float32\n",
       "Length: 374, dtype: object"
      ]
     },
     "execution_count": 9,
     "metadata": {},
     "output_type": "execute_result"
    }
   ],
   "source": [
    "df.dtypes"
   ]
  },
  {
   "cell_type": "code",
   "execution_count": 10,
   "metadata": {},
   "outputs": [
    {
     "name": "stdout",
     "output_type": "stream",
     "text": [
      "2016-07-01 03:00:00\n",
      "2023-05-03 00:00:00\n"
     ]
    }
   ],
   "source": [
    "#show range of dates in df\n",
    "print(df.index.min())\n",
    "print(df.index.max())\n",
    " \n",
    "  "
   ]
  },
  {
   "cell_type": "code",
   "execution_count": 11,
   "metadata": {},
   "outputs": [
    {
     "data": {
      "text/plain": [
       "['MagFieldVect_Comp1_mean',\n",
       " 'MagFieldVect_Comp2_mean',\n",
       " 'MagFieldVect_Comp3_mean',\n",
       " 'FarCup1_mean',\n",
       " 'FarCup2_mean',\n",
       " 'FarCup3_mean',\n",
       " 'FarCup4_mean',\n",
       " 'FarCup5_mean',\n",
       " 'FarCup6_mean',\n",
       " 'FarCup7_mean',\n",
       " 'FarCup8_mean',\n",
       " 'FarCup9_mean',\n",
       " 'FarCup10_mean',\n",
       " 'FarCup11_mean',\n",
       " 'FarCup12_mean',\n",
       " 'FarCup13_mean',\n",
       " 'FarCup14_mean',\n",
       " 'FarCup15_mean',\n",
       " 'FarCup16_mean',\n",
       " 'FarCup17_mean',\n",
       " 'FarCup18_mean',\n",
       " 'FarCup19_mean',\n",
       " 'FarCup20_mean',\n",
       " 'FarCup21_mean',\n",
       " 'FarCup22_mean',\n",
       " 'FarCup23_mean',\n",
       " 'FarCup24_mean',\n",
       " 'FarCup25_mean',\n",
       " 'FarCup26_mean',\n",
       " 'FarCup27_mean',\n",
       " 'FarCup28_mean',\n",
       " 'FarCup29_mean',\n",
       " 'FarCup30_mean',\n",
       " 'FarCup31_mean',\n",
       " 'FarCup32_mean',\n",
       " 'FarCup33_mean',\n",
       " 'FarCup34_mean',\n",
       " 'FarCup35_mean',\n",
       " 'FarCup36_mean',\n",
       " 'FarCup37_mean',\n",
       " 'FarCup38_mean',\n",
       " 'FarCup39_mean',\n",
       " 'FarCup40_mean',\n",
       " 'FarCup41_mean',\n",
       " 'FarCup42_mean',\n",
       " 'FarCup43_mean',\n",
       " 'FarCup44_mean',\n",
       " 'FarCup45_mean',\n",
       " 'FarCup46_mean',\n",
       " 'FarCup47_mean',\n",
       " 'FarCup48_mean',\n",
       " 'FarCup49_mean',\n",
       " 'FarCup50_mean',\n",
       " 'MagFieldVect_Comp1_range',\n",
       " 'MagFieldVect_Comp2_range',\n",
       " 'MagFieldVect_Comp3_range',\n",
       " 'FarCup1_range',\n",
       " 'FarCup2_range',\n",
       " 'FarCup3_range',\n",
       " 'FarCup4_range',\n",
       " 'FarCup5_range',\n",
       " 'FarCup6_range',\n",
       " 'FarCup7_range',\n",
       " 'FarCup8_range',\n",
       " 'FarCup9_range',\n",
       " 'FarCup10_range',\n",
       " 'FarCup11_range',\n",
       " 'FarCup12_range',\n",
       " 'FarCup13_range',\n",
       " 'FarCup14_range',\n",
       " 'FarCup15_range',\n",
       " 'FarCup16_range',\n",
       " 'FarCup17_range',\n",
       " 'FarCup18_range',\n",
       " 'FarCup19_range',\n",
       " 'FarCup20_range',\n",
       " 'FarCup21_range',\n",
       " 'FarCup22_range',\n",
       " 'FarCup23_range',\n",
       " 'FarCup24_range',\n",
       " 'FarCup25_range',\n",
       " 'FarCup26_range',\n",
       " 'FarCup27_range',\n",
       " 'FarCup28_range',\n",
       " 'FarCup29_range',\n",
       " 'FarCup30_range',\n",
       " 'FarCup31_range',\n",
       " 'FarCup32_range',\n",
       " 'FarCup33_range',\n",
       " 'FarCup34_range',\n",
       " 'FarCup35_range',\n",
       " 'FarCup36_range',\n",
       " 'FarCup37_range',\n",
       " 'FarCup38_range',\n",
       " 'FarCup39_range',\n",
       " 'FarCup40_range',\n",
       " 'FarCup41_range',\n",
       " 'FarCup42_range',\n",
       " 'FarCup43_range',\n",
       " 'FarCup44_range',\n",
       " 'FarCup45_range',\n",
       " 'FarCup46_range',\n",
       " 'FarCup47_range',\n",
       " 'FarCup48_range',\n",
       " 'FarCup49_range',\n",
       " 'FarCup50_range',\n",
       " 'MagFieldVect_Comp1_min',\n",
       " 'MagFieldVect_Comp2_min',\n",
       " 'MagFieldVect_Comp3_min',\n",
       " 'FarCup1_min',\n",
       " 'FarCup2_min',\n",
       " 'FarCup3_min',\n",
       " 'FarCup4_min',\n",
       " 'FarCup5_min',\n",
       " 'FarCup6_min',\n",
       " 'FarCup7_min',\n",
       " 'FarCup8_min',\n",
       " 'FarCup9_min',\n",
       " 'FarCup10_min',\n",
       " 'FarCup11_min',\n",
       " 'FarCup12_min',\n",
       " 'FarCup13_min',\n",
       " 'FarCup14_min',\n",
       " 'FarCup15_min',\n",
       " 'FarCup16_min',\n",
       " 'FarCup17_min',\n",
       " 'FarCup18_min',\n",
       " 'FarCup19_min',\n",
       " 'FarCup20_min',\n",
       " 'FarCup21_min',\n",
       " 'FarCup22_min',\n",
       " 'FarCup23_min',\n",
       " 'FarCup24_min',\n",
       " 'FarCup25_min',\n",
       " 'FarCup26_min',\n",
       " 'FarCup27_min',\n",
       " 'FarCup28_min',\n",
       " 'FarCup29_min',\n",
       " 'FarCup30_min',\n",
       " 'FarCup31_min',\n",
       " 'FarCup32_min',\n",
       " 'FarCup33_min',\n",
       " 'FarCup34_min',\n",
       " 'FarCup35_min',\n",
       " 'FarCup36_min',\n",
       " 'FarCup37_min',\n",
       " 'FarCup38_min',\n",
       " 'FarCup39_min',\n",
       " 'FarCup40_min',\n",
       " 'FarCup41_min',\n",
       " 'FarCup42_min',\n",
       " 'FarCup43_min',\n",
       " 'FarCup44_min',\n",
       " 'FarCup45_min',\n",
       " 'FarCup46_min',\n",
       " 'FarCup47_min',\n",
       " 'FarCup48_min',\n",
       " 'FarCup49_min',\n",
       " 'FarCup50_min',\n",
       " 'MagFieldVect_Comp1_max',\n",
       " 'MagFieldVect_Comp2_max',\n",
       " 'MagFieldVect_Comp3_max',\n",
       " 'FarCup1_max',\n",
       " 'FarCup2_max',\n",
       " 'FarCup3_max',\n",
       " 'FarCup4_max',\n",
       " 'FarCup5_max',\n",
       " 'FarCup6_max',\n",
       " 'FarCup7_max',\n",
       " 'FarCup8_max',\n",
       " 'FarCup9_max',\n",
       " 'FarCup10_max',\n",
       " 'FarCup11_max',\n",
       " 'FarCup12_max',\n",
       " 'FarCup13_max',\n",
       " 'FarCup14_max',\n",
       " 'FarCup15_max',\n",
       " 'FarCup16_max',\n",
       " 'FarCup17_max',\n",
       " 'FarCup18_max',\n",
       " 'FarCup19_max',\n",
       " 'FarCup20_max',\n",
       " 'FarCup21_max',\n",
       " 'FarCup22_max',\n",
       " 'FarCup23_max',\n",
       " 'FarCup24_max',\n",
       " 'FarCup25_max',\n",
       " 'FarCup26_max',\n",
       " 'FarCup27_max',\n",
       " 'FarCup28_max',\n",
       " 'FarCup29_max',\n",
       " 'FarCup30_max',\n",
       " 'FarCup31_max',\n",
       " 'FarCup32_max',\n",
       " 'FarCup33_max',\n",
       " 'FarCup34_max',\n",
       " 'FarCup35_max',\n",
       " 'FarCup36_max',\n",
       " 'FarCup37_max',\n",
       " 'FarCup38_max',\n",
       " 'FarCup39_max',\n",
       " 'FarCup40_max',\n",
       " 'FarCup41_max',\n",
       " 'FarCup42_max',\n",
       " 'FarCup43_max',\n",
       " 'FarCup44_max',\n",
       " 'FarCup45_max',\n",
       " 'FarCup46_max',\n",
       " 'FarCup47_max',\n",
       " 'FarCup48_max',\n",
       " 'FarCup49_max',\n",
       " 'FarCup50_max',\n",
       " 'MagFieldVect_Comp1_median',\n",
       " 'MagFieldVect_Comp2_median',\n",
       " 'MagFieldVect_Comp3_median',\n",
       " 'FarCup1_median',\n",
       " 'FarCup2_median',\n",
       " 'FarCup3_median',\n",
       " 'FarCup4_median',\n",
       " 'FarCup5_median',\n",
       " 'FarCup6_median',\n",
       " 'FarCup7_median',\n",
       " 'FarCup8_median',\n",
       " 'FarCup9_median',\n",
       " 'FarCup10_median',\n",
       " 'FarCup11_median',\n",
       " 'FarCup12_median',\n",
       " 'FarCup13_median',\n",
       " 'FarCup14_median',\n",
       " 'FarCup15_median',\n",
       " 'FarCup16_median',\n",
       " 'FarCup17_median',\n",
       " 'FarCup18_median',\n",
       " 'FarCup19_median',\n",
       " 'FarCup20_median',\n",
       " 'FarCup21_median',\n",
       " 'FarCup22_median',\n",
       " 'FarCup23_median',\n",
       " 'FarCup24_median',\n",
       " 'FarCup25_median',\n",
       " 'FarCup26_median',\n",
       " 'FarCup27_median',\n",
       " 'FarCup28_median',\n",
       " 'FarCup29_median',\n",
       " 'FarCup30_median',\n",
       " 'FarCup31_median',\n",
       " 'FarCup32_median',\n",
       " 'FarCup33_median',\n",
       " 'FarCup34_median',\n",
       " 'FarCup35_median',\n",
       " 'FarCup36_median',\n",
       " 'FarCup37_median',\n",
       " 'FarCup38_median',\n",
       " 'FarCup39_median',\n",
       " 'FarCup40_median',\n",
       " 'FarCup41_median',\n",
       " 'FarCup42_median',\n",
       " 'FarCup43_median',\n",
       " 'FarCup44_median',\n",
       " 'FarCup45_median',\n",
       " 'FarCup46_median',\n",
       " 'FarCup47_median',\n",
       " 'FarCup48_median',\n",
       " 'FarCup49_median',\n",
       " 'FarCup50_median',\n",
       " 'MagFieldVect_Comp1_nan',\n",
       " 'MagFieldVect_Comp2_nan',\n",
       " 'MagFieldVect_Comp3_nan',\n",
       " 'FarCup1_nan',\n",
       " 'FarCup2_nan',\n",
       " 'FarCup3_nan',\n",
       " 'FarCup4_nan',\n",
       " 'FarCup5_nan',\n",
       " 'FarCup6_nan',\n",
       " 'FarCup7_nan',\n",
       " 'FarCup8_nan',\n",
       " 'FarCup9_nan',\n",
       " 'FarCup10_nan',\n",
       " 'FarCup11_nan',\n",
       " 'FarCup12_nan',\n",
       " 'FarCup13_nan',\n",
       " 'FarCup14_nan',\n",
       " 'FarCup15_nan',\n",
       " 'FarCup16_nan',\n",
       " 'FarCup17_nan',\n",
       " 'FarCup18_nan',\n",
       " 'FarCup19_nan',\n",
       " 'FarCup20_nan',\n",
       " 'FarCup21_nan',\n",
       " 'FarCup22_nan',\n",
       " 'FarCup23_nan',\n",
       " 'FarCup24_nan',\n",
       " 'FarCup25_nan',\n",
       " 'FarCup26_nan',\n",
       " 'FarCup27_nan',\n",
       " 'FarCup28_nan',\n",
       " 'FarCup29_nan',\n",
       " 'FarCup30_nan',\n",
       " 'FarCup31_nan',\n",
       " 'FarCup32_nan',\n",
       " 'FarCup33_nan',\n",
       " 'FarCup34_nan',\n",
       " 'FarCup35_nan',\n",
       " 'FarCup36_nan',\n",
       " 'FarCup37_nan',\n",
       " 'FarCup38_nan',\n",
       " 'FarCup39_nan',\n",
       " 'FarCup40_nan',\n",
       " 'FarCup41_nan',\n",
       " 'FarCup42_nan',\n",
       " 'FarCup43_nan',\n",
       " 'FarCup44_nan',\n",
       " 'FarCup45_nan',\n",
       " 'FarCup46_nan',\n",
       " 'FarCup47_nan',\n",
       " 'FarCup48_nan',\n",
       " 'FarCup49_nan',\n",
       " 'FarCup50_nan',\n",
       " 'Kp',\n",
       " 'ap',\n",
       " 'Kp_class',\n",
       " 'MagFieldVect_Comp1_mean_MISSING',\n",
       " 'MagFieldVect_Comp2_mean_MISSING',\n",
       " 'MagFieldVect_Comp3_mean_MISSING',\n",
       " 'FarCup1_mean_MISSING',\n",
       " 'FarCup2_mean_MISSING',\n",
       " 'FarCup3_mean_MISSING',\n",
       " 'FarCup4_mean_MISSING',\n",
       " 'FarCup5_mean_MISSING',\n",
       " 'FarCup6_mean_MISSING',\n",
       " 'FarCup7_mean_MISSING',\n",
       " 'FarCup8_mean_MISSING',\n",
       " 'FarCup9_mean_MISSING',\n",
       " 'FarCup10_mean_MISSING',\n",
       " 'FarCup11_mean_MISSING',\n",
       " 'FarCup12_mean_MISSING',\n",
       " 'FarCup13_mean_MISSING',\n",
       " 'FarCup14_mean_MISSING',\n",
       " 'FarCup15_mean_MISSING',\n",
       " 'FarCup16_mean_MISSING',\n",
       " 'FarCup17_mean_MISSING',\n",
       " 'FarCup18_mean_MISSING',\n",
       " 'FarCup19_mean_MISSING',\n",
       " 'FarCup20_mean_MISSING',\n",
       " 'FarCup21_mean_MISSING',\n",
       " 'FarCup22_mean_MISSING',\n",
       " 'FarCup23_mean_MISSING',\n",
       " 'FarCup24_mean_MISSING',\n",
       " 'FarCup25_mean_MISSING',\n",
       " 'FarCup26_mean_MISSING',\n",
       " 'FarCup27_mean_MISSING',\n",
       " 'FarCup28_mean_MISSING',\n",
       " 'FarCup29_mean_MISSING',\n",
       " 'FarCup30_mean_MISSING',\n",
       " 'FarCup31_mean_MISSING',\n",
       " 'FarCup32_mean_MISSING',\n",
       " 'FarCup33_mean_MISSING',\n",
       " 'FarCup34_mean_MISSING',\n",
       " 'FarCup35_mean_MISSING',\n",
       " 'FarCup36_mean_MISSING',\n",
       " 'FarCup37_mean_MISSING',\n",
       " 'FarCup38_mean_MISSING',\n",
       " 'FarCup39_mean_MISSING',\n",
       " 'FarCup40_mean_MISSING',\n",
       " 'FarCup41_mean_MISSING',\n",
       " 'FarCup42_mean_MISSING',\n",
       " 'FarCup43_mean_MISSING',\n",
       " 'FarCup44_mean_MISSING',\n",
       " 'FarCup45_mean_MISSING',\n",
       " 'FarCup46_mean_MISSING',\n",
       " 'FarCup47_mean_MISSING',\n",
       " 'FarCup48_mean_MISSING',\n",
       " 'FarCup49_mean_MISSING',\n",
       " 'FarCup50_mean_MISSING']"
      ]
     },
     "execution_count": 11,
     "metadata": {},
     "output_type": "execute_result"
    }
   ],
   "source": [
    "list(df.columns)"
   ]
  },
  {
   "cell_type": "markdown",
   "metadata": {},
   "source": [
    "# Splitting data\n",
    "## Method 1: Sklearn Time Series Split\n",
    "Time Series cross-validator\n",
    "\n",
    "Provides train/test indices to split time series data samples that are observed at fixed time intervals, in train/test sets. In each split, test indices must be higher than before, and thus shuffling in cross validator is inappropriate.\n",
    "\n",
    "This cross-validation object is a variation of KFold. In the kth split, it returns first k folds as train set and the (k+1)th fold as test set.\n",
    "\n",
    "Note that unlike standard cross-validation methods, successive training sets are supersets of those that come before them."
   ]
  },
  {
   "cell_type": "code",
   "execution_count": 12,
   "metadata": {},
   "outputs": [],
   "source": [
    "from sklearn.model_selection import TimeSeriesSplit\n",
    "import pandas as pd\n",
    "\n",
    "# Assuming df is your DataFrame containing the data and 'Kp_class' is your target variable\n",
    "\n",
    "# Define the number of splits (e.g., 5 for 5-fold cross-validation)\n",
    "n_splits = 5\n",
    "\n",
    "# Initialize TimeSeriesSplit\n",
    "tscv = TimeSeriesSplit(n_splits=n_splits)\n",
    "\n",
    "# Split your data into training and testing sets using TimeSeriesSplit\n",
    "for train_index, test_index in tscv.split(df):\n",
    "    # Split your DataFrame into training and testing sets based on the indices\n",
    "    train_data, test_data = df.iloc[train_index], df.iloc[test_index]\n",
    "    \n",
    "    # Separate the target variable 'Kp_class'\n",
    "    X_train, y_train = train_data.drop(columns=['Kp_class']), train_data['Kp_class']\n",
    "    X_test, y_test = test_data.drop(columns=['Kp_class']), test_data['Kp_class']\n",
    "    \n",
    "    # Your code for model training and evaluation goes here for each fold\n",
    "    # For example:\n",
    "    \n",
    "    # Train your model on X_train and y_train\n",
    "    # model.fit(X_train, y_train)\n",
    "    \n",
    "    # Evaluate your model on X_test and y_test\n",
    "    # score = model.score(X_test, y_test)\n",
    "    \n",
    "    # Print or store the results for each fold\n",
    "    # print(f'Fold {fold}: Score = {score}')\n",
    "\n",
    "# You can iterate through the splits to perform cross-validation for time series data\n"
   ]
  },
  {
   "cell_type": "code",
   "execution_count": 13,
   "metadata": {},
   "outputs": [
    {
     "data": {
      "text/plain": [
       "(15035, 373)"
      ]
     },
     "execution_count": 13,
     "metadata": {},
     "output_type": "execute_result"
    }
   ],
   "source": [
    "X_train.shape"
   ]
  },
  {
   "cell_type": "code",
   "execution_count": 14,
   "metadata": {},
   "outputs": [
    {
     "data": {
      "text/plain": [
       "(3006,)"
      ]
     },
     "execution_count": 14,
     "metadata": {},
     "output_type": "execute_result"
    }
   ],
   "source": [
    "y_test.shape"
   ]
  },
  {
   "cell_type": "code",
   "execution_count": 15,
   "metadata": {},
   "outputs": [
    {
     "data": {
      "image/png": "[encoded data removed]",
      "text/plain": [
       "<Figure size 1500x500 with 1 Axes>"
      ]
     },
     "metadata": {},
     "output_type": "display_data"
    }
   ],
   "source": [
    "#plot train and test data\n",
    "plt.figure(figsize=(15,5))\n",
    "plt.plot(X_train.index, y_train, label='train')\n",
    "plt.plot(X_test.index, y_test, label='test')\n",
    "plt.legend(loc='best')\n",
    "plt.title('Train and Test Data')\n",
    "plt.show()\n",
    "\n"
   ]
  },
  {
   "cell_type": "markdown",
   "metadata": {},
   "source": [
    "## Method 2: Splitting on datetime\n",
    "\n",
    "We take until 2021 as train and after 2021 as test, approximately 80-20% approach\n",
    "\n",
    "- If we have 18041 rows, 80% should be about 14432 records"
   ]
  },
  {
   "cell_type": "markdown",
   "metadata": {},
   "source": [
    "### Following Alfonso's notebook"
   ]
  },
  {
   "cell_type": "code",
   "execution_count": 16,
   "metadata": {},
   "outputs": [
    {
     "name": "stdout",
     "output_type": "stream",
     "text": [
      "(15035, 374)\n",
      "(3006, 374)\n"
     ]
    }
   ],
   "source": [
    "#split df in train and test. Until 2022-01-01 is train, after is test. 'Kp_class' is your target variable\n",
    "train = df.loc[:'2022-01-01']\n",
    "test = df.loc['2022-01-01':]\n",
    "\n",
    "print(train_data.shape)\n",
    "print(test_data.shape)  \n"
   ]
  },
  {
   "cell_type": "code",
   "execution_count": 17,
   "metadata": {},
   "outputs": [],
   "source": [
    "#apply minmax scaler to train and test data\n",
    "from sklearn.preprocessing import MinMaxScaler\n",
    "scaler = MinMaxScaler(feature_range=(0, 1)) \n",
    "train_scaled = scaler.fit_transform(train_data)\n",
    "test_scaled = scaler.fit_transform(test_data)\n"
   ]
  },
  {
   "cell_type": "code",
   "execution_count": 18,
   "metadata": {},
   "outputs": [],
   "source": [
    "#We need to create empty lists as we are going to use for loop to append the values\n",
    "X_train = []\n",
    "y_train = []\n",
    "\n",
    "#We select windows size as 24, as we have 24 hours seasonality\n",
    "WS = 240\n",
    "#240 corresponds to 3 months as we have multiples of 3"
   ]
  },
  {
   "cell_type": "code",
   "execution_count": 19,
   "metadata": {},
   "outputs": [],
   "source": [
    "#Now, we create the for loop for creating our X_train and y_train\n",
    "for i in range(WS, len(train_scaled)):\n",
    "    X_train.append(train_scaled[i-WS:i,0:1]) #We are using the append method and we are saying, go to train_scaled and select the values from i-WS to i, and select the first column. With that, we would have different batches of 24, 24... So, first batch is the first 24 hours, then the second batch is from 1 to 25, and so on.\n",
    "    y_train.append(train_scaled[i,0]) #For the y_train we are doing pretty much the same thing but we are just selecting the next value, so if first batch covers from 0 to 23, the y_train will be 24, and so on.\n",
    "\n",
    "#Finally we have to convert the X_train and y_train into numpy arrays\n",
    "X_train, y_train = np.array(X_train), np.array(y_train)"
   ]
  },
  {
   "cell_type": "code",
   "execution_count": 20,
   "metadata": {},
   "outputs": [],
   "source": [
    "# Separate the target variable 'Kp_class'\n",
    "X_train, y_train = train_data.drop(columns=['Kp','ap','Kp_class']), train_data['Kp']\n",
    "X_test, y_test = test_data.drop(columns=['Kp','ap','Kp_class']), test_data['Kp']"
   ]
  },
  {
   "cell_type": "code",
   "execution_count": 21,
   "metadata": {},
   "outputs": [
    {
     "name": "stderr",
     "output_type": "stream",
     "text": [
      "2023-10-08 16:04:22.196339: E tensorflow/compiler/xla/stream_executor/cuda/cuda_dnn.cc:9342] Unable to register cuDNN factory: Attempting to register factory for plugin cuDNN when one has already been registered\n",
      "2023-10-08 16:04:22.196393: E tensorflow/compiler/xla/stream_executor/cuda/cuda_fft.cc:609] Unable to register cuFFT factory: Attempting to register factory for plugin cuFFT when one has already been registered\n",
      "2023-10-08 16:04:22.196416: E tensorflow/compiler/xla/stream_executor/cuda/cuda_blas.cc:1518] Unable to register cuBLAS factory: Attempting to register factory for plugin cuBLAS when one has already been registered\n",
      "2023-10-08 16:04:22.210179: I tensorflow/core/platform/cpu_feature_guard.cc:182] This TensorFlow binary is optimized to use available CPU instructions in performance-critical operations.\n",
      "To enable the following instructions: AVX2 FMA, in other operations, rebuild TensorFlow with the appropriate compiler flags.\n"
     ]
    }
   ],
   "source": [
    "import tensorflow as tf"
   ]
  },
  {
   "cell_type": "code",
   "execution_count": 22,
   "metadata": {},
   "outputs": [],
   "source": [
    "#change all columns that are float 64 to float 32\n",
    "tf.keras.backend.set_floatx('float32')"
   ]
  },
  {
   "cell_type": "code",
   "execution_count": 23,
   "metadata": {},
   "outputs": [],
   "source": [
    "#First, we will import the necessary libraries\n",
    "from keras.models import Sequential\n",
    "from keras.layers import Dense\n",
    "from keras.layers import LSTM\n",
    "from keras.layers import Dropout"
   ]
  },
  {
   "cell_type": "code",
   "execution_count": 24,
   "metadata": {},
   "outputs": [],
   "source": [
    "Model_P = Sequential() #We create an object of the Sequential class"
   ]
  },
  {
   "cell_type": "code",
   "execution_count": null,
   "metadata": {},
   "outputs": [],
   "source": [
    "#Now, we have to create our layers inside the model created\n",
    "Model_P.add(LSTM(units=60, return_sequences=True, input_shape = (X_train.shape[1],1))) #The parameters here have been selected kind of randomly. What we should do in next iterations is applying hyperparameter tuning to find the best parameters. The input shape has to be defined on our first layer. This first layer is responsible for receiving the input values"
   ]
  },
  {
   "cell_type": "markdown",
   "metadata": {},
   "source": [
    "(X_train.shape[1],1). The last one is indicating the number of dimensions. Now, we just have one dimension, so it will be one. If we had more than one dimension, we would have to change this parameter."
   ]
  },
  {
   "cell_type": "code",
   "execution_count": null,
   "metadata": {},
   "outputs": [
    {
     "data": {
      "text/plain": [
       "240"
      ]
     },
     "execution_count": 36,
     "metadata": {},
     "output_type": "execute_result"
    }
   ],
   "source": [
    "X_train.shape[1]"
   ]
  },
  {
   "cell_type": "code",
   "execution_count": null,
   "metadata": {},
   "outputs": [],
   "source": [
    "#Now, prior to create the next layer, we will add the dropout regularization to avoid overfitting. Dropout works dropping some of neurons randomly\n",
    "Model_P.add(Dropout(0.2)) #By indicating 0.2, we are saying that 20% of the neurons will be dropped"
   ]
  },
  {
   "cell_type": "code",
   "execution_count": null,
   "metadata": {},
   "outputs": [],
   "source": [
    "#Now, we go to the next layer. It will be as the 1st one, but we don't need to specify the input shape. We will also add a dropout layer\n",
    "Model_P.add(LSTM(units=60, return_sequences=True))\n",
    "Model_P.add(Dropout(0.2))"
   ]
  },
  {
   "cell_type": "code",
   "execution_count": null,
   "metadata": {},
   "outputs": [],
   "source": [
    "#We add a 3rd layer\n",
    "Model_P.add(LSTM(units=60, return_sequences=True))\n",
    "Model_P.add(Dropout(0.2))"
   ]
  },
  {
   "cell_type": "code",
   "execution_count": null,
   "metadata": {},
   "outputs": [],
   "source": [
    "#Finally, we add a 4th layer. This time we won't return sequences, as we are not going to add more LSTM layers\n",
    "Model_P.add(LSTM(units=60))\n",
    "Model_P.add(Dropout(0.2))"
   ]
  },
  {
   "cell_type": "code",
   "execution_count": null,
   "metadata": {},
   "outputs": [],
   "source": [
    "#Now, we add the output layer\n",
    "Model_P.add(Dense(units=1)) #We just need to specify the number of units, which is 1, as we are just predicting one value"
   ]
  },
  {
   "cell_type": "code",
   "execution_count": null,
   "metadata": {},
   "outputs": [],
   "source": [
    "#Now, we need to compile the model\n",
    "Model_P.compile(optimizer='adam', loss='mean_squared_error') #When compiling, we need to specify the optimizer and the loss function. In this case, we are using adam optimizer (as it is good for time series), and mean squared error as loss function"
   ]
  },
  {
   "cell_type": "code",
   "execution_count": 43,
   "metadata": {},
   "outputs": [
    {
     "name": "stdout",
     "output_type": "stream",
     "text": [
      "Epoch 1/30\n"
     ]
    },
    {
     "name": "stderr",
     "output_type": "stream",
     "text": [
      "2023-10-08 16:01:42.484299: I tensorflow/compiler/xla/stream_executor/cuda/cuda_dnn.cc:442] Loaded cuDNN version 8700\n",
      "2023-10-08 16:01:43.719647: I tensorflow/compiler/xla/service/service.cc:168] XLA service 0x7f35680b5f80 initialized for platform CUDA (this does not guarantee that XLA will be used). Devices:\n",
      "2023-10-08 16:01:43.719683: I tensorflow/compiler/xla/service/service.cc:176]   StreamExecutor device (0): NVIDIA GeForce RTX 3060, Compute Capability 8.6\n",
      "2023-10-08 16:01:43.719690: I tensorflow/compiler/xla/service/service.cc:176]   StreamExecutor device (1): NVIDIA GeForce GTX 1650, Compute Capability 7.5\n",
      "2023-10-08 16:01:43.728103: I tensorflow/compiler/mlir/tensorflow/utils/dump_mlir_util.cc:269] disabling MLIR crash reproducer, set env var `MLIR_CRASH_REPRODUCER_DIRECTORY` to enable.\n",
      "2023-10-08 16:01:43.826652: I ./tensorflow/compiler/jit/device_compiler.h:186] Compiled cluster using XLA!  This line is logged at most once for the lifetime of the process.\n"
     ]
    },
    {
     "name": "stdout",
     "output_type": "stream",
     "text": [
      "133/463 [=======>......................] - ETA: 45s - loss: 0.0137"
     ]
    },
    {
     "ename": "KeyboardInterrupt",
     "evalue": "",
     "output_type": "error",
     "traceback": [
      "\u001b[0;31m---------------------------------------------------------------------------\u001b[0m",
      "\u001b[0;31mKeyboardInterrupt\u001b[0m                         Traceback (most recent call last)",
      "\u001b[1;32m/home/callysthenes/spaceapps_datathon/lstm_dscover.ipynb Cell 36\u001b[0m line \u001b[0;36m2\n\u001b[1;32m      <a href='vscode-notebook-cell://wsl%2Bubuntu/home/callysthenes/spaceapps_datathon/lstm_dscover.ipynb#Y156sdnNjb2RlLXJlbW90ZQ%3D%3D?line=0'>1</a>\u001b[0m \u001b[39m#Now, we will fit our model\u001b[39;00m\n\u001b[0;32m----> <a href='vscode-notebook-cell://wsl%2Bubuntu/home/callysthenes/spaceapps_datathon/lstm_dscover.ipynb#Y156sdnNjb2RlLXJlbW90ZQ%3D%3D?line=1'>2</a>\u001b[0m Model_P\u001b[39m.\u001b[39;49mfit(X_train, y_train, epochs \u001b[39m=\u001b[39;49m \u001b[39m30\u001b[39;49m, batch_size\u001b[39m=\u001b[39;49m \u001b[39m32\u001b[39;49m) \u001b[39m#Epochs mean number of iterations. We have to play with this parameter to find the best number of epochs. Batch size is the number of observations after which we want to update the weights. We can modify this parameter to find the best one.\u001b[39;00m\n",
      "File \u001b[0;32m~/.local/lib/python3.10/site-packages/keras/src/utils/traceback_utils.py:65\u001b[0m, in \u001b[0;36mfilter_traceback.<locals>.error_handler\u001b[0;34m(*args, **kwargs)\u001b[0m\n\u001b[1;32m     63\u001b[0m filtered_tb \u001b[39m=\u001b[39m \u001b[39mNone\u001b[39;00m\n\u001b[1;32m     64\u001b[0m \u001b[39mtry\u001b[39;00m:\n\u001b[0;32m---> 65\u001b[0m     \u001b[39mreturn\u001b[39;00m fn(\u001b[39m*\u001b[39;49margs, \u001b[39m*\u001b[39;49m\u001b[39m*\u001b[39;49mkwargs)\n\u001b[1;32m     66\u001b[0m \u001b[39mexcept\u001b[39;00m \u001b[39mException\u001b[39;00m \u001b[39mas\u001b[39;00m e:\n\u001b[1;32m     67\u001b[0m     filtered_tb \u001b[39m=\u001b[39m _process_traceback_frames(e\u001b[39m.\u001b[39m__traceback__)\n",
      "File \u001b[0;32m~/.local/lib/python3.10/site-packages/keras/src/engine/training.py:1789\u001b[0m, in \u001b[0;36mModel.fit\u001b[0;34m(self, x, y, batch_size, epochs, verbose, callbacks, validation_split, validation_data, shuffle, class_weight, sample_weight, initial_epoch, steps_per_epoch, validation_steps, validation_batch_size, validation_freq, max_queue_size, workers, use_multiprocessing)\u001b[0m\n\u001b[1;32m   1787\u001b[0m logs \u001b[39m=\u001b[39m tmp_logs\n\u001b[1;32m   1788\u001b[0m end_step \u001b[39m=\u001b[39m step \u001b[39m+\u001b[39m data_handler\u001b[39m.\u001b[39mstep_increment\n\u001b[0;32m-> 1789\u001b[0m callbacks\u001b[39m.\u001b[39;49mon_train_batch_end(end_step, logs)\n\u001b[1;32m   1790\u001b[0m \u001b[39mif\u001b[39;00m \u001b[39mself\u001b[39m\u001b[39m.\u001b[39mstop_training:\n\u001b[1;32m   1791\u001b[0m     \u001b[39mbreak\u001b[39;00m\n",
      "File \u001b[0;32m~/.local/lib/python3.10/site-packages/keras/src/callbacks.py:475\u001b[0m, in \u001b[0;36mCallbackList.on_train_batch_end\u001b[0;34m(self, batch, logs)\u001b[0m\n\u001b[1;32m    468\u001b[0m \u001b[39m\u001b[39m\u001b[39m\"\"\"Calls the `on_train_batch_end` methods of its callbacks.\u001b[39;00m\n\u001b[1;32m    469\u001b[0m \n\u001b[1;32m    470\u001b[0m \u001b[39mArgs:\u001b[39;00m\n\u001b[1;32m    471\u001b[0m \u001b[39m    batch: Integer, index of batch within the current epoch.\u001b[39;00m\n\u001b[1;32m    472\u001b[0m \u001b[39m    logs: Dict. Aggregated metric results up until this batch.\u001b[39;00m\n\u001b[1;32m    473\u001b[0m \u001b[39m\"\"\"\u001b[39;00m\n\u001b[1;32m    474\u001b[0m \u001b[39mif\u001b[39;00m \u001b[39mself\u001b[39m\u001b[39m.\u001b[39m_should_call_train_batch_hooks:\n\u001b[0;32m--> 475\u001b[0m     \u001b[39mself\u001b[39;49m\u001b[39m.\u001b[39;49m_call_batch_hook(ModeKeys\u001b[39m.\u001b[39;49mTRAIN, \u001b[39m\"\u001b[39;49m\u001b[39mend\u001b[39;49m\u001b[39m\"\u001b[39;49m, batch, logs\u001b[39m=\u001b[39;49mlogs)\n",
      "File \u001b[0;32m~/.local/lib/python3.10/site-packages/keras/src/callbacks.py:322\u001b[0m, in \u001b[0;36mCallbackList._call_batch_hook\u001b[0;34m(self, mode, hook, batch, logs)\u001b[0m\n\u001b[1;32m    320\u001b[0m     \u001b[39mself\u001b[39m\u001b[39m.\u001b[39m_call_batch_begin_hook(mode, batch, logs)\n\u001b[1;32m    321\u001b[0m \u001b[39melif\u001b[39;00m hook \u001b[39m==\u001b[39m \u001b[39m\"\u001b[39m\u001b[39mend\u001b[39m\u001b[39m\"\u001b[39m:\n\u001b[0;32m--> 322\u001b[0m     \u001b[39mself\u001b[39;49m\u001b[39m.\u001b[39;49m_call_batch_end_hook(mode, batch, logs)\n\u001b[1;32m    323\u001b[0m \u001b[39melse\u001b[39;00m:\n\u001b[1;32m    324\u001b[0m     \u001b[39mraise\u001b[39;00m \u001b[39mValueError\u001b[39;00m(\n\u001b[1;32m    325\u001b[0m         \u001b[39mf\u001b[39m\u001b[39m\"\u001b[39m\u001b[39mUnrecognized hook: \u001b[39m\u001b[39m{\u001b[39;00mhook\u001b[39m}\u001b[39;00m\u001b[39m. \u001b[39m\u001b[39m\"\u001b[39m\n\u001b[1;32m    326\u001b[0m         \u001b[39m'\u001b[39m\u001b[39mExpected values are [\u001b[39m\u001b[39m\"\u001b[39m\u001b[39mbegin\u001b[39m\u001b[39m\"\u001b[39m\u001b[39m, \u001b[39m\u001b[39m\"\u001b[39m\u001b[39mend\u001b[39m\u001b[39m\"\u001b[39m\u001b[39m]\u001b[39m\u001b[39m'\u001b[39m\n\u001b[1;32m    327\u001b[0m     )\n",
      "File \u001b[0;32m~/.local/lib/python3.10/site-packages/keras/src/callbacks.py:345\u001b[0m, in \u001b[0;36mCallbackList._call_batch_end_hook\u001b[0;34m(self, mode, batch, logs)\u001b[0m\n\u001b[1;32m    342\u001b[0m     batch_time \u001b[39m=\u001b[39m time\u001b[39m.\u001b[39mtime() \u001b[39m-\u001b[39m \u001b[39mself\u001b[39m\u001b[39m.\u001b[39m_batch_start_time\n\u001b[1;32m    343\u001b[0m     \u001b[39mself\u001b[39m\u001b[39m.\u001b[39m_batch_times\u001b[39m.\u001b[39mappend(batch_time)\n\u001b[0;32m--> 345\u001b[0m \u001b[39mself\u001b[39;49m\u001b[39m.\u001b[39;49m_call_batch_hook_helper(hook_name, batch, logs)\n\u001b[1;32m    347\u001b[0m \u001b[39mif\u001b[39;00m \u001b[39mlen\u001b[39m(\u001b[39mself\u001b[39m\u001b[39m.\u001b[39m_batch_times) \u001b[39m>\u001b[39m\u001b[39m=\u001b[39m \u001b[39mself\u001b[39m\u001b[39m.\u001b[39m_num_batches_for_timing_check:\n\u001b[1;32m    348\u001b[0m     end_hook_name \u001b[39m=\u001b[39m hook_name\n",
      "File \u001b[0;32m~/.local/lib/python3.10/site-packages/keras/src/callbacks.py:393\u001b[0m, in \u001b[0;36mCallbackList._call_batch_hook_helper\u001b[0;34m(self, hook_name, batch, logs)\u001b[0m\n\u001b[1;32m    391\u001b[0m \u001b[39mfor\u001b[39;00m callback \u001b[39min\u001b[39;00m \u001b[39mself\u001b[39m\u001b[39m.\u001b[39mcallbacks:\n\u001b[1;32m    392\u001b[0m     hook \u001b[39m=\u001b[39m \u001b[39mgetattr\u001b[39m(callback, hook_name)\n\u001b[0;32m--> 393\u001b[0m     hook(batch, logs)\n\u001b[1;32m    395\u001b[0m \u001b[39mif\u001b[39;00m \u001b[39mself\u001b[39m\u001b[39m.\u001b[39m_check_timing:\n\u001b[1;32m    396\u001b[0m     \u001b[39mif\u001b[39;00m hook_name \u001b[39mnot\u001b[39;00m \u001b[39min\u001b[39;00m \u001b[39mself\u001b[39m\u001b[39m.\u001b[39m_hook_times:\n",
      "File \u001b[0;32m~/.local/lib/python3.10/site-packages/keras/src/callbacks.py:1093\u001b[0m, in \u001b[0;36mProgbarLogger.on_train_batch_end\u001b[0;34m(self, batch, logs)\u001b[0m\n\u001b[1;32m   1092\u001b[0m \u001b[39mdef\u001b[39;00m \u001b[39mon_train_batch_end\u001b[39m(\u001b[39mself\u001b[39m, batch, logs\u001b[39m=\u001b[39m\u001b[39mNone\u001b[39;00m):\n\u001b[0;32m-> 1093\u001b[0m     \u001b[39mself\u001b[39;49m\u001b[39m.\u001b[39;49m_batch_update_progbar(batch, logs)\n",
      "File \u001b[0;32m~/.local/lib/python3.10/site-packages/keras/src/callbacks.py:1169\u001b[0m, in \u001b[0;36mProgbarLogger._batch_update_progbar\u001b[0;34m(self, batch, logs)\u001b[0m\n\u001b[1;32m   1165\u001b[0m     \u001b[39mself\u001b[39m\u001b[39m.\u001b[39mseen \u001b[39m+\u001b[39m\u001b[39m=\u001b[39m add_seen\n\u001b[1;32m   1167\u001b[0m \u001b[39mif\u001b[39;00m \u001b[39mself\u001b[39m\u001b[39m.\u001b[39mverbose \u001b[39m==\u001b[39m \u001b[39m1\u001b[39m:\n\u001b[1;32m   1168\u001b[0m     \u001b[39m# Only block async when verbose = 1.\u001b[39;00m\n\u001b[0;32m-> 1169\u001b[0m     logs \u001b[39m=\u001b[39m tf_utils\u001b[39m.\u001b[39;49msync_to_numpy_or_python_type(logs)\n\u001b[1;32m   1170\u001b[0m     \u001b[39mself\u001b[39m\u001b[39m.\u001b[39mprogbar\u001b[39m.\u001b[39mupdate(\u001b[39mself\u001b[39m\u001b[39m.\u001b[39mseen, \u001b[39mlist\u001b[39m(logs\u001b[39m.\u001b[39mitems()), finalize\u001b[39m=\u001b[39m\u001b[39mFalse\u001b[39;00m)\n",
      "File \u001b[0;32m~/.local/lib/python3.10/site-packages/keras/src/utils/tf_utils.py:694\u001b[0m, in \u001b[0;36msync_to_numpy_or_python_type\u001b[0;34m(tensors)\u001b[0m\n\u001b[1;32m    691\u001b[0m         \u001b[39mreturn\u001b[39;00m t\n\u001b[1;32m    692\u001b[0m     \u001b[39mreturn\u001b[39;00m t\u001b[39m.\u001b[39mitem() \u001b[39mif\u001b[39;00m np\u001b[39m.\u001b[39mndim(t) \u001b[39m==\u001b[39m \u001b[39m0\u001b[39m \u001b[39melse\u001b[39;00m t\n\u001b[0;32m--> 694\u001b[0m \u001b[39mreturn\u001b[39;00m tf\u001b[39m.\u001b[39;49mnest\u001b[39m.\u001b[39;49mmap_structure(_to_single_numpy_or_python_type, tensors)\n",
      "File \u001b[0;32m~/.local/lib/python3.10/site-packages/tensorflow/python/util/nest.py:629\u001b[0m, in \u001b[0;36mmap_structure\u001b[0;34m(func, *structure, **kwargs)\u001b[0m\n\u001b[1;32m    543\u001b[0m \u001b[39m@tf_export\u001b[39m(\u001b[39m\"\u001b[39m\u001b[39mnest.map_structure\u001b[39m\u001b[39m\"\u001b[39m)\n\u001b[1;32m    544\u001b[0m \u001b[39mdef\u001b[39;00m \u001b[39mmap_structure\u001b[39m(func, \u001b[39m*\u001b[39mstructure, \u001b[39m*\u001b[39m\u001b[39m*\u001b[39mkwargs):\n\u001b[1;32m    545\u001b[0m \u001b[39m  \u001b[39m\u001b[39m\"\"\"Creates a new structure by applying `func` to each atom in `structure`.\u001b[39;00m\n\u001b[1;32m    546\u001b[0m \n\u001b[1;32m    547\u001b[0m \u001b[39m  Refer to [tf.nest](https://www.tensorflow.org/api_docs/python/tf/nest)\u001b[39;00m\n\u001b[0;32m   (...)\u001b[0m\n\u001b[1;32m    627\u001b[0m \u001b[39m    ValueError: If wrong keyword arguments are provided.\u001b[39;00m\n\u001b[1;32m    628\u001b[0m \u001b[39m  \"\"\"\u001b[39;00m\n\u001b[0;32m--> 629\u001b[0m   \u001b[39mreturn\u001b[39;00m nest_util\u001b[39m.\u001b[39;49mmap_structure(\n\u001b[1;32m    630\u001b[0m       nest_util\u001b[39m.\u001b[39;49mModality\u001b[39m.\u001b[39;49mCORE, func, \u001b[39m*\u001b[39;49mstructure, \u001b[39m*\u001b[39;49m\u001b[39m*\u001b[39;49mkwargs\n\u001b[1;32m    631\u001b[0m   )\n",
      "File \u001b[0;32m~/.local/lib/python3.10/site-packages/tensorflow/python/util/nest_util.py:1168\u001b[0m, in \u001b[0;36mmap_structure\u001b[0;34m(modality, func, *structure, **kwargs)\u001b[0m\n\u001b[1;32m   1071\u001b[0m \u001b[39m\u001b[39m\u001b[39m\"\"\"Creates a new structure by applying `func` to each atom in `structure`.\u001b[39;00m\n\u001b[1;32m   1072\u001b[0m \n\u001b[1;32m   1073\u001b[0m \u001b[39m- For Modality.CORE: Refer to\u001b[39;00m\n\u001b[0;32m   (...)\u001b[0m\n\u001b[1;32m   1165\u001b[0m \u001b[39m  ValueError: If wrong keyword arguments are provided.\u001b[39;00m\n\u001b[1;32m   1166\u001b[0m \u001b[39m\"\"\"\u001b[39;00m\n\u001b[1;32m   1167\u001b[0m \u001b[39mif\u001b[39;00m modality \u001b[39m==\u001b[39m Modality\u001b[39m.\u001b[39mCORE:\n\u001b[0;32m-> 1168\u001b[0m   \u001b[39mreturn\u001b[39;00m _tf_core_map_structure(func, \u001b[39m*\u001b[39;49mstructure, \u001b[39m*\u001b[39;49m\u001b[39m*\u001b[39;49mkwargs)\n\u001b[1;32m   1169\u001b[0m \u001b[39melif\u001b[39;00m modality \u001b[39m==\u001b[39m Modality\u001b[39m.\u001b[39mDATA:\n\u001b[1;32m   1170\u001b[0m   \u001b[39mreturn\u001b[39;00m _tf_data_map_structure(func, \u001b[39m*\u001b[39mstructure, \u001b[39m*\u001b[39m\u001b[39m*\u001b[39mkwargs)\n",
      "File \u001b[0;32m~/.local/lib/python3.10/site-packages/tensorflow/python/util/nest_util.py:1208\u001b[0m, in \u001b[0;36m_tf_core_map_structure\u001b[0;34m(func, *structure, **kwargs)\u001b[0m\n\u001b[1;32m   1203\u001b[0m flat_structure \u001b[39m=\u001b[39m (_tf_core_flatten(s, expand_composites) \u001b[39mfor\u001b[39;00m s \u001b[39min\u001b[39;00m structure)\n\u001b[1;32m   1204\u001b[0m entries \u001b[39m=\u001b[39m \u001b[39mzip\u001b[39m(\u001b[39m*\u001b[39mflat_structure)\n\u001b[1;32m   1206\u001b[0m \u001b[39mreturn\u001b[39;00m _tf_core_pack_sequence_as(\n\u001b[1;32m   1207\u001b[0m     structure[\u001b[39m0\u001b[39m],\n\u001b[0;32m-> 1208\u001b[0m     [func(\u001b[39m*\u001b[39mx) \u001b[39mfor\u001b[39;00m x \u001b[39min\u001b[39;00m entries],\n\u001b[1;32m   1209\u001b[0m     expand_composites\u001b[39m=\u001b[39mexpand_composites,\n\u001b[1;32m   1210\u001b[0m )\n",
      "File \u001b[0;32m~/.local/lib/python3.10/site-packages/tensorflow/python/util/nest_util.py:1208\u001b[0m, in \u001b[0;36m<listcomp>\u001b[0;34m(.0)\u001b[0m\n\u001b[1;32m   1203\u001b[0m flat_structure \u001b[39m=\u001b[39m (_tf_core_flatten(s, expand_composites) \u001b[39mfor\u001b[39;00m s \u001b[39min\u001b[39;00m structure)\n\u001b[1;32m   1204\u001b[0m entries \u001b[39m=\u001b[39m \u001b[39mzip\u001b[39m(\u001b[39m*\u001b[39mflat_structure)\n\u001b[1;32m   1206\u001b[0m \u001b[39mreturn\u001b[39;00m _tf_core_pack_sequence_as(\n\u001b[1;32m   1207\u001b[0m     structure[\u001b[39m0\u001b[39m],\n\u001b[0;32m-> 1208\u001b[0m     [func(\u001b[39m*\u001b[39;49mx) \u001b[39mfor\u001b[39;00m x \u001b[39min\u001b[39;00m entries],\n\u001b[1;32m   1209\u001b[0m     expand_composites\u001b[39m=\u001b[39mexpand_composites,\n\u001b[1;32m   1210\u001b[0m )\n",
      "File \u001b[0;32m~/.local/lib/python3.10/site-packages/keras/src/utils/tf_utils.py:687\u001b[0m, in \u001b[0;36msync_to_numpy_or_python_type.<locals>._to_single_numpy_or_python_type\u001b[0;34m(t)\u001b[0m\n\u001b[1;32m    684\u001b[0m \u001b[39mdef\u001b[39;00m \u001b[39m_to_single_numpy_or_python_type\u001b[39m(t):\n\u001b[1;32m    685\u001b[0m     \u001b[39m# Don't turn ragged or sparse tensors to NumPy.\u001b[39;00m\n\u001b[1;32m    686\u001b[0m     \u001b[39mif\u001b[39;00m \u001b[39misinstance\u001b[39m(t, tf\u001b[39m.\u001b[39mTensor):\n\u001b[0;32m--> 687\u001b[0m         t \u001b[39m=\u001b[39m t\u001b[39m.\u001b[39;49mnumpy()\n\u001b[1;32m    688\u001b[0m     \u001b[39m# Strings, ragged and sparse tensors don't have .item(). Return them\u001b[39;00m\n\u001b[1;32m    689\u001b[0m     \u001b[39m# as-is.\u001b[39;00m\n\u001b[1;32m    690\u001b[0m     \u001b[39mif\u001b[39;00m \u001b[39mnot\u001b[39;00m \u001b[39misinstance\u001b[39m(t, (np\u001b[39m.\u001b[39mndarray, np\u001b[39m.\u001b[39mgeneric)):\n",
      "File \u001b[0;32m~/.local/lib/python3.10/site-packages/tensorflow/python/framework/ops.py:396\u001b[0m, in \u001b[0;36m_EagerTensorBase.numpy\u001b[0;34m(self)\u001b[0m\n\u001b[1;32m    373\u001b[0m \u001b[39m\u001b[39m\u001b[39m\"\"\"Copy of the contents of this Tensor into a NumPy array or scalar.\u001b[39;00m\n\u001b[1;32m    374\u001b[0m \n\u001b[1;32m    375\u001b[0m \u001b[39mUnlike NumPy arrays, Tensors are immutable, so this method has to copy\u001b[39;00m\n\u001b[0;32m   (...)\u001b[0m\n\u001b[1;32m    393\u001b[0m \u001b[39m    NumPy dtype.\u001b[39;00m\n\u001b[1;32m    394\u001b[0m \u001b[39m\"\"\"\u001b[39;00m\n\u001b[1;32m    395\u001b[0m \u001b[39m# TODO(slebedev): Consider avoiding a copy for non-CPU or remote tensors.\u001b[39;00m\n\u001b[0;32m--> 396\u001b[0m maybe_arr \u001b[39m=\u001b[39m \u001b[39mself\u001b[39;49m\u001b[39m.\u001b[39;49m_numpy()  \u001b[39m# pylint: disable=protected-access\u001b[39;00m\n\u001b[1;32m    397\u001b[0m \u001b[39mreturn\u001b[39;00m maybe_arr\u001b[39m.\u001b[39mcopy() \u001b[39mif\u001b[39;00m \u001b[39misinstance\u001b[39m(maybe_arr, np\u001b[39m.\u001b[39mndarray) \u001b[39melse\u001b[39;00m maybe_arr\n",
      "File \u001b[0;32m~/.local/lib/python3.10/site-packages/tensorflow/python/framework/ops.py:362\u001b[0m, in \u001b[0;36m_EagerTensorBase._numpy\u001b[0;34m(self)\u001b[0m\n\u001b[1;32m    360\u001b[0m \u001b[39mdef\u001b[39;00m \u001b[39m_numpy\u001b[39m(\u001b[39mself\u001b[39m):\n\u001b[1;32m    361\u001b[0m   \u001b[39mtry\u001b[39;00m:\n\u001b[0;32m--> 362\u001b[0m     \u001b[39mreturn\u001b[39;00m \u001b[39mself\u001b[39;49m\u001b[39m.\u001b[39;49m_numpy_internal()\n\u001b[1;32m    363\u001b[0m   \u001b[39mexcept\u001b[39;00m core\u001b[39m.\u001b[39m_NotOkStatusException \u001b[39mas\u001b[39;00m e:  \u001b[39m# pylint: disable=protected-access\u001b[39;00m\n\u001b[1;32m    364\u001b[0m     \u001b[39mraise\u001b[39;00m core\u001b[39m.\u001b[39m_status_to_exception(e) \u001b[39mfrom\u001b[39;00m \u001b[39mNone\u001b[39;00m\n",
      "\u001b[0;31mKeyboardInterrupt\u001b[0m: "
     ]
    }
   ],
   "source": [
    "#Now, we will fit our model\n",
    "Model_P.fit(X_train, y_train, epochs = 30, batch_size= 32) #Epochs mean number of iterations. We have to play with this parameter to find the best number of epochs. Batch size is the number of observations after which we want to update the weights. We can modify this parameter to find the best one."
   ]
  },
  {
   "cell_type": "markdown",
   "metadata": {},
   "source": [
    "Despite having a really low loss, it is even possible that in the test set our model is not able to predict the values correctly, so we have to be aware of that, and further analysis should be done. To avoid running the model several times, we shall save the model and load it later.\n",
    "\n",
    "To find the right epoch number, we can plot the result of the model and see when we are not increasing the accuracy anymore, or when computationally capability is not worth the accuracy increase."
   ]
  },
  {
   "cell_type": "markdown",
   "metadata": {},
   "source": [
    "##EVERYTHING SHOULD WORK AS THIS METHOD FOLLOWS ALFONSOS NOTEBOOK"
   ]
  },
  {
   "cell_type": "code",
   "execution_count": null,
   "metadata": {},
   "outputs": [],
   "source": []
  },
  {
   "cell_type": "code",
   "execution_count": null,
   "metadata": {},
   "outputs": [],
   "source": []
  },
  {
   "cell_type": "code",
   "execution_count": null,
   "metadata": {},
   "outputs": [],
   "source": []
  },
  {
   "cell_type": "code",
   "execution_count": null,
   "metadata": {},
   "outputs": [],
   "source": [
    "Model_P.save('LSTM_Univariate.keras')"
   ]
  },
  {
   "cell_type": "code",
   "execution_count": null,
   "metadata": {},
   "outputs": [
    {
     "data": {
      "image/png": "[encoded data removed]",
      "text/plain": [
       "<Figure size 640x480 with 1 Axes>"
      ]
     },
     "metadata": {},
     "output_type": "display_data"
    }
   ],
   "source": [
    "plt.plot(range(len(Model_P.history.history['loss'])), Model_P.history.history['loss']) #We plot the loss function to see how it is evolving\n",
    "plt.title('Loss Function')\n",
    "plt.xlabel('Epochs')\n",
    "plt.ylabel('Loss')\n",
    "plt.show()"
   ]
  },
  {
   "cell_type": "markdown",
   "metadata": {},
   "source": [
    "By looking at the previous graph we can see that after 15, the accuracy is not increasing anymore. So, we can use 15 as the epoch number, if the training time is too long now. We have also to be careful of overfitting, while picking the number of epochs"
   ]
  },
  {
   "cell_type": "code",
   "execution_count": null,
   "metadata": {},
   "outputs": [],
   "source": [
    "#Now, if we want to start from here without having to run all the code, we can just load the model\n",
    "from keras.models import load_model\n",
    "Model_P = load_model('LSTM_Univariate.keras')"
   ]
  },
  {
   "cell_type": "markdown",
   "metadata": {},
   "source": [
    "What do we want to do now for predicting or testing our model? From the training part, we broke down our dataset into different batches of 24. But, for the testing, we need also to have the same structure, as our model is expecting to receive batches of 24, and then predicting the next value. Then, in order to test our model, we need to create such structure that generates batches of 24, and then we can predict the next value.\n",
    "\n",
    "So, imagine that we have batches of 4. We have t1, t2, t3, t4. We apply the model and then we get t5. Then, we use that t5 value predicted by our model in the next batch (t2, t3, t4, t5) to predict t6. And so on. That's how we are going to test our model or to use our model for predicting new values."
   ]
  },
  {
   "cell_type": "markdown",
   "metadata": {},
   "source": [
    "## **3. Testing the LSTM Model**"
   ]
  },
  {
   "cell_type": "code",
   "execution_count": null,
   "metadata": {},
   "outputs": [],
   "source": [
    "#First, we need to create our test set, something like we did for the train set\n",
    "#We create empty lists\n",
    "prediction_test = []\n",
    "\n",
    "Batch_one = train_scaled[-WS:] #We select the last 24 values (or WS is 24) of the train set\n",
    "Batch_new = Batch_one.reshape(1,WS,1) #We reshape the batch to be able to use it in the model. 1 is the number of batches, WS is the window size, and 1 is the number of features"
   ]
  },
  {
   "cell_type": "code",
   "execution_count": null,
   "metadata": {},
   "outputs": [
    {
     "name": "stdout",
     "output_type": "stream",
     "text": [
      "1/1 [==============================] - 0s 56ms/step\n",
      "1/1 [==============================] - 0s 23ms/step\n",
      "1/1 [==============================] - 0s 14ms/step\n",
      "1/1 [==============================] - 0s 18ms/step\n",
      "1/1 [==============================] - 0s 15ms/step\n",
      "1/1 [==============================] - 0s 20ms/step\n",
      "1/1 [==============================] - 0s 20ms/step\n",
      "1/1 [==============================] - 0s 18ms/step\n",
      "1/1 [==============================] - 0s 18ms/step\n",
      "1/1 [==============================] - 0s 19ms/step\n",
      "1/1 [==============================] - 0s 14ms/step\n",
      "1/1 [==============================] - 0s 17ms/step\n",
      "1/1 [==============================] - 0s 20ms/step\n",
      "1/1 [==============================] - 0s 18ms/step\n",
      "1/1 [==============================] - 0s 21ms/step\n",
      "1/1 [==============================] - 0s 19ms/step\n",
      "1/1 [==============================] - 0s 22ms/step\n",
      "1/1 [==============================] - 0s 16ms/step\n",
      "1/1 [==============================] - 0s 22ms/step\n",
      "1/1 [==============================] - 0s 18ms/step\n",
      "1/1 [==============================] - 0s 20ms/step\n",
      "1/1 [==============================] - 0s 20ms/step\n",
      "1/1 [==============================] - 0s 18ms/step\n",
      "1/1 [==============================] - 0s 18ms/step\n",
      "1/1 [==============================] - 0s 18ms/step\n",
      "1/1 [==============================] - 0s 22ms/step\n",
      "1/1 [==============================] - 0s 19ms/step\n",
      "1/1 [==============================] - 0s 22ms/step\n",
      "1/1 [==============================] - 0s 21ms/step\n",
      "1/1 [==============================] - 0s 23ms/step\n",
      "1/1 [==============================] - 0s 23ms/step\n",
      "1/1 [==============================] - 0s 20ms/step\n",
      "1/1 [==============================] - 0s 17ms/step\n",
      "1/1 [==============================] - 0s 25ms/step\n",
      "1/1 [==============================] - 0s 18ms/step\n",
      "1/1 [==============================] - 0s 18ms/step\n",
      "1/1 [==============================] - 0s 26ms/step\n",
      "1/1 [==============================] - 0s 20ms/step\n",
      "1/1 [==============================] - 0s 20ms/step\n",
      "1/1 [==============================] - 0s 19ms/step\n",
      "1/1 [==============================] - 0s 20ms/step\n",
      "1/1 [==============================] - 0s 15ms/step\n",
      "1/1 [==============================] - 0s 20ms/step\n",
      "1/1 [==============================] - 0s 23ms/step\n",
      "1/1 [==============================] - 0s 14ms/step\n",
      "1/1 [==============================] - 0s 22ms/step\n",
      "1/1 [==============================] - 0s 20ms/step\n",
      "1/1 [==============================] - 0s 20ms/step\n"
     ]
    }
   ],
   "source": [
    "#Now, we create a for loop to predict the values\n",
    "for i in range(len(test_scaled)): #Here we are applying the length of the test set, as we want to predict all the values in test set. If we wanted to predict further values, we would have to change this parameter\n",
    "    First_Pred = Model_P.predict(Batch_new)[0] #We predict the first value\n",
    "    prediction_test.append(First_Pred) #We append the  predicted value to the list prediction_test\n",
    "    Batch_new = np.append(Batch_new[:,1:,:],[[First_Pred]],axis=1) #From Barch Newm from second dimension, I say, start from 1, so I don't want the first value. Then, append to barch new the prediction that we have made (First Pred). Thanks to this, Batch_new will be update, containing always the last 23 values of the previous batch, and the new predicted value"
   ]
  },
  {
   "cell_type": "code",
   "execution_count": null,
   "metadata": {},
   "outputs": [
    {
     "data": {
      "text/plain": [
       "array([[0.00475112],\n",
       "       [0.00501415],\n",
       "       [0.00557414],\n",
       "       [0.00635964],\n",
       "       [0.00729591],\n",
       "       [0.00833431],\n",
       "       [0.00960204],\n",
       "       [0.01409784],\n",
       "       [0.1491864 ],\n",
       "       [0.5533273 ],\n",
       "       [0.78658605],\n",
       "       [0.88186467],\n",
       "       [0.8935415 ],\n",
       "       [0.83034796],\n",
       "       [0.6858057 ],\n",
       "       [0.41958427],\n",
       "       [0.01335301],\n",
       "       [0.01263949],\n",
       "       [0.01148131],\n",
       "       [0.00997764],\n",
       "       [0.00846988],\n",
       "       [0.00727299],\n",
       "       [0.00643992],\n",
       "       [0.00590181],\n",
       "       [0.00564411],\n",
       "       [0.00553775],\n",
       "       [0.00589895],\n",
       "       [0.00660267],\n",
       "       [0.00752851],\n",
       "       [0.00858983],\n",
       "       [0.00998616],\n",
       "       [0.01834337],\n",
       "       [0.21129756],\n",
       "       [0.6089419 ],\n",
       "       [0.8206846 ],\n",
       "       [0.89436316],\n",
       "       [0.8943328 ],\n",
       "       [0.8228221 ],\n",
       "       [0.6760487 ],\n",
       "       [0.42111623],\n",
       "       [0.06241152],\n",
       "       [0.05167054],\n",
       "       [0.03962325],\n",
       "       [0.02787921],\n",
       "       [0.01828738],\n",
       "       [0.01184267],\n",
       "       [0.00818104],\n",
       "       [0.00633717]], dtype=float32)"
      ]
     },
     "metadata": {},
     "output_type": "display_data"
    }
   ],
   "source": [
    "prediction_test"
   ]
  },
  {
   "cell_type": "markdown",
   "metadata": {},
   "source": []
  },
  {
   "cell_type": "code",
   "execution_count": null,
   "metadata": {},
   "outputs": [],
   "source": []
  },
  {
   "cell_type": "code",
   "execution_count": null,
   "metadata": {},
   "outputs": [],
   "source": []
  },
  {
   "cell_type": "code",
   "execution_count": null,
   "metadata": {},
   "outputs": [],
   "source": []
  },
  {
   "cell_type": "code",
   "execution_count": null,
   "metadata": {},
   "outputs": [],
   "source": []
  },
  {
   "cell_type": "code",
   "execution_count": null,
   "metadata": {},
   "outputs": [],
   "source": []
  },
  {
   "cell_type": "markdown",
   "metadata": {},
   "source": [
    "## fROM HERE IS THE TENSORWAY"
   ]
  },
  {
   "cell_type": "markdown",
   "metadata": {},
   "source": [
    "### Following Traditional way"
   ]
  },
  {
   "cell_type": "code",
   "execution_count": null,
   "metadata": {},
   "outputs": [],
   "source": [
    "#split df in train and test. Until 2022-01-01 is train, after is test. 'Kp_class' is your target variable\n",
    "train_data = df.loc[:'2022-01-01']\n",
    "test_data = df.loc['2022-01-01':]\n",
    "# Separate the target variable 'Kp_class'\n",
    "X_train, y_train = train_data.drop(columns=['Kp','ap','Kp_class']), train_data['Kp']\n",
    "X_test, y_test = test_data.drop(columns=['Kp','ap','Kp_class']), test_data['Kp']\n",
    "\n",
    "#print shapes of train and test\n",
    "print(X_train.shape)\n",
    "print(X_test.shape)\n",
    " "
   ]
  },
  {
   "cell_type": "code",
   "execution_count": 36,
   "metadata": {},
   "outputs": [
    {
     "data": {
      "image/png": "[encoded data removed]",
      "text/plain": [
       "<Figure size 1500x500 with 1 Axes>"
      ]
     },
     "metadata": {},
     "output_type": "display_data"
    }
   ],
   "source": [
    "#plot train and test\n",
    "plt.figure(figsize=(15,5))\n",
    "plt.plot(X_train.index, y_train, label='train')\n",
    "plt.plot(X_test.index, y_test, label='test')\n",
    "plt.legend(loc='best')\n",
    "plt.title('Train and test data')\n",
    "plt.show()\n",
    " \n",
    " \n"
   ]
  },
  {
   "cell_type": "markdown",
   "metadata": {},
   "source": [
    "### For now, we continue with this approach (not sklearn timeseries split)"
   ]
  },
  {
   "cell_type": "code",
   "execution_count": 37,
   "metadata": {},
   "outputs": [
    {
     "data": {
      "text/html": [
       "<div>\n",
       "<style scoped>\n",
       "    .dataframe tbody tr th:only-of-type {\n",
       "        vertical-align: middle;\n",
       "    }\n",
       "\n",
       "    .dataframe tbody tr th {\n",
       "        vertical-align: top;\n",
       "    }\n",
       "\n",
       "    .dataframe thead th {\n",
       "        text-align: right;\n",
       "    }\n",
       "</style>\n",
       "<table border=\"1\" class=\"dataframe\">\n",
       "  <thead>\n",
       "    <tr style=\"text-align: right;\">\n",
       "      <th></th>\n",
       "      <th>MagFieldVect_Comp1_mean</th>\n",
       "      <th>MagFieldVect_Comp2_mean</th>\n",
       "      <th>MagFieldVect_Comp3_mean</th>\n",
       "      <th>FarCup1_mean</th>\n",
       "      <th>FarCup2_mean</th>\n",
       "      <th>FarCup3_mean</th>\n",
       "      <th>FarCup4_mean</th>\n",
       "      <th>FarCup5_mean</th>\n",
       "      <th>FarCup6_mean</th>\n",
       "      <th>FarCup7_mean</th>\n",
       "      <th>...</th>\n",
       "      <th>FarCup41_mean_MISSING</th>\n",
       "      <th>FarCup42_mean_MISSING</th>\n",
       "      <th>FarCup43_mean_MISSING</th>\n",
       "      <th>FarCup44_mean_MISSING</th>\n",
       "      <th>FarCup45_mean_MISSING</th>\n",
       "      <th>FarCup46_mean_MISSING</th>\n",
       "      <th>FarCup47_mean_MISSING</th>\n",
       "      <th>FarCup48_mean_MISSING</th>\n",
       "      <th>FarCup49_mean_MISSING</th>\n",
       "      <th>FarCup50_mean_MISSING</th>\n",
       "    </tr>\n",
       "    <tr>\n",
       "      <th>datetime_DSCVR</th>\n",
       "      <th></th>\n",
       "      <th></th>\n",
       "      <th></th>\n",
       "      <th></th>\n",
       "      <th></th>\n",
       "      <th></th>\n",
       "      <th></th>\n",
       "      <th></th>\n",
       "      <th></th>\n",
       "      <th></th>\n",
       "      <th></th>\n",
       "      <th></th>\n",
       "      <th></th>\n",
       "      <th></th>\n",
       "      <th></th>\n",
       "      <th></th>\n",
       "      <th></th>\n",
       "      <th></th>\n",
       "      <th></th>\n",
       "      <th></th>\n",
       "      <th></th>\n",
       "    </tr>\n",
       "  </thead>\n",
       "  <tbody>\n",
       "    <tr>\n",
       "      <th>2016-07-01 03:00:00</th>\n",
       "      <td>0.265339</td>\n",
       "      <td>3.261504</td>\n",
       "      <td>0.045978</td>\n",
       "      <td>0.0</td>\n",
       "      <td>0.0</td>\n",
       "      <td>0.0</td>\n",
       "      <td>0.0</td>\n",
       "      <td>356.221008</td>\n",
       "      <td>333.408844</td>\n",
       "      <td>349.227417</td>\n",
       "      <td>...</td>\n",
       "      <td>0.0</td>\n",
       "      <td>0.0</td>\n",
       "      <td>0.0</td>\n",
       "      <td>0.0</td>\n",
       "      <td>0.0</td>\n",
       "      <td>0.0</td>\n",
       "      <td>0.0</td>\n",
       "      <td>0.0</td>\n",
       "      <td>0.0</td>\n",
       "      <td>0.0</td>\n",
       "    </tr>\n",
       "    <tr>\n",
       "      <th>2016-07-01 06:00:00</th>\n",
       "      <td>0.924653</td>\n",
       "      <td>1.763291</td>\n",
       "      <td>-0.228962</td>\n",
       "      <td>0.0</td>\n",
       "      <td>0.0</td>\n",
       "      <td>0.0</td>\n",
       "      <td>0.0</td>\n",
       "      <td>0.000000</td>\n",
       "      <td>0.000000</td>\n",
       "      <td>351.975861</td>\n",
       "      <td>...</td>\n",
       "      <td>0.0</td>\n",
       "      <td>0.0</td>\n",
       "      <td>0.0</td>\n",
       "      <td>0.0</td>\n",
       "      <td>0.0</td>\n",
       "      <td>0.0</td>\n",
       "      <td>0.0</td>\n",
       "      <td>0.0</td>\n",
       "      <td>0.0</td>\n",
       "      <td>0.0</td>\n",
       "    </tr>\n",
       "    <tr>\n",
       "      <th>2016-07-01 09:00:00</th>\n",
       "      <td>-0.770110</td>\n",
       "      <td>2.431628</td>\n",
       "      <td>-1.294382</td>\n",
       "      <td>0.0</td>\n",
       "      <td>0.0</td>\n",
       "      <td>0.0</td>\n",
       "      <td>0.0</td>\n",
       "      <td>0.000000</td>\n",
       "      <td>0.000000</td>\n",
       "      <td>356.851501</td>\n",
       "      <td>...</td>\n",
       "      <td>0.0</td>\n",
       "      <td>0.0</td>\n",
       "      <td>0.0</td>\n",
       "      <td>0.0</td>\n",
       "      <td>0.0</td>\n",
       "      <td>0.0</td>\n",
       "      <td>0.0</td>\n",
       "      <td>0.0</td>\n",
       "      <td>0.0</td>\n",
       "      <td>0.0</td>\n",
       "    </tr>\n",
       "    <tr>\n",
       "      <th>2016-07-01 12:00:00</th>\n",
       "      <td>1.719482</td>\n",
       "      <td>3.512640</td>\n",
       "      <td>-0.144519</td>\n",
       "      <td>0.0</td>\n",
       "      <td>0.0</td>\n",
       "      <td>0.0</td>\n",
       "      <td>0.0</td>\n",
       "      <td>360.278992</td>\n",
       "      <td>340.138000</td>\n",
       "      <td>355.934662</td>\n",
       "      <td>...</td>\n",
       "      <td>0.0</td>\n",
       "      <td>0.0</td>\n",
       "      <td>0.0</td>\n",
       "      <td>0.0</td>\n",
       "      <td>0.0</td>\n",
       "      <td>0.0</td>\n",
       "      <td>0.0</td>\n",
       "      <td>0.0</td>\n",
       "      <td>0.0</td>\n",
       "      <td>0.0</td>\n",
       "    </tr>\n",
       "    <tr>\n",
       "      <th>2016-07-01 15:00:00</th>\n",
       "      <td>-1.733990</td>\n",
       "      <td>1.799461</td>\n",
       "      <td>-0.555546</td>\n",
       "      <td>0.0</td>\n",
       "      <td>0.0</td>\n",
       "      <td>0.0</td>\n",
       "      <td>0.0</td>\n",
       "      <td>354.485992</td>\n",
       "      <td>335.147217</td>\n",
       "      <td>348.999878</td>\n",
       "      <td>...</td>\n",
       "      <td>0.0</td>\n",
       "      <td>0.0</td>\n",
       "      <td>0.0</td>\n",
       "      <td>0.0</td>\n",
       "      <td>0.0</td>\n",
       "      <td>0.0</td>\n",
       "      <td>0.0</td>\n",
       "      <td>0.0</td>\n",
       "      <td>0.0</td>\n",
       "      <td>0.0</td>\n",
       "    </tr>\n",
       "  </tbody>\n",
       "</table>\n",
       "<p>5 rows × 374 columns</p>\n",
       "</div>"
      ],
      "text/plain": [
       "                     MagFieldVect_Comp1_mean  MagFieldVect_Comp2_mean  \\\n",
       "datetime_DSCVR                                                          \n",
       "2016-07-01 03:00:00                 0.265339                 3.261504   \n",
       "2016-07-01 06:00:00                 0.924653                 1.763291   \n",
       "2016-07-01 09:00:00                -0.770110                 2.431628   \n",
       "2016-07-01 12:00:00                 1.719482                 3.512640   \n",
       "2016-07-01 15:00:00                -1.733990                 1.799461   \n",
       "\n",
       "                     MagFieldVect_Comp3_mean  FarCup1_mean  FarCup2_mean  \\\n",
       "datetime_DSCVR                                                             \n",
       "2016-07-01 03:00:00                 0.045978           0.0           0.0   \n",
       "2016-07-01 06:00:00                -0.228962           0.0           0.0   \n",
       "2016-07-01 09:00:00                -1.294382           0.0           0.0   \n",
       "2016-07-01 12:00:00                -0.144519           0.0           0.0   \n",
       "2016-07-01 15:00:00                -0.555546           0.0           0.0   \n",
       "\n",
       "                     FarCup3_mean  FarCup4_mean  FarCup5_mean  FarCup6_mean  \\\n",
       "datetime_DSCVR                                                                \n",
       "2016-07-01 03:00:00           0.0           0.0    356.221008    333.408844   \n",
       "2016-07-01 06:00:00           0.0           0.0      0.000000      0.000000   \n",
       "2016-07-01 09:00:00           0.0           0.0      0.000000      0.000000   \n",
       "2016-07-01 12:00:00           0.0           0.0    360.278992    340.138000   \n",
       "2016-07-01 15:00:00           0.0           0.0    354.485992    335.147217   \n",
       "\n",
       "                     FarCup7_mean  ...  FarCup41_mean_MISSING  \\\n",
       "datetime_DSCVR                     ...                          \n",
       "2016-07-01 03:00:00    349.227417  ...                    0.0   \n",
       "2016-07-01 06:00:00    351.975861  ...                    0.0   \n",
       "2016-07-01 09:00:00    356.851501  ...                    0.0   \n",
       "2016-07-01 12:00:00    355.934662  ...                    0.0   \n",
       "2016-07-01 15:00:00    348.999878  ...                    0.0   \n",
       "\n",
       "                     FarCup42_mean_MISSING  FarCup43_mean_MISSING  \\\n",
       "datetime_DSCVR                                                      \n",
       "2016-07-01 03:00:00                    0.0                    0.0   \n",
       "2016-07-01 06:00:00                    0.0                    0.0   \n",
       "2016-07-01 09:00:00                    0.0                    0.0   \n",
       "2016-07-01 12:00:00                    0.0                    0.0   \n",
       "2016-07-01 15:00:00                    0.0                    0.0   \n",
       "\n",
       "                     FarCup44_mean_MISSING  FarCup45_mean_MISSING  \\\n",
       "datetime_DSCVR                                                      \n",
       "2016-07-01 03:00:00                    0.0                    0.0   \n",
       "2016-07-01 06:00:00                    0.0                    0.0   \n",
       "2016-07-01 09:00:00                    0.0                    0.0   \n",
       "2016-07-01 12:00:00                    0.0                    0.0   \n",
       "2016-07-01 15:00:00                    0.0                    0.0   \n",
       "\n",
       "                     FarCup46_mean_MISSING  FarCup47_mean_MISSING  \\\n",
       "datetime_DSCVR                                                      \n",
       "2016-07-01 03:00:00                    0.0                    0.0   \n",
       "2016-07-01 06:00:00                    0.0                    0.0   \n",
       "2016-07-01 09:00:00                    0.0                    0.0   \n",
       "2016-07-01 12:00:00                    0.0                    0.0   \n",
       "2016-07-01 15:00:00                    0.0                    0.0   \n",
       "\n",
       "                     FarCup48_mean_MISSING  FarCup49_mean_MISSING  \\\n",
       "datetime_DSCVR                                                      \n",
       "2016-07-01 03:00:00                    0.0                    0.0   \n",
       "2016-07-01 06:00:00                    0.0                    0.0   \n",
       "2016-07-01 09:00:00                    0.0                    0.0   \n",
       "2016-07-01 12:00:00                    0.0                    0.0   \n",
       "2016-07-01 15:00:00                    0.0                    0.0   \n",
       "\n",
       "                     FarCup50_mean_MISSING  \n",
       "datetime_DSCVR                              \n",
       "2016-07-01 03:00:00                    0.0  \n",
       "2016-07-01 06:00:00                    0.0  \n",
       "2016-07-01 09:00:00                    0.0  \n",
       "2016-07-01 12:00:00                    0.0  \n",
       "2016-07-01 15:00:00                    0.0  \n",
       "\n",
       "[5 rows x 374 columns]"
      ]
     },
     "execution_count": 37,
     "metadata": {},
     "output_type": "execute_result"
    }
   ],
   "source": [
    "df.head()"
   ]
  },
  {
   "cell_type": "markdown",
   "metadata": {},
   "source": [
    "# Scaling data using minmax"
   ]
  },
  {
   "cell_type": "code",
   "execution_count": 38,
   "metadata": {},
   "outputs": [],
   "source": [
    "# min max scaling to all columns except Kp_class\n",
    "from sklearn.preprocessing import MinMaxScaler\n",
    "scaler = MinMaxScaler(feature_range=(0, 1))\n",
    " \n",
    "# fit and transform on train and test data\n",
    "X_train_scaled = scaler.fit_transform(X_train)\n",
    "X_test_scaled = scaler.transform(X_test)\n",
    " \n",
    "# convert to dataframe\n",
    "X_train_scaled = pd.DataFrame(X_train_scaled, columns=X_train.columns, index=X_train.index)\n",
    "X_test_scaled = pd.DataFrame(X_test_scaled, columns=X_test.columns, index=X_test.index)\n",
    " \n"
   ]
  },
  {
   "cell_type": "code",
   "execution_count": 39,
   "metadata": {},
   "outputs": [
    {
     "data": {
      "image/png": "[encoded data removed]",
      "text/plain": [
       "<Figure size 1500x500 with 1 Axes>"
      ]
     },
     "metadata": {},
     "output_type": "display_data"
    }
   ],
   "source": [
    "#plot train and test\n",
    "plt.figure(figsize=(15,5))\n",
    "plt.plot(X_train_scaled.index, y_train, label='train')\n",
    "plt.plot(X_test_scaled.index, y_test, label='test')\n",
    "plt.legend(loc='best')\n",
    "plt.title('Train and test data')\n",
    "plt.show()"
   ]
  },
  {
   "cell_type": "markdown",
   "metadata": {},
   "source": [
    "Before continuing our model, we have to understand a concept: Look Back Window or Period. This is the number of previous time steps to use as input variables to predict the next time period. In the training process, imagine that I have a look back window of 4. I will use t1, t2, t3 and t4 to predict t5. Then, I will use t2, t3, t4 and t5 to predict t6 and so on. That's how our model is going to be trained.\n",
    "\n",
    "The window size is a parameter that we are going to give to our model. Which window size should we use? It depends on each problem. As general rule, we want to consider at least one seasonality period. For example, if we have daily data and we know that there is a weekly seasonality, we should use a window size of 7. If we have monthly data and we know that there is a yearly seasonality, we should use a window size of 12.\n",
    "\n",
    "We can increase windows size and most of the time it will increase model accuracy but also, it will increase the training time. So, we have to find a balance between accuracy and training time.\n"
   ]
  },
  {
   "cell_type": "code",
   "execution_count": 40,
   "metadata": {},
   "outputs": [
    {
     "data": {
      "text/plain": [
       "datetime_DSCVR\n",
       "2022-01-01 00:00:00    2.333\n",
       "2022-01-01 03:00:00    4.000\n",
       "2022-01-01 06:00:00    2.333\n",
       "2022-01-01 09:00:00    1.667\n",
       "2022-01-01 12:00:00    1.667\n",
       "                       ...  \n",
       "2023-05-02 12:00:00    1.000\n",
       "2023-05-02 15:00:00    1.000\n",
       "2023-05-02 18:00:00    1.667\n",
       "2023-05-02 21:00:00    0.667\n",
       "2023-05-03 00:00:00    0.000\n",
       "Name: Kp, Length: 3897, dtype: float32"
      ]
     },
     "execution_count": 40,
     "metadata": {},
     "output_type": "execute_result"
    }
   ],
   "source": [
    "y_test"
   ]
  },
  {
   "cell_type": "markdown",
   "metadata": {},
   "source": [
    "For this problem, we start with a value of 240 which corresponds to 3 months"
   ]
  },
  {
   "cell_type": "code",
   "execution_count": 41,
   "metadata": {},
   "outputs": [],
   "source": [
    "import tensorflow as tf\n",
    "from tensorflow import keras"
   ]
  },
  {
   "cell_type": "markdown",
   "metadata": {},
   "source": [
    "#revisar a partir de aqui"
   ]
  },
  {
   "cell_type": "code",
   "execution_count": 42,
   "metadata": {},
   "outputs": [
    {
     "name": "stderr",
     "output_type": "stream",
     "text": [
      "2023-10-08 14:44:22.462266: I tensorflow/compiler/xla/stream_executor/cuda/cuda_gpu_executor.cc:880] could not open file to read NUMA node: /sys/bus/pci/devices/0000:07:00.0/numa_node\n",
      "Your kernel may have been built without NUMA support.\n",
      "2023-10-08 14:44:22.462414: I tensorflow/compiler/xla/stream_executor/cuda/cuda_gpu_executor.cc:880] could not open file to read NUMA node: /sys/bus/pci/devices/0000:01:00.0/numa_node\n",
      "Your kernel may have been built without NUMA support.\n",
      "2023-10-08 14:44:22.488651: I tensorflow/compiler/xla/stream_executor/cuda/cuda_gpu_executor.cc:880] could not open file to read NUMA node: /sys/bus/pci/devices/0000:07:00.0/numa_node\n",
      "Your kernel may have been built without NUMA support.\n",
      "2023-10-08 14:44:22.488690: I tensorflow/compiler/xla/stream_executor/cuda/cuda_gpu_executor.cc:880] could not open file to read NUMA node: /sys/bus/pci/devices/0000:01:00.0/numa_node\n",
      "Your kernel may have been built without NUMA support.\n",
      "2023-10-08 14:44:22.488709: I tensorflow/compiler/xla/stream_executor/cuda/cuda_gpu_executor.cc:880] could not open file to read NUMA node: /sys/bus/pci/devices/0000:07:00.0/numa_node\n",
      "Your kernel may have been built without NUMA support.\n",
      "2023-10-08 14:44:22.488766: I tensorflow/compiler/xla/stream_executor/cuda/cuda_gpu_executor.cc:880] could not open file to read NUMA node: /sys/bus/pci/devices/0000:01:00.0/numa_node\n",
      "Your kernel may have been built without NUMA support.\n",
      "2023-10-08 14:44:23.089536: I tensorflow/compiler/xla/stream_executor/cuda/cuda_gpu_executor.cc:880] could not open file to read NUMA node: /sys/bus/pci/devices/0000:07:00.0/numa_node\n",
      "Your kernel may have been built without NUMA support.\n",
      "2023-10-08 14:44:23.089641: I tensorflow/compiler/xla/stream_executor/cuda/cuda_gpu_executor.cc:880] could not open file to read NUMA node: /sys/bus/pci/devices/0000:01:00.0/numa_node\n",
      "Your kernel may have been built without NUMA support.\n",
      "2023-10-08 14:44:23.089681: I tensorflow/compiler/xla/stream_executor/cuda/cuda_gpu_executor.cc:880] could not open file to read NUMA node: /sys/bus/pci/devices/0000:07:00.0/numa_node\n",
      "Your kernel may have been built without NUMA support.\n",
      "2023-10-08 14:44:23.089699: I tensorflow/compiler/xla/stream_executor/cuda/cuda_gpu_executor.cc:880] could not open file to read NUMA node: /sys/bus/pci/devices/0000:01:00.0/numa_node\n",
      "Your kernel may have been built without NUMA support.\n",
      "2023-10-08 14:44:23.089716: I tensorflow/compiler/xla/stream_executor/cuda/cuda_gpu_executor.cc:880] could not open file to read NUMA node: /sys/bus/pci/devices/0000:07:00.0/numa_node\n",
      "Your kernel may have been built without NUMA support.\n",
      "2023-10-08 14:44:23.089735: I tensorflow/compiler/xla/stream_executor/cuda/cuda_gpu_executor.cc:880] could not open file to read NUMA node: /sys/bus/pci/devices/0000:01:00.0/numa_node\n",
      "Your kernel may have been built without NUMA support.\n",
      "2023-10-08 14:44:24.923071: I tensorflow/compiler/xla/stream_executor/cuda/cuda_gpu_executor.cc:880] could not open file to read NUMA node: /sys/bus/pci/devices/0000:07:00.0/numa_node\n",
      "Your kernel may have been built without NUMA support.\n",
      "2023-10-08 14:44:24.923335: I tensorflow/compiler/xla/stream_executor/cuda/cuda_gpu_executor.cc:880] could not open file to read NUMA node: /sys/bus/pci/devices/0000:01:00.0/numa_node\n",
      "Your kernel may have been built without NUMA support.\n",
      "2023-10-08 14:44:24.923434: I tensorflow/compiler/xla/stream_executor/cuda/cuda_gpu_executor.cc:880] could not open file to read NUMA node: /sys/bus/pci/devices/0000:07:00.0/numa_node\n",
      "Your kernel may have been built without NUMA support.\n",
      "2023-10-08 14:44:24.923469: I tensorflow/core/common_runtime/gpu/gpu_device.cc:1977] Could not identify NUMA node of platform GPU id 0, defaulting to 0.  Your kernel may not have been built with NUMA support.\n",
      "2023-10-08 14:44:24.923539: I tensorflow/compiler/xla/stream_executor/cuda/cuda_gpu_executor.cc:880] could not open file to read NUMA node: /sys/bus/pci/devices/0000:01:00.0/numa_node\n",
      "Your kernel may have been built without NUMA support.\n",
      "2023-10-08 14:44:24.923548: I tensorflow/core/common_runtime/gpu/gpu_device.cc:1977] Could not identify NUMA node of platform GPU id 1, defaulting to 0.  Your kernel may not have been built with NUMA support.\n",
      "2023-10-08 14:44:24.923633: I tensorflow/compiler/xla/stream_executor/cuda/cuda_gpu_executor.cc:880] could not open file to read NUMA node: /sys/bus/pci/devices/0000:07:00.0/numa_node\n",
      "Your kernel may have been built without NUMA support.\n",
      "2023-10-08 14:44:24.923697: I tensorflow/core/common_runtime/gpu/gpu_device.cc:1886] Created device /job:localhost/replica:0/task:0/device:GPU:0 with 9539 MB memory:  -> device: 0, name: NVIDIA GeForce RTX 3060, pci bus id: 0000:07:00.0, compute capability: 8.6\n",
      "2023-10-08 14:44:24.924536: I tensorflow/compiler/xla/stream_executor/cuda/cuda_gpu_executor.cc:880] could not open file to read NUMA node: /sys/bus/pci/devices/0000:01:00.0/numa_node\n",
      "Your kernel may have been built without NUMA support.\n",
      "2023-10-08 14:44:24.924568: I tensorflow/core/common_runtime/gpu/gpu_device.cc:1886] Created device /job:localhost/replica:0/task:0/device:GPU:1 with 2075 MB memory:  -> device: 1, name: NVIDIA GeForce GTX 1650, pci bus id: 0000:01:00.0, compute capability: 7.5\n"
     ]
    }
   ],
   "source": [
    "#create a window to predict the next value\n",
    "window_size = 240\n",
    "batch_size = 32\n",
    "#shuffle_buffer_size = 1000\n",
    " \n",
    "# function to create windowed dataset\n",
    "def windowed_dataset(series, window_size, batch_size, shuffle_buffer):\n",
    "    series = tf.expand_dims(series, axis=-1)\n",
    "    ds = tf.data.Dataset.from_tensor_slices(series)\n",
    "    ds = ds.window(window_size + 1, shift=1, drop_remainder=True)\n",
    "    ds = ds.flat_map(lambda w: w.batch(window_size + 1))\n",
    "    #ds = ds.shuffle(shuffle_buffer)\n",
    "    ds = ds.map(lambda w: (w[:-1], w[-1]))\n",
    "    return ds.batch(batch_size).prefetch(1)\n",
    "\n",
    "# create windowed dataset\n",
    "train_set = windowed_dataset(y_train, window_size, batch_size, shuffle_buffer_size)\n",
    "test_set = windowed_dataset(y_test, window_size, batch_size, shuffle_buffer_size)\n"
   ]
  },
  {
   "cell_type": "code",
   "execution_count": 45,
   "metadata": {},
   "outputs": [
    {
     "name": "stdout",
     "output_type": "stream",
     "text": [
      "(32, 240, 1)\n",
      "(32, 1)\n"
     ]
    }
   ],
   "source": [
    "# show info about tensor train_set\n",
    "for X_batch, y_batch in train_set.take(1):\n",
    "    print(X_batch.shape)\n",
    "    print(y_batch.shape)"
   ]
  },
  {
   "cell_type": "code",
   "execution_count": 46,
   "metadata": {},
   "outputs": [
    {
     "data": {
      "text/plain": [
       "<tf.Tensor: shape=(32, 240, 1), dtype=float32, numpy=\n",
       "array([[[0.333],\n",
       "        [1.667],\n",
       "        [1.   ],\n",
       "        ...,\n",
       "        [4.667],\n",
       "        [5.   ],\n",
       "        [4.   ]],\n",
       "\n",
       "       [[4.333],\n",
       "        [3.667],\n",
       "        [2.333],\n",
       "        ...,\n",
       "        [3.   ],\n",
       "        [1.667],\n",
       "        [0.667]],\n",
       "\n",
       "       [[0.333],\n",
       "        [0.   ],\n",
       "        [0.   ],\n",
       "        ...,\n",
       "        [2.333],\n",
       "        [2.667],\n",
       "        [1.333]],\n",
       "\n",
       "       ...,\n",
       "\n",
       "       [[4.667],\n",
       "        [4.667],\n",
       "        [4.333],\n",
       "        ...,\n",
       "        [2.667],\n",
       "        [4.333],\n",
       "        [3.667]],\n",
       "\n",
       "       [[4.333],\n",
       "        [4.667],\n",
       "        [3.   ],\n",
       "        ...,\n",
       "        [4.667],\n",
       "        [4.   ],\n",
       "        [3.333]],\n",
       "\n",
       "       [[2.667],\n",
       "        [3.333],\n",
       "        [2.   ],\n",
       "        ...,\n",
       "        [2.667],\n",
       "        [2.333],\n",
       "        [3.667]]], dtype=float32)>"
      ]
     },
     "execution_count": 46,
     "metadata": {},
     "output_type": "execute_result"
    }
   ],
   "source": [
    "X_batch"
   ]
  },
  {
   "cell_type": "markdown",
   "metadata": {},
   "source": [
    "# Model A: Crashes the kernel"
   ]
  },
  {
   "cell_type": "code",
   "execution_count": 19,
   "metadata": {},
   "outputs": [
    {
     "name": "stderr",
     "output_type": "stream",
     "text": [
      "2023-10-08 12:57:53.927764: I tensorflow/tsl/platform/default/subprocess.cc:304] Start cannot spawn child process: No such file or directory\n"
     ]
    }
   ],
   "source": [
    "# create model  \n",
    "model = tf.keras.models.Sequential([\n",
    "    tf.keras.layers.Conv1D(filters=60, kernel_size=5,\n",
    "                           strides=1, padding=\"causal\",\n",
    "                           activation=\"relu\",\n",
    "                           input_shape=[None, 1]),\n",
    "    tf.keras.layers.LSTM(60, return_sequences=True),\n",
    "    tf.keras.layers.LSTM(60, return_sequences=True),\n",
    "    tf.keras.layers.Dense(30, activation=\"relu\"),\n",
    "    tf.keras.layers.Dense(10, activation=\"relu\"),\n",
    "    tf.keras.layers.Dense(1),\n",
    "    tf.keras.layers.Lambda(lambda x: x * 400)\n",
    "])\n",
    "\n",
    "# set learning rate\n",
    "lr_schedule = tf.keras.callbacks.LearningRateScheduler(\n",
    "    lambda epoch: 1e-8 * 10**(epoch / 20))\n",
    " \n"
   ]
  },
  {
   "cell_type": "code",
   "execution_count": 20,
   "metadata": {},
   "outputs": [
    {
     "data": {
      "text/plain": [
       "[PhysicalDevice(name='/physical_device:GPU:0', device_type='GPU'),\n",
       " PhysicalDevice(name='/physical_device:GPU:1', device_type='GPU')]"
      ]
     },
     "execution_count": 20,
     "metadata": {},
     "output_type": "execute_result"
    }
   ],
   "source": [
    "#see devices attached to tensorflow \n",
    "tf.config.list_physical_devices('GPU')"
   ]
  },
  {
   "cell_type": "code",
   "execution_count": 21,
   "metadata": {},
   "outputs": [
    {
     "data": {
      "text/plain": [
       "PhysicalDevice(name='/physical_device:GPU:1', device_type='GPU')"
      ]
     },
     "execution_count": 21,
     "metadata": {},
     "output_type": "execute_result"
    }
   ],
   "source": [
    "#set gpu device to use for training\n",
    "gpu = tf.config.experimental.list_physical_devices('GPU')[1]\n",
    "gpu"
   ]
  },
  {
   "cell_type": "code",
   "execution_count": 22,
   "metadata": {},
   "outputs": [
    {
     "name": "stderr",
     "output_type": "stream",
     "text": [
      "WARNING:absl:`lr` is deprecated in Keras optimizer, please use `learning_rate` or use the legacy optimizer, e.g.,tf.keras.optimizers.legacy.Adam.\n"
     ]
    },
    {
     "name": "stdout",
     "output_type": "stream",
     "text": [
      "Epoch 1/100\n"
     ]
    },
    {
     "ename": "",
     "evalue": "",
     "output_type": "error",
     "traceback": [
      "\u001b[1;31mThe Kernel crashed while executing code in the the current cell or a previous cell. Please review the code in the cell(s) to identify a possible cause of the failure. Click <a href='https://aka.ms/vscodeJupyterKernelCrash'>here</a> for more info. View Jupyter <a href='command:jupyter.viewOutput'>log</a> for further details."
     ]
    }
   ],
   "source": [
    "# compile model\n",
    "model.compile(loss=tf.keras.losses.Huber(),\n",
    "              optimizer=tf.keras.optimizers.Adam(lr=1e-8),\n",
    "              metrics=[\"mae\"])\n",
    "\n",
    "# fit model \n",
    "history = model.fit(train_set, epochs=100, callbacks=[lr_schedule])\n",
    "\n",
    "     \n",
    "# plot learning rate\n",
    "plt.semilogx(history.history[\"lr\"], history.history[\"loss\"])\n",
    "plt.axis([1e-8, 1e-3, 0, 60])\n",
    "plt.show()\n",
    " \n",
    "# plot loss\n",
    "plt.plot(history.history['loss'])\n",
    "plt.title('model loss')\n",
    "plt.ylabel('loss')\n",
    "plt.xlabel('epoch')\n"
   ]
  },
  {
   "cell_type": "code",
   "execution_count": null,
   "metadata": {},
   "outputs": [],
   "source": [
    "# predict on test set\n",
    "forecast = []\n",
    "results = []\n",
    "for time in range(len(y_test) - window_size):\n",
    "    forecast.append(model.predict(X_test_scaled.values[time:time + window_size][np.newaxis]))\n",
    "    results.append(y_test.values[time + window_size])\n",
    "    \n",
    "# plot results\n",
    "plt.figure(figsize=(15,5))\n",
    "plt.plot(y_test.index[window_size:], results, label='test')\n",
    "plt.plot(y_test.index[window_size:], np.array(forecast)[:, 0, 0], label='forecast')\n",
    "plt.legend(loc='best')\n",
    "plt.title('Forecast')\n",
    "plt.show()\n",
    "\n",
    "\n"
   ]
  },
  {
   "cell_type": "markdown",
   "metadata": {},
   "source": [
    "# LSTM"
   ]
  },
  {
   "cell_type": "code",
   "execution_count": 14,
   "metadata": {},
   "outputs": [],
   "source": [
    "import tensorflow as tf"
   ]
  },
  {
   "cell_type": "code",
   "execution_count": 15,
   "metadata": {},
   "outputs": [],
   "source": [
    "from keras.models import Sequential\n",
    "from keras.layers import Dense\n",
    "from keras.layers import LSTM\n",
    "from keras.layers import Dropout\n",
    "#change all columns that are float 64 to float 32\n",
    "tf.keras.backend.set_floatx('float32')"
   ]
  },
  {
   "cell_type": "code",
   "execution_count": 21,
   "metadata": {},
   "outputs": [],
   "source": [
    "Model_P = Sequential() #We create an object of the Sequential class"
   ]
  },
  {
   "cell_type": "code",
   "execution_count": 22,
   "metadata": {},
   "outputs": [
    {
     "name": "stderr",
     "output_type": "stream",
     "text": [
      "2023-10-08 13:03:18.824640: I tensorflow/tsl/platform/default/subprocess.cc:304] Start cannot spawn child process: No such file or directory\n"
     ]
    }
   ],
   "source": [
    "#create layers inside the model for LSTM using as input X_train_scaled.shape[1] and output 50\n",
    "Model_P.add(LSTM(units = 50, return_sequences = True, input_shape = (X_train_scaled.shape[1], 1)))"
   ]
  },
  {
   "cell_type": "code",
   "execution_count": 23,
   "metadata": {},
   "outputs": [
    {
     "data": {
      "text/plain": [
       "373"
      ]
     },
     "execution_count": 23,
     "metadata": {},
     "output_type": "execute_result"
    }
   ],
   "source": [
    "X_train.shape[1]"
   ]
  },
  {
   "cell_type": "code",
   "execution_count": 24,
   "metadata": {},
   "outputs": [],
   "source": [
    "#Now, prior to create the next layer, we will add the dropout regularization to avoid overfitting. Dropout works dropping some of neurons randomly\n",
    "Model_P.add(Dropout(0.2)) #By indicating 0.2, we are saying that 20% of the neurons will be dropped"
   ]
  },
  {
   "cell_type": "code",
   "execution_count": 25,
   "metadata": {},
   "outputs": [],
   "source": [
    "#Now, we go to the next layer. It will be as the 1st one, but we don't need to specify the input shape. We will also add a dropout layer\n",
    "Model_P.add(LSTM(units=60, return_sequences=True))\n",
    "Model_P.add(Dropout(0.2))"
   ]
  },
  {
   "cell_type": "code",
   "execution_count": 26,
   "metadata": {},
   "outputs": [],
   "source": [
    "#We add a 3rd layer\n",
    "Model_P.add(LSTM(units=60, return_sequences=True))\n",
    "Model_P.add(Dropout(0.2))"
   ]
  },
  {
   "cell_type": "code",
   "execution_count": 27,
   "metadata": {},
   "outputs": [],
   "source": [
    "#Finally, we add a 4th layer. This time we won't return sequences, as we are not going to add more LSTM layers\n",
    "Model_P.add(LSTM(units=60))\n",
    "Model_P.add(Dropout(0.2))"
   ]
  },
  {
   "cell_type": "code",
   "execution_count": 28,
   "metadata": {},
   "outputs": [],
   "source": [
    "#Now, we add the output layer\n",
    "Model_P.add(Dense(units=1)) #We just need to specify the number of units, which is 1, as we are just predicting one value"
   ]
  },
  {
   "cell_type": "code",
   "execution_count": 29,
   "metadata": {},
   "outputs": [],
   "source": [
    "#Now, we need to compile the model\n",
    "Model_P.compile(optimizer='adam', loss='mean_squared_error') #When compiling, we need to specify the optimizer and the loss function. In this case, we are using adam optimizer (as it is good for time series), and mean squared error as loss function"
   ]
  },
  {
   "cell_type": "code",
   "execution_count": 30,
   "metadata": {},
   "outputs": [
    {
     "name": "stdout",
     "output_type": "stream",
     "text": [
      "Epoch 1/30\n"
     ]
    },
    {
     "name": "stderr",
     "output_type": "stream",
     "text": [
      "2023-10-08 13:05:24.889516: I tensorflow/compiler/xla/stream_executor/cuda/cuda_dnn.cc:442] Loaded cuDNN version 8700\n",
      "2023-10-08 13:05:26.480918: I tensorflow/compiler/xla/service/service.cc:168] XLA service 0x7f3f9000b170 initialized for platform CUDA (this does not guarantee that XLA will be used). Devices:\n",
      "2023-10-08 13:05:26.480966: I tensorflow/compiler/xla/service/service.cc:176]   StreamExecutor device (0): NVIDIA GeForce RTX 3060, Compute Capability 8.6\n",
      "2023-10-08 13:05:26.480973: I tensorflow/compiler/xla/service/service.cc:176]   StreamExecutor device (1): NVIDIA GeForce GTX 1650, Compute Capability 7.5\n",
      "2023-10-08 13:05:26.489005: I tensorflow/compiler/mlir/tensorflow/utils/dump_mlir_util.cc:269] disabling MLIR crash reproducer, set env var `MLIR_CRASH_REPRODUCER_DIRECTORY` to enable.\n",
      "2023-10-08 13:05:26.581877: I ./tensorflow/compiler/jit/device_compiler.h:186] Compiled cluster using XLA!  This line is logged at most once for the lifetime of the process.\n"
     ]
    },
    {
     "name": "stdout",
     "output_type": "stream",
     "text": [
      "443/443 [==============================] - 106s 222ms/step - loss: 0.3173\n",
      "Epoch 2/30\n",
      "443/443 [==============================] - 98s 222ms/step - loss: 0.1082\n",
      "Epoch 3/30\n",
      "443/443 [==============================] - 98s 221ms/step - loss: 0.0774\n",
      "Epoch 4/30\n",
      "443/443 [==============================] - 98s 222ms/step - loss: 0.0588\n",
      "Epoch 5/30\n",
      "443/443 [==============================] - 99s 223ms/step - loss: 0.0471\n",
      "Epoch 6/30\n",
      "443/443 [==============================] - 98s 221ms/step - loss: 0.0344\n",
      "Epoch 7/30\n",
      "443/443 [==============================] - 97s 219ms/step - loss: 0.0471\n",
      "Epoch 8/30\n",
      "443/443 [==============================] - 97s 219ms/step - loss: 0.0411\n",
      "Epoch 9/30\n",
      "443/443 [==============================] - 97s 219ms/step - loss: 0.0247\n",
      "Epoch 10/30\n",
      "443/443 [==============================] - 95s 214ms/step - loss: 0.0251\n",
      "Epoch 11/30\n",
      "443/443 [==============================] - 88s 199ms/step - loss: 0.0255\n",
      "Epoch 12/30\n",
      "443/443 [==============================] - 88s 199ms/step - loss: 0.0204\n",
      "Epoch 13/30\n",
      "443/443 [==============================] - 88s 199ms/step - loss: 0.0185\n",
      "Epoch 14/30\n",
      "443/443 [==============================] - 89s 201ms/step - loss: 0.0267\n",
      "Epoch 15/30\n",
      "443/443 [==============================] - 88s 199ms/step - loss: 0.0180\n",
      "Epoch 16/30\n",
      "443/443 [==============================] - 88s 199ms/step - loss: 0.0172\n",
      "Epoch 17/30\n",
      "443/443 [==============================] - 89s 201ms/step - loss: 0.0180\n",
      "Epoch 18/30\n",
      "443/443 [==============================] - 89s 200ms/step - loss: 0.0248\n",
      "Epoch 19/30\n",
      "443/443 [==============================] - 89s 201ms/step - loss: 0.0294\n",
      "Epoch 20/30\n",
      "443/443 [==============================] - 89s 200ms/step - loss: 0.0259\n",
      "Epoch 21/30\n",
      "443/443 [==============================] - 88s 198ms/step - loss: 0.0168\n",
      "Epoch 22/30\n",
      "443/443 [==============================] - 88s 199ms/step - loss: 0.0145\n",
      "Epoch 23/30\n",
      "443/443 [==============================] - 88s 199ms/step - loss: 0.0218\n",
      "Epoch 24/30\n",
      "443/443 [==============================] - 89s 200ms/step - loss: 0.0166\n",
      "Epoch 25/30\n",
      "443/443 [==============================] - 88s 200ms/step - loss: 0.0116\n",
      "Epoch 26/30\n",
      "443/443 [==============================] - 89s 200ms/step - loss: 0.0124\n",
      "Epoch 27/30\n",
      "443/443 [==============================] - 94s 213ms/step - loss: 0.0257\n",
      "Epoch 28/30\n",
      "443/443 [==============================] - 101s 228ms/step - loss: 0.0182\n",
      "Epoch 29/30\n",
      "443/443 [==============================] - 106s 239ms/step - loss: 0.0106\n",
      "Epoch 30/30\n",
      "443/443 [==============================] - 101s 227ms/step - loss: 0.0210\n"
     ]
    },
    {
     "data": {
      "text/plain": [
       "<keras.src.callbacks.History at 0x7f4056ccef50>"
      ]
     },
     "execution_count": 30,
     "metadata": {},
     "output_type": "execute_result"
    }
   ],
   "source": [
    "#Now, we will fit our model\n",
    "Model_P.fit(X_train, y_train, epochs = 30, batch_size= 32) #Epochs mean number of iterations. We have to play with this parameter to find the best number of epochs. Batch size is the number of observations after which we want to update the weights. We can modify this parameter to find the best one."
   ]
  },
  {
   "cell_type": "code",
   "execution_count": 31,
   "metadata": {},
   "outputs": [],
   "source": [
    "Model_P.save('LSTM_Univariate.keras')"
   ]
  },
  {
   "cell_type": "code",
   "execution_count": 32,
   "metadata": {},
   "outputs": [
    {
     "data": {
      "image/png": "[encoded data removed]",
      "text/plain": [
       "<Figure size 640x480 with 1 Axes>"
      ]
     },
     "metadata": {},
     "output_type": "display_data"
    }
   ],
   "source": [
    "plt.plot(range(len(Model_P.history.history['loss'])), Model_P.history.history['loss']) #We plot the loss function to see how it is evolving\n",
    "plt.title('Loss Function')\n",
    "plt.xlabel('Epochs')\n",
    "plt.ylabel('Loss')\n",
    "plt.show()"
   ]
  },
  {
   "cell_type": "code",
   "execution_count": 33,
   "metadata": {},
   "outputs": [],
   "source": [
    "#Now, if we want to start from here without having to run all the code, we can just load the model\n",
    "from keras.models import load_model\n",
    "Model_P = load_model('LSTM_Univariate.keras')"
   ]
  },
  {
   "cell_type": "markdown",
   "metadata": {},
   "source": [
    "# Testing the LSTM model"
   ]
  },
  {
   "cell_type": "code",
   "execution_count": null,
   "metadata": {},
   "outputs": [],
   "source": []
  }
 ],
 "metadata": {
  "kernelspec": {
   "display_name": "Python 3",
   "language": "python",
   "name": "python3"
  },
  "language_info": {
   "codemirror_mode": {
    "name": "ipython",
    "version": 3
   },
   "file_extension": ".py",
   "mimetype": "text/x-python",
   "name": "python",
   "nbconvert_exporter": "python",
   "pygments_lexer": "ipython3",
   "version": "3.10.12"
  }
 },
 "nbformat": 4,
 "nbformat_minor": 2
}
