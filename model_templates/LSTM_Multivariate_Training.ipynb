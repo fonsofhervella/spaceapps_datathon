{
 "cells": [
  {
   "cell_type": "markdown",
   "metadata": {},
   "source": [
    "# **Multivariate LSTM Models**"
   ]
  },
  {
   "cell_type": "markdown",
   "metadata": {},
   "source": [
    "When talking about Multivariate Models, we are taking into consideration some predictors, independent variables that we can take advantage from when predicting our target variable."
   ]
  },
  {
   "cell_type": "code",
   "execution_count": 33,
   "metadata": {},
   "outputs": [],
   "source": [
    "import pandas as pd\n",
    "import numpy as np\n",
    "import matplotlib.pyplot as plt\n",
    "import seaborn as sns"
   ]
  },
  {
   "cell_type": "code",
   "execution_count": 34,
   "metadata": {},
   "outputs": [],
   "source": [
    "#Now, we import the dataset\n",
    "df = pd.read_csv('Electricity+Consumption.csv')"
   ]
  },
  {
   "cell_type": "code",
   "execution_count": 35,
   "metadata": {},
   "outputs": [
    {
     "data": {
      "text/html": [
       "<div>\n",
       "<style scoped>\n",
       "    .dataframe tbody tr th:only-of-type {\n",
       "        vertical-align: middle;\n",
       "    }\n",
       "\n",
       "    .dataframe tbody tr th {\n",
       "        vertical-align: top;\n",
       "    }\n",
       "\n",
       "    .dataframe thead th {\n",
       "        text-align: right;\n",
       "    }\n",
       "</style>\n",
       "<table border=\"1\" class=\"dataframe\">\n",
       "  <thead>\n",
       "    <tr style=\"text-align: right;\">\n",
       "      <th></th>\n",
       "      <th>DATE</th>\n",
       "      <th>Humidity</th>\n",
       "      <th>Temperature</th>\n",
       "      <th>Electricity</th>\n",
       "    </tr>\n",
       "  </thead>\n",
       "  <tbody>\n",
       "    <tr>\n",
       "      <th>0</th>\n",
       "      <td>2020-01-01 00:00:00 EST</td>\n",
       "      <td>92</td>\n",
       "      <td>-1.1</td>\n",
       "      <td>914</td>\n",
       "    </tr>\n",
       "    <tr>\n",
       "      <th>1</th>\n",
       "      <td>2020-01-01 01:00:00 EST</td>\n",
       "      <td>92</td>\n",
       "      <td>-1.5</td>\n",
       "      <td>887</td>\n",
       "    </tr>\n",
       "    <tr>\n",
       "      <th>2</th>\n",
       "      <td>2020-01-01 02:00:00 EST</td>\n",
       "      <td>91</td>\n",
       "      <td>-1.5</td>\n",
       "      <td>865</td>\n",
       "    </tr>\n",
       "    <tr>\n",
       "      <th>3</th>\n",
       "      <td>2020-01-01 03:00:00 EST</td>\n",
       "      <td>88</td>\n",
       "      <td>-1.1</td>\n",
       "      <td>852</td>\n",
       "    </tr>\n",
       "    <tr>\n",
       "      <th>4</th>\n",
       "      <td>2020-01-01 04:00:00 EST</td>\n",
       "      <td>87</td>\n",
       "      <td>-1.3</td>\n",
       "      <td>852</td>\n",
       "    </tr>\n",
       "  </tbody>\n",
       "</table>\n",
       "</div>"
      ],
      "text/plain": [
       "                      DATE  Humidity  Temperature  Electricity\n",
       "0  2020-01-01 00:00:00 EST        92         -1.1          914\n",
       "1  2020-01-01 01:00:00 EST        92         -1.5          887\n",
       "2  2020-01-01 02:00:00 EST        91         -1.5          865\n",
       "3  2020-01-01 03:00:00 EST        88         -1.1          852\n",
       "4  2020-01-01 04:00:00 EST        87         -1.3          852"
      ]
     },
     "execution_count": 35,
     "metadata": {},
     "output_type": "execute_result"
    }
   ],
   "source": [
    "df.head()"
   ]
  },
  {
   "cell_type": "code",
   "execution_count": 36,
   "metadata": {},
   "outputs": [
    {
     "name": "stdout",
     "output_type": "stream",
     "text": [
      "<class 'pandas.core.frame.DataFrame'>\n",
      "RangeIndex: 8760 entries, 0 to 8759\n",
      "Data columns (total 4 columns):\n",
      " #   Column       Non-Null Count  Dtype  \n",
      "---  ------       --------------  -----  \n",
      " 0   DATE         8760 non-null   object \n",
      " 1   Humidity     8760 non-null   int64  \n",
      " 2   Temperature  8760 non-null   float64\n",
      " 3   Electricity  8760 non-null   int64  \n",
      "dtypes: float64(1), int64(2), object(1)\n",
      "memory usage: 273.9+ KB\n"
     ]
    }
   ],
   "source": [
    "df.info()"
   ]
  },
  {
   "cell_type": "markdown",
   "metadata": {},
   "source": [
    "We have a dataset with 8,760 rows and 4 dimensions. The first column is the date, which is not needed at all for the model itself, is more for our information.\n",
    "\n",
    "**What's our goal?** Predict the future evolution of electricty consumption."
   ]
  },
  {
   "cell_type": "code",
   "execution_count": 37,
   "metadata": {},
   "outputs": [],
   "source": [
    "#Despite not having any null values, we will use dropna() because it is a good practice\n",
    "df.dropna(inplace=True)"
   ]
  },
  {
   "cell_type": "code",
   "execution_count": 38,
   "metadata": {},
   "outputs": [
    {
     "data": {
      "text/plain": [
       "<Axes: >"
      ]
     },
     "execution_count": 38,
     "metadata": {},
     "output_type": "execute_result"
    },
    {
     "data": {
      "image/png": "[encoded data removed]",
      "text/plain": [
       "<Figure size 640x480 with 2 Axes>"
      ]
     },
     "metadata": {},
     "output_type": "display_data"
    }
   ],
   "source": [
    "import seaborn as sns\n",
    "\n",
    "#Exclude the 'DATE' column from the DataFrame before computing the correlation matrix\n",
    "corr_df = df.drop(columns=['DATE'])\n",
    "\n",
    "sns.heatmap(corr_df.corr(), annot=True)"
   ]
  },
  {
   "cell_type": "markdown",
   "metadata": {},
   "source": [
    "We can see that the correlation is not too strong, but let's hope that it can help our model to learn better"
   ]
  },
  {
   "cell_type": "code",
   "execution_count": 39,
   "metadata": {},
   "outputs": [],
   "source": [
    "#Now, we will split the dataset into training and testing sets\n",
    "training_set = df.iloc[:8712, 1:4].values #As we said, column DATE is not important, so we exclude it and include the other 3 columns. We are getting 8712 rows in train, and the rest (48) in test\n",
    "test_set = df.iloc[8712:, 1:4].values"
   ]
  },
  {
   "cell_type": "code",
   "execution_count": 40,
   "metadata": {},
   "outputs": [
    {
     "data": {
      "text/plain": [
       "array([[  92. ,   -1.1,  914. ],\n",
       "       [  92. ,   -1.5,  887. ],\n",
       "       [  91. ,   -1.5,  865. ],\n",
       "       ...,\n",
       "       [  82. ,   -2.4, 1086. ],\n",
       "       [  82. ,   -3.1, 1034. ],\n",
       "       [  73. ,   -5. ,  979. ]])"
      ]
     },
     "execution_count": 40,
     "metadata": {},
     "output_type": "execute_result"
    }
   ],
   "source": [
    "training_set"
   ]
  },
  {
   "cell_type": "code",
   "execution_count": 41,
   "metadata": {},
   "outputs": [],
   "source": [
    "#Now, we have to normalize our data. This was optional when dealing with just one variable but for multiple variables, it is a must. \n",
    "from sklearn.preprocessing import MinMaxScaler\n",
    "\n",
    "sc = MinMaxScaler(feature_range=(0,1))\n",
    "\n",
    "training_set_scaled = sc.fit_transform(training_set)\n",
    "test_set_scaled = sc.fit_transform(test_set)"
   ]
  },
  {
   "cell_type": "code",
   "execution_count": 42,
   "metadata": {},
   "outputs": [
    {
     "data": {
      "text/plain": [
       "array([[0.91011236, 0.4       , 0.27878788],\n",
       "       [0.91011236, 0.3936    , 0.25541126],\n",
       "       [0.8988764 , 0.3936    , 0.23636364],\n",
       "       ...,\n",
       "       [0.79775281, 0.3792    , 0.42770563],\n",
       "       [0.79775281, 0.368     , 0.38268398],\n",
       "       [0.69662921, 0.3376    , 0.33506494]])"
      ]
     },
     "execution_count": 42,
     "metadata": {},
     "output_type": "execute_result"
    }
   ],
   "source": [
    "training_set_scaled"
   ]
  },
  {
   "cell_type": "code",
   "execution_count": 43,
   "metadata": {},
   "outputs": [],
   "source": [
    "#We have to modify our test_set scaled, as we want to exclude from it the column to predict (the last one in this case). We just want the predictors, the independent variables\n",
    "test_set_scaled = test_set_scaled[:,0:2]"
   ]
  },
  {
   "cell_type": "code",
   "execution_count": 44,
   "metadata": {},
   "outputs": [
    {
     "data": {
      "text/plain": [
       "array([[0.61702128, 0.375     ],\n",
       "       [0.70212766, 0.30555556],\n",
       "       [0.68085106, 0.22222222],\n",
       "       [0.65957447, 0.1875    ],\n",
       "       [0.65957447, 0.15972222],\n",
       "       [0.68085106, 0.125     ],\n",
       "       [0.63829787, 0.08333333],\n",
       "       [0.63829787, 0.02777778],\n",
       "       [0.63829787, 0.        ],\n",
       "       [0.61702128, 0.04166667],\n",
       "       [0.53191489, 0.09722222],\n",
       "       [0.46808511, 0.15972222],\n",
       "       [0.31914894, 0.22222222],\n",
       "       [0.21276596, 0.28472222],\n",
       "       [0.14893617, 0.29861111],\n",
       "       [0.        , 0.34027778],\n",
       "       [0.04255319, 0.3125    ],\n",
       "       [0.21276596, 0.21527778],\n",
       "       [0.27659574, 0.21527778],\n",
       "       [0.44680851, 0.125     ],\n",
       "       [0.44680851, 0.13194444],\n",
       "       [0.53191489, 0.20138889],\n",
       "       [0.57446809, 0.19444444],\n",
       "       [0.5106383 , 0.22222222],\n",
       "       [0.55319149, 0.22916667],\n",
       "       [0.59574468, 0.20833333],\n",
       "       [0.59574468, 0.22916667],\n",
       "       [0.63829787, 0.22916667],\n",
       "       [0.70212766, 0.23611111],\n",
       "       [0.72340426, 0.24305556],\n",
       "       [0.74468085, 0.23611111],\n",
       "       [0.72340426, 0.28472222],\n",
       "       [0.72340426, 0.30555556],\n",
       "       [0.63829787, 0.41666667],\n",
       "       [0.61702128, 0.48611111],\n",
       "       [0.65957447, 0.5       ],\n",
       "       [0.89361702, 0.5       ],\n",
       "       [0.85106383, 0.54166667],\n",
       "       [0.85106383, 0.55555556],\n",
       "       [0.93617021, 0.57638889],\n",
       "       [0.95744681, 0.59027778],\n",
       "       [0.9787234 , 0.63888889],\n",
       "       [0.9787234 , 0.68055556],\n",
       "       [1.        , 0.73611111],\n",
       "       [0.95744681, 0.875     ],\n",
       "       [0.9787234 , 0.95138889],\n",
       "       [0.95744681, 0.97222222],\n",
       "       [1.        , 1.        ]])"
      ]
     },
     "execution_count": 44,
     "metadata": {},
     "output_type": "execute_result"
    }
   ],
   "source": [
    "test_set_scaled"
   ]
  },
  {
   "cell_type": "markdown",
   "metadata": {},
   "source": [
    "Now, we want to create different batches. The code will be equal than in the LSTM_Univariate_Training notebook. The only thing we have to change here is the WS parameter, which will depend on the specific case. Also, we modify a bit the dimensions when creating the loop"
   ]
  },
  {
   "cell_type": "code",
   "execution_count": 45,
   "metadata": {},
   "outputs": [],
   "source": [
    "#We need to create empty lists as we are going to use for loop to append the values\n",
    "X_train = []\n",
    "y_train = []\n",
    "\n",
    "#We select windows size as 24, as we have 24 hours seasonality\n",
    "WS = 24"
   ]
  },
  {
   "cell_type": "code",
   "execution_count": 46,
   "metadata": {},
   "outputs": [],
   "source": [
    "#Now, we create the for loop for creating our X_train and y_train\n",
    "for i in range(WS, len(training_set_scaled)):\n",
    "    X_train.append(training_set_scaled[i-WS:i,0:3]) #We are using the append method and we are saying, go to training_set_scaled and select the values from i-WS to i, and select all the columns, included the predictors. With that, we would have different batches of 24, 24... So, first batch is the first 24 hours, then the second batch is from 1 to 25, and so on.\n",
    "    y_train.append(training_set_scaled[i,2]) #For the y_train we are doing pretty much the same thing but we are just selecting the next value, so if first batch covers from 0 to 23, the y_train will be 24, and so on. Here, we select just the column including the target variable.\n",
    "\n",
    "#Finally we have to convert the X_train and y_train into numpy arrays\n",
    "X_train, y_train = np.array(X_train), np.array(y_train)"
   ]
  },
  {
   "cell_type": "code",
   "execution_count": 47,
   "metadata": {},
   "outputs": [],
   "source": [
    "#Finally we have to convert the X_train and y_train into numpy arrays\n",
    "X_train, y_train = np.array(X_train), np.array(y_train)"
   ]
  },
  {
   "cell_type": "code",
   "execution_count": 48,
   "metadata": {},
   "outputs": [
    {
     "data": {
      "text/plain": [
       "(8688, 24, 3)"
      ]
     },
     "execution_count": 48,
     "metadata": {},
     "output_type": "execute_result"
    }
   ],
   "source": [
    "X_train.shape"
   ]
  },
  {
   "cell_type": "markdown",
   "metadata": {},
   "source": [
    "We can see that now we have 24 features"
   ]
  },
  {
   "cell_type": "code",
   "execution_count": 49,
   "metadata": {},
   "outputs": [],
   "source": [
    "#The last stage is reshaping to make sure that everything is in the proper state previously sending it to our model\n",
    "X_train = np.reshape(X_train,(X_train.shape[0], X_train.shape[1], 3)) #Last number is the number of features that are going into our model, in this case 3"
   ]
  },
  {
   "cell_type": "code",
   "execution_count": 50,
   "metadata": {},
   "outputs": [
    {
     "data": {
      "text/plain": [
       "(8688, 24, 3)"
      ]
     },
     "execution_count": 50,
     "metadata": {},
     "output_type": "execute_result"
    }
   ],
   "source": [
    "X_train.shape"
   ]
  },
  {
   "cell_type": "markdown",
   "metadata": {},
   "source": [
    "In this case, nothing has changed in the shape, but it is a good exercise to be hundred per cent sure that we are doing the right thing"
   ]
  },
  {
   "cell_type": "markdown",
   "metadata": {},
   "source": [
    "# 2. LSTM Model"
   ]
  },
  {
   "cell_type": "code",
   "execution_count": 51,
   "metadata": {},
   "outputs": [],
   "source": [
    "from keras.models import Sequential\n",
    "from keras.layers import LSTM\n",
    "from keras.layers import Dense\n",
    "from keras.layers import Dropout"
   ]
  },
  {
   "cell_type": "code",
   "execution_count": 52,
   "metadata": {},
   "outputs": [],
   "source": [
    "#First, we initialize our model\n",
    "Model = Sequential()"
   ]
  },
  {
   "cell_type": "code",
   "execution_count": 53,
   "metadata": {},
   "outputs": [],
   "source": [
    "#Now, we are going to add the first LSTM layer\n",
    "Model.add(LSTM(units=70, return_sequences=True, input_shape=(X_train.shape[1], 3))) #Input shape is our input layer. We have 3 because number of features is 3.\n",
    "Model.add(Dropout(0.2)) #We are going to use dropout regularization to avoid overfitting"
   ]
  },
  {
   "cell_type": "code",
   "execution_count": 54,
   "metadata": {},
   "outputs": [],
   "source": [
    "#Now, let's add the second layer. At this point, we don't need input_shape\n",
    "Model.add(LSTM(units=70, return_sequences=True))\n",
    "Model.add(Dropout(0.2))"
   ]
  },
  {
   "cell_type": "code",
   "execution_count": 55,
   "metadata": {},
   "outputs": [],
   "source": [
    "#We add the third layer\n",
    "Model.add(LSTM(units=70, return_sequences=True))\n",
    "Model.add(Dropout(0.2))"
   ]
  },
  {
   "cell_type": "code",
   "execution_count": 56,
   "metadata": {},
   "outputs": [],
   "source": [
    "#We add the last hidden layer. We don't need return_sequences=True because we are not going to add more layers\n",
    "Model.add(LSTM(units=70))\n",
    "Model.add(Dropout(0.2))"
   ]
  },
  {
   "cell_type": "code",
   "execution_count": 57,
   "metadata": {},
   "outputs": [],
   "source": [
    "#Now, we create our output layer with the dense method\n",
    "Model.add(Dense(units=1))"
   ]
  },
  {
   "cell_type": "code",
   "execution_count": 58,
   "metadata": {},
   "outputs": [],
   "source": [
    "#Now, we compile our model. We will use adam as optimizer and mean squared error as loss function\n",
    "Model.compile(optimizer='adam', loss='mean_squared_error')"
   ]
  },
  {
   "cell_type": "code",
   "execution_count": 59,
   "metadata": {},
   "outputs": [
    {
     "name": "stdout",
     "output_type": "stream",
     "text": [
      "Model: \"sequential_1\"\n",
      "_________________________________________________________________\n",
      " Layer (type)                Output Shape              Param #   \n",
      "=================================================================\n",
      " lstm_4 (LSTM)               (None, 24, 70)            20720     \n",
      "                                                                 \n",
      " dropout_4 (Dropout)         (None, 24, 70)            0         \n",
      "                                                                 \n",
      " lstm_5 (LSTM)               (None, 24, 70)            39480     \n",
      "                                                                 \n",
      " dropout_5 (Dropout)         (None, 24, 70)            0         \n",
      "                                                                 \n",
      " lstm_6 (LSTM)               (None, 24, 70)            39480     \n",
      "                                                                 \n",
      " dropout_6 (Dropout)         (None, 24, 70)            0         \n",
      "                                                                 \n",
      " lstm_7 (LSTM)               (None, 70)                39480     \n",
      "                                                                 \n",
      " dropout_7 (Dropout)         (None, 70)                0         \n",
      "                                                                 \n",
      " dense_1 (Dense)             (None, 1)                 71        \n",
      "                                                                 \n",
      "=================================================================\n",
      "Total params: 139231 (543.87 KB)\n",
      "Trainable params: 139231 (543.87 KB)\n",
      "Non-trainable params: 0 (0.00 Byte)\n",
      "_________________________________________________________________\n"
     ]
    }
   ],
   "source": [
    "Model.summary()"
   ]
  },
  {
   "cell_type": "code",
   "execution_count": 60,
   "metadata": {},
   "outputs": [
    {
     "name": "stdout",
     "output_type": "stream",
     "text": [
      "Epoch 1/80\n",
      "272/272 [==============================] - 13s 30ms/step - loss: 0.0148\n",
      "Epoch 2/80\n",
      "272/272 [==============================] - 9s 32ms/step - loss: 0.0066\n",
      "Epoch 3/80\n",
      "272/272 [==============================] - 9s 33ms/step - loss: 0.0055\n",
      "Epoch 4/80\n",
      "272/272 [==============================] - 9s 33ms/step - loss: 0.0049\n",
      "Epoch 5/80\n",
      "272/272 [==============================] - 9s 34ms/step - loss: 0.0046\n",
      "Epoch 6/80\n",
      "272/272 [==============================] - 9s 34ms/step - loss: 0.0039\n",
      "Epoch 7/80\n",
      "272/272 [==============================] - 9s 34ms/step - loss: 0.0030\n",
      "Epoch 8/80\n",
      "272/272 [==============================] - 9s 34ms/step - loss: 0.0025\n",
      "Epoch 9/80\n",
      "272/272 [==============================] - 10s 36ms/step - loss: 0.0019\n",
      "Epoch 10/80\n",
      "272/272 [==============================] - 10s 37ms/step - loss: 0.0017\n",
      "Epoch 11/80\n",
      "272/272 [==============================] - 10s 37ms/step - loss: 0.0016\n",
      "Epoch 12/80\n",
      "272/272 [==============================] - 10s 38ms/step - loss: 0.0014\n",
      "Epoch 13/80\n",
      "272/272 [==============================] - 10s 39ms/step - loss: 0.0013\n",
      "Epoch 14/80\n",
      "272/272 [==============================] - 11s 40ms/step - loss: 0.0012\n",
      "Epoch 15/80\n",
      "272/272 [==============================] - 11s 40ms/step - loss: 0.0012\n",
      "Epoch 16/80\n",
      "272/272 [==============================] - 11s 41ms/step - loss: 0.0011\n",
      "Epoch 17/80\n",
      "272/272 [==============================] - 12s 43ms/step - loss: 0.0011\n",
      "Epoch 18/80\n",
      "272/272 [==============================] - 12s 44ms/step - loss: 0.0010\n",
      "Epoch 19/80\n",
      "272/272 [==============================] - 12s 43ms/step - loss: 9.5390e-04\n",
      "Epoch 20/80\n",
      "272/272 [==============================] - 12s 43ms/step - loss: 8.9827e-04\n",
      "Epoch 21/80\n",
      "272/272 [==============================] - 12s 43ms/step - loss: 9.0264e-04\n",
      "Epoch 22/80\n",
      "272/272 [==============================] - 11s 42ms/step - loss: 8.8309e-04\n",
      "Epoch 23/80\n",
      "272/272 [==============================] - 12s 44ms/step - loss: 8.5812e-04\n",
      "Epoch 24/80\n",
      "272/272 [==============================] - 12s 44ms/step - loss: 8.4572e-04\n",
      "Epoch 25/80\n",
      "272/272 [==============================] - 12s 46ms/step - loss: 8.4593e-04\n",
      "Epoch 26/80\n",
      "272/272 [==============================] - 12s 45ms/step - loss: 8.3302e-04\n",
      "Epoch 27/80\n",
      "272/272 [==============================] - 12s 43ms/step - loss: 8.3272e-04\n",
      "Epoch 28/80\n",
      "272/272 [==============================] - 12s 44ms/step - loss: 8.1869e-04\n",
      "Epoch 29/80\n",
      "272/272 [==============================] - 12s 45ms/step - loss: 7.8568e-04\n",
      "Epoch 30/80\n",
      "272/272 [==============================] - 12s 44ms/step - loss: 7.3576e-04\n",
      "Epoch 31/80\n",
      "272/272 [==============================] - 12s 44ms/step - loss: 7.6450e-04\n",
      "Epoch 32/80\n",
      "272/272 [==============================] - 12s 45ms/step - loss: 7.9251e-04\n",
      "Epoch 33/80\n",
      "272/272 [==============================] - 12s 45ms/step - loss: 7.8128e-04\n",
      "Epoch 34/80\n",
      "272/272 [==============================] - 12s 45ms/step - loss: 7.8607e-04\n",
      "Epoch 35/80\n",
      "272/272 [==============================] - 12s 45ms/step - loss: 7.3962e-04\n",
      "Epoch 36/80\n",
      "272/272 [==============================] - 12s 45ms/step - loss: 7.1613e-04\n",
      "Epoch 37/80\n",
      "272/272 [==============================] - 12s 44ms/step - loss: 7.2446e-04\n",
      "Epoch 38/80\n",
      "272/272 [==============================] - 12s 45ms/step - loss: 6.9758e-04\n",
      "Epoch 39/80\n",
      "272/272 [==============================] - 12s 45ms/step - loss: 7.0332e-04\n",
      "Epoch 40/80\n",
      "272/272 [==============================] - 12s 45ms/step - loss: 6.8645e-04\n",
      "Epoch 41/80\n",
      "272/272 [==============================] - 13s 47ms/step - loss: 6.9122e-04\n",
      "Epoch 42/80\n",
      "272/272 [==============================] - 12s 44ms/step - loss: 6.4372e-04\n",
      "Epoch 43/80\n",
      "272/272 [==============================] - 13s 47ms/step - loss: 6.5465e-04\n",
      "Epoch 44/80\n",
      "272/272 [==============================] - 15s 54ms/step - loss: 6.6588e-04\n",
      "Epoch 45/80\n",
      "272/272 [==============================] - 14s 51ms/step - loss: 6.8930e-04\n",
      "Epoch 46/80\n",
      "272/272 [==============================] - 15s 55ms/step - loss: 6.8221e-04\n",
      "Epoch 47/80\n",
      "272/272 [==============================] - 15s 57ms/step - loss: 6.6301e-04\n",
      "Epoch 48/80\n",
      "272/272 [==============================] - 15s 55ms/step - loss: 6.4792e-04\n",
      "Epoch 49/80\n",
      "272/272 [==============================] - 15s 56ms/step - loss: 6.5920e-04\n",
      "Epoch 50/80\n",
      "272/272 [==============================] - 14s 53ms/step - loss: 6.6808e-04\n",
      "Epoch 51/80\n",
      "272/272 [==============================] - 14s 51ms/step - loss: 6.3669e-04\n",
      "Epoch 52/80\n",
      "272/272 [==============================] - 15s 54ms/step - loss: 6.5601e-04\n",
      "Epoch 53/80\n",
      "272/272 [==============================] - 14s 51ms/step - loss: 6.6786e-04\n",
      "Epoch 54/80\n",
      "272/272 [==============================] - 14s 52ms/step - loss: 6.3326e-04\n",
      "Epoch 55/80\n",
      "272/272 [==============================] - 14s 52ms/step - loss: 5.9739e-04\n",
      "Epoch 56/80\n",
      "272/272 [==============================] - 13s 48ms/step - loss: 6.3502e-04\n",
      "Epoch 57/80\n",
      "272/272 [==============================] - 14s 50ms/step - loss: 6.4969e-04\n",
      "Epoch 58/80\n",
      "272/272 [==============================] - 14s 53ms/step - loss: 6.1136e-04\n",
      "Epoch 59/80\n",
      "272/272 [==============================] - 14s 52ms/step - loss: 6.0743e-04\n",
      "Epoch 60/80\n",
      "272/272 [==============================] - 15s 54ms/step - loss: 6.1153e-04\n",
      "Epoch 61/80\n",
      "272/272 [==============================] - 14s 51ms/step - loss: 5.9543e-04\n",
      "Epoch 62/80\n",
      "272/272 [==============================] - 14s 53ms/step - loss: 5.6046e-04\n",
      "Epoch 63/80\n",
      "272/272 [==============================] - 14s 52ms/step - loss: 5.9698e-04\n",
      "Epoch 64/80\n",
      "272/272 [==============================] - 14s 51ms/step - loss: 5.9552e-04\n",
      "Epoch 65/80\n",
      "272/272 [==============================] - 13s 49ms/step - loss: 5.7339e-04\n",
      "Epoch 66/80\n",
      "272/272 [==============================] - 14s 51ms/step - loss: 5.8411e-04\n",
      "Epoch 67/80\n",
      "272/272 [==============================] - 14s 51ms/step - loss: 5.8442e-04\n",
      "Epoch 68/80\n",
      "272/272 [==============================] - 15s 54ms/step - loss: 5.9039e-04\n",
      "Epoch 69/80\n",
      "272/272 [==============================] - 15s 54ms/step - loss: 5.8825e-04\n",
      "Epoch 70/80\n",
      "272/272 [==============================] - 17s 63ms/step - loss: 5.8046e-04\n",
      "Epoch 71/80\n",
      "272/272 [==============================] - 17s 61ms/step - loss: 5.6726e-04\n",
      "Epoch 72/80\n",
      "272/272 [==============================] - 17s 61ms/step - loss: 5.7336e-04\n",
      "Epoch 73/80\n",
      "272/272 [==============================] - 15s 54ms/step - loss: 5.3418e-04\n",
      "Epoch 74/80\n",
      "272/272 [==============================] - 19s 70ms/step - loss: 5.4188e-04\n",
      "Epoch 75/80\n",
      "272/272 [==============================] - 18s 65ms/step - loss: 5.7894e-04\n",
      "Epoch 76/80\n",
      "272/272 [==============================] - 18s 67ms/step - loss: 5.4575e-04\n",
      "Epoch 77/80\n",
      "272/272 [==============================] - 17s 63ms/step - loss: 5.3145e-04\n",
      "Epoch 78/80\n",
      "272/272 [==============================] - 16s 59ms/step - loss: 5.7113e-04\n",
      "Epoch 79/80\n",
      "272/272 [==============================] - 16s 58ms/step - loss: 5.2991e-04\n",
      "Epoch 80/80\n",
      "272/272 [==============================] - 15s 55ms/step - loss: 5.3632e-04\n"
     ]
    },
    {
     "data": {
      "text/plain": [
       "<keras.src.callbacks.History at 0x1c3ce449c00>"
      ]
     },
     "execution_count": 60,
     "metadata": {},
     "output_type": "execute_result"
    }
   ],
   "source": [
    "#Now, we have our model. It is time to fit it\n",
    "Model.fit(X_train, y_train, epochs=80, batch_size=32) #Remember that for batch_size, we have to select a number that is a divisor of the number of observations. In this case, we have 8712 observations, so we can select 32, 64, 128, 256, 512, 1024, 2048, 4096..."
   ]
  },
  {
   "cell_type": "markdown",
   "metadata": {},
   "source": [
    "As we said, the low losses don't mean that the model is good, but it is a good sign. We can see that the model is learning, but we have to be careful with the overfitting. We will see it later"
   ]
  },
  {
   "cell_type": "code",
   "execution_count": 85,
   "metadata": {},
   "outputs": [
    {
     "data": {
      "text/plain": [
       "keras.src.engine.sequential.Sequential"
      ]
     },
     "execution_count": 85,
     "metadata": {},
     "output_type": "execute_result"
    }
   ],
   "source": [
    "type(Model)"
   ]
  },
  {
   "cell_type": "code",
   "execution_count": 86,
   "metadata": {},
   "outputs": [
    {
     "data": {
      "text/plain": [
       "keras.src.callbacks.History"
      ]
     },
     "execution_count": 86,
     "metadata": {},
     "output_type": "execute_result"
    }
   ],
   "source": [
    "type(Model.history)"
   ]
  },
  {
   "cell_type": "code",
   "execution_count": 90,
   "metadata": {},
   "outputs": [
    {
     "name": "stdout",
     "output_type": "stream",
     "text": [
      "Model: \"sequential_1\"\n",
      "_________________________________________________________________\n",
      " Layer (type)                Output Shape              Param #   \n",
      "=================================================================\n",
      " lstm_4 (LSTM)               (None, 24, 70)            20720     \n",
      "                                                                 \n",
      " dropout_4 (Dropout)         (None, 24, 70)            0         \n",
      "                                                                 \n",
      " lstm_5 (LSTM)               (None, 24, 70)            39480     \n",
      "                                                                 \n",
      " dropout_5 (Dropout)         (None, 24, 70)            0         \n",
      "                                                                 \n",
      " lstm_6 (LSTM)               (None, 24, 70)            39480     \n",
      "                                                                 \n",
      " dropout_6 (Dropout)         (None, 24, 70)            0         \n",
      "                                                                 \n",
      " lstm_7 (LSTM)               (None, 70)                39480     \n",
      "                                                                 \n",
      " dropout_7 (Dropout)         (None, 70)                0         \n",
      "                                                                 \n",
      " dense_1 (Dense)             (None, 1)                 71        \n",
      "                                                                 \n",
      "=================================================================\n",
      "Total params: 139231 (543.87 KB)\n",
      "Trainable params: 139231 (543.87 KB)\n",
      "Non-trainable params: 0 (0.00 Byte)\n",
      "_________________________________________________________________\n"
     ]
    }
   ],
   "source": [
    "Model.summary()"
   ]
  },
  {
   "cell_type": "code",
   "execution_count": 91,
   "metadata": {},
   "outputs": [],
   "source": [
    "#Now, we save the model\n",
    "Model.save('LSTM_Multivariate.keras')"
   ]
  },
  {
   "cell_type": "code",
   "execution_count": 92,
   "metadata": {},
   "outputs": [],
   "source": [
    "# #If we load the model, we lose the history, because the saved model does not store it. Despite that, if we have ended using loss, we can load the model for the predictions.\n",
    "# Model2 = load_model('LSTM_Multivariate.keras')"
   ]
  },
  {
   "cell_type": "code",
   "execution_count": 93,
   "metadata": {},
   "outputs": [
    {
     "name": "stdout",
     "output_type": "stream",
     "text": [
      "Model: \"sequential_1\"\n",
      "_________________________________________________________________\n",
      " Layer (type)                Output Shape              Param #   \n",
      "=================================================================\n",
      " lstm_4 (LSTM)               (None, 24, 70)            20720     \n",
      "                                                                 \n",
      " dropout_4 (Dropout)         (None, 24, 70)            0         \n",
      "                                                                 \n",
      " lstm_5 (LSTM)               (None, 24, 70)            39480     \n",
      "                                                                 \n",
      " dropout_5 (Dropout)         (None, 24, 70)            0         \n",
      "                                                                 \n",
      " lstm_6 (LSTM)               (None, 24, 70)            39480     \n",
      "                                                                 \n",
      " dropout_6 (Dropout)         (None, 24, 70)            0         \n",
      "                                                                 \n",
      " lstm_7 (LSTM)               (None, 70)                39480     \n",
      "                                                                 \n",
      " dropout_7 (Dropout)         (None, 70)                0         \n",
      "                                                                 \n",
      " dense_1 (Dense)             (None, 1)                 71        \n",
      "                                                                 \n",
      "=================================================================\n",
      "Total params: 139231 (543.87 KB)\n",
      "Trainable params: 139231 (543.87 KB)\n",
      "Non-trainable params: 0 (0.00 Byte)\n",
      "_________________________________________________________________\n"
     ]
    }
   ],
   "source": [
    "Model2.summary()"
   ]
  },
  {
   "cell_type": "code",
   "execution_count": 63,
   "metadata": {},
   "outputs": [
    {
     "data": {
      "image/png": "[encoded data removed]",
      "text/plain": [
       "<Figure size 640x480 with 1 Axes>"
      ]
     },
     "metadata": {},
     "output_type": "display_data"
    }
   ],
   "source": [
    "#After developing the model, the first thing we have to do is understand our loss function. We can plot it\n",
    "plt.plot(range(len(Model.history.history['loss'])), Model.history.history['loss'])\n",
    "plt.title('Loss Function')\n",
    "plt.xlabel('Epochs')\n",
    "plt.ylabel('Loss')\n",
    "plt.show()"
   ]
  },
  {
   "cell_type": "markdown",
   "metadata": {},
   "source": [
    "Again, we can see that after 40-50 epochs the model is having non-significant improvements. This can indicate that probably even 40, 50 epochs can be enough for this model"
   ]
  },
  {
   "cell_type": "markdown",
   "metadata": {},
   "source": [
    "# Testing our model\n",
    "\n",
    "For the multivariate it will be a bit more complicated than for the univariate.\n",
    "\n",
    "As a reminder: in **univariate**, if we had WS=4 we will apply the model to t1, t2, t3, t4 and we will predict t5. Then, we will take t2, t3, t4, and the previously predicted t5 and we will predict t6. And so on, until the number of predictions we want to do.\n",
    "\n",
    "In **multivariate** we don't have just target variables, as we have also other variables. What we do is the same thing but this time, for t5, we will bring the values of the external variables from our original data and we will bring the predicted value of t5 but just for our independent variable. Then, we will predict t6, and we will bring the values of the external variables from our original data and we will bring the predicted value of t6 but just for our independent variable. And so on, until the number of predictions we want to do."
   ]
  },
  {
   "cell_type": "code",
   "execution_count": 70,
   "metadata": {},
   "outputs": [],
   "source": [
    "#First, we start by creating an empty list\n",
    "prediction_test = []\n",
    "\n",
    "#Now, we create batch one, which contains the last WS observations from the training set\n",
    "batch_one = training_set_scaled[-WS:]\n",
    "\n",
    "#Then, we create a list for the new batches\n",
    "batch_new = batch_one.reshape((1, WS, 3)) #We have a 3 because we have 3 input features"
   ]
  },
  {
   "cell_type": "code",
   "execution_count": 71,
   "metadata": {},
   "outputs": [
    {
     "name": "stdout",
     "output_type": "stream",
     "text": [
      "1/1 [==============================] - 0s 25ms/step\n"
     ]
    },
    {
     "name": "stdout",
     "output_type": "stream",
     "text": [
      "1/1 [==============================] - 0s 24ms/step\n",
      "1/1 [==============================] - 0s 19ms/step\n",
      "1/1 [==============================] - 0s 21ms/step\n",
      "1/1 [==============================] - 0s 58ms/step\n",
      "1/1 [==============================] - 0s 21ms/step\n",
      "1/1 [==============================] - 0s 23ms/step\n",
      "1/1 [==============================] - 0s 17ms/step\n",
      "1/1 [==============================] - 0s 19ms/step\n",
      "1/1 [==============================] - 0s 21ms/step\n",
      "1/1 [==============================] - 0s 19ms/step\n",
      "1/1 [==============================] - 0s 19ms/step\n",
      "1/1 [==============================] - 0s 19ms/step\n",
      "1/1 [==============================] - 0s 20ms/step\n",
      "1/1 [==============================] - 0s 21ms/step\n",
      "1/1 [==============================] - 0s 21ms/step\n",
      "1/1 [==============================] - 0s 23ms/step\n",
      "1/1 [==============================] - 0s 22ms/step\n",
      "1/1 [==============================] - 0s 24ms/step\n",
      "1/1 [==============================] - 0s 25ms/step\n",
      "1/1 [==============================] - 0s 23ms/step\n",
      "1/1 [==============================] - 0s 23ms/step\n",
      "1/1 [==============================] - 0s 22ms/step\n",
      "1/1 [==============================] - 0s 22ms/step\n",
      "1/1 [==============================] - 0s 21ms/step\n",
      "1/1 [==============================] - 0s 21ms/step\n",
      "1/1 [==============================] - 0s 68ms/step\n",
      "1/1 [==============================] - 0s 25ms/step\n",
      "1/1 [==============================] - 0s 19ms/step\n",
      "1/1 [==============================] - 0s 23ms/step\n",
      "1/1 [==============================] - 0s 21ms/step\n",
      "1/1 [==============================] - 0s 21ms/step\n",
      "1/1 [==============================] - 0s 17ms/step\n",
      "1/1 [==============================] - 0s 19ms/step\n",
      "1/1 [==============================] - 0s 19ms/step\n",
      "1/1 [==============================] - 0s 20ms/step\n",
      "1/1 [==============================] - 0s 18ms/step\n",
      "1/1 [==============================] - 0s 18ms/step\n",
      "1/1 [==============================] - 0s 23ms/step\n",
      "1/1 [==============================] - 0s 22ms/step\n",
      "1/1 [==============================] - 0s 23ms/step\n",
      "1/1 [==============================] - 0s 24ms/step\n",
      "1/1 [==============================] - 0s 23ms/step\n",
      "1/1 [==============================] - 0s 22ms/step\n",
      "1/1 [==============================] - 0s 21ms/step\n",
      "1/1 [==============================] - 0s 24ms/step\n",
      "1/1 [==============================] - 0s 19ms/step\n",
      "1/1 [==============================] - 0s 23ms/step\n"
     ]
    }
   ],
   "source": [
    "#Now, we create our for loop\n",
    "for i in range(48): #Here we are predicting 48, which is the lenght of the test set. We could also expand the predictions to bigger numbers\n",
    "    First_pred = Model.predict(batch_new)[0]\n",
    "    prediction_test.append(First_pred)\n",
    "    #Now we have to create a new variable. Which is our test_set_scaled. In the test_set_scaled, previously we removed the column to predict, so right now we just have the predictors. Then we say, get the row i of predictors and add them into New_var\n",
    "    New_var = test_set_scaled[i,:]\n",
    "    New_var = New_var.reshape(1,2) #We have a 2 because we have 2 input features\n",
    "    New_test = np.insert(New_var, 2, [First_pred], axis=1) #Here, we have the 2 because we have 2 input features (columns 0 and 1) so we are saying, go to column 2 and insert the First_pred value\n",
    "    New_test = np.reshape(New_test, (1,1,3))\n",
    "    #Then, we have to update the batch_new\n",
    "    batch_new = np.append(batch_new[:,1:,:], New_test, axis=1) #We are saying, go to batch_new, select all the rows, select columns from 1 to the end, and then add the New_test. We are doing this because we want to update the batch_new with the new prediction, so we have to remove the first value of the batch_new and add the new prediction"
   ]
  },
  {
   "cell_type": "code",
   "execution_count": 72,
   "metadata": {},
   "outputs": [],
   "source": [
    "#Now, we transform the prediction_test into a numpy array\n",
    "prediction_test = np.array(prediction_test)"
   ]
  },
  {
   "cell_type": "code",
   "execution_count": 73,
   "metadata": {},
   "outputs": [
    {
     "data": {
      "text/html": [
       "<style>#sk-container-id-2 {color: black;}#sk-container-id-2 pre{padding: 0;}#sk-container-id-2 div.sk-toggleable {background-color: white;}#sk-container-id-2 label.sk-toggleable__label {cursor: pointer;display: block;width: 100%;margin-bottom: 0;padding: 0.3em;box-sizing: border-box;text-align: center;}#sk-container-id-2 label.sk-toggleable__label-arrow:before {content: \"▸\";float: left;margin-right: 0.25em;color: #696969;}#sk-container-id-2 label.sk-toggleable__label-arrow:hover:before {color: black;}#sk-container-id-2 div.sk-estimator:hover label.sk-toggleable__label-arrow:before {color: black;}#sk-container-id-2 div.sk-toggleable__content {max-height: 0;max-width: 0;overflow: hidden;text-align: left;background-color: #f0f8ff;}#sk-container-id-2 div.sk-toggleable__content pre {margin: 0.2em;color: black;border-radius: 0.25em;background-color: #f0f8ff;}#sk-container-id-2 input.sk-toggleable__control:checked~div.sk-toggleable__content {max-height: 200px;max-width: 100%;overflow: auto;}#sk-container-id-2 input.sk-toggleable__control:checked~label.sk-toggleable__label-arrow:before {content: \"▾\";}#sk-container-id-2 div.sk-estimator input.sk-toggleable__control:checked~label.sk-toggleable__label {background-color: #d4ebff;}#sk-container-id-2 div.sk-label input.sk-toggleable__control:checked~label.sk-toggleable__label {background-color: #d4ebff;}#sk-container-id-2 input.sk-hidden--visually {border: 0;clip: rect(1px 1px 1px 1px);clip: rect(1px, 1px, 1px, 1px);height: 1px;margin: -1px;overflow: hidden;padding: 0;position: absolute;width: 1px;}#sk-container-id-2 div.sk-estimator {font-family: monospace;background-color: #f0f8ff;border: 1px dotted black;border-radius: 0.25em;box-sizing: border-box;margin-bottom: 0.5em;}#sk-container-id-2 div.sk-estimator:hover {background-color: #d4ebff;}#sk-container-id-2 div.sk-parallel-item::after {content: \"\";width: 100%;border-bottom: 1px solid gray;flex-grow: 1;}#sk-container-id-2 div.sk-label:hover label.sk-toggleable__label {background-color: #d4ebff;}#sk-container-id-2 div.sk-serial::before {content: \"\";position: absolute;border-left: 1px solid gray;box-sizing: border-box;top: 0;bottom: 0;left: 50%;z-index: 0;}#sk-container-id-2 div.sk-serial {display: flex;flex-direction: column;align-items: center;background-color: white;padding-right: 0.2em;padding-left: 0.2em;position: relative;}#sk-container-id-2 div.sk-item {position: relative;z-index: 1;}#sk-container-id-2 div.sk-parallel {display: flex;align-items: stretch;justify-content: center;background-color: white;position: relative;}#sk-container-id-2 div.sk-item::before, #sk-container-id-2 div.sk-parallel-item::before {content: \"\";position: absolute;border-left: 1px solid gray;box-sizing: border-box;top: 0;bottom: 0;left: 50%;z-index: -1;}#sk-container-id-2 div.sk-parallel-item {display: flex;flex-direction: column;z-index: 1;position: relative;background-color: white;}#sk-container-id-2 div.sk-parallel-item:first-child::after {align-self: flex-end;width: 50%;}#sk-container-id-2 div.sk-parallel-item:last-child::after {align-self: flex-start;width: 50%;}#sk-container-id-2 div.sk-parallel-item:only-child::after {width: 0;}#sk-container-id-2 div.sk-dashed-wrapped {border: 1px dashed gray;margin: 0 0.4em 0.5em 0.4em;box-sizing: border-box;padding-bottom: 0.4em;background-color: white;}#sk-container-id-2 div.sk-label label {font-family: monospace;font-weight: bold;display: inline-block;line-height: 1.2em;}#sk-container-id-2 div.sk-label-container {text-align: center;}#sk-container-id-2 div.sk-container {/* jupyter's `normalize.less` sets `[hidden] { display: none; }` but bootstrap.min.css set `[hidden] { display: none !important; }` so we also need the `!important` here to be able to override the default hidden behavior on the sphinx rendered scikit-learn.org. See: https://github.com/scikit-learn/scikit-learn/issues/21755 */display: inline-block !important;position: relative;}#sk-container-id-2 div.sk-text-repr-fallback {display: none;}</style><div id=\"sk-container-id-2\" class=\"sk-top-container\"><div class=\"sk-text-repr-fallback\"><pre>MinMaxScaler()</pre><b>In a Jupyter environment, please rerun this cell to show the HTML representation or trust the notebook. <br />On GitHub, the HTML representation is unable to render, please try loading this page with nbviewer.org.</b></div><div class=\"sk-container\" hidden><div class=\"sk-item\"><div class=\"sk-estimator sk-toggleable\"><input class=\"sk-toggleable__control sk-hidden--visually\" id=\"sk-estimator-id-2\" type=\"checkbox\" checked><label for=\"sk-estimator-id-2\" class=\"sk-toggleable__label sk-toggleable__label-arrow\">MinMaxScaler</label><div class=\"sk-toggleable__content\"><pre>MinMaxScaler()</pre></div></div></div></div></div>"
      ],
      "text/plain": [
       "MinMaxScaler()"
      ]
     },
     "execution_count": 73,
     "metadata": {},
     "output_type": "execute_result"
    }
   ],
   "source": [
    "#Now, we have to bring back the predictions into the original scale, not the scaled one. It has a small trick in comparison with the univariate case. We cannot use the inverse_transform method directly because we have used sc for 3 variables, but now we want to bring one. We can use it if we want to bring back all the variables, but not if we want to bring back just one.\n",
    "\n",
    "SI = MinMaxScaler(feature_range=(0,1)) #We create a new scaler, with the same range as the previous one\n",
    "#Now, we want the 3 column\n",
    "y_scale = training_set[:,2:3] #We are saying, go to training_set, select all the rows, and select the column 3. We are selecting the 2 because we want the third column, and we have to start counting from 0\n",
    "SI.fit(y_scale) #We fit the scaler with the y_scale"
   ]
  },
  {
   "cell_type": "code",
   "execution_count": 74,
   "metadata": {},
   "outputs": [],
   "source": [
    "#The next thing is using our predictions with the inverse_transform method for the SI scaler that we have created and fit with the target variable\n",
    "predictions = SI.inverse_transform(prediction_test)"
   ]
  },
  {
   "cell_type": "code",
   "execution_count": 75,
   "metadata": {},
   "outputs": [
    {
     "data": {
      "text/plain": [
       "array([[ 916.8212 ],\n",
       "       [ 874.1394 ],\n",
       "       [ 847.5091 ],\n",
       "       [ 833.9819 ],\n",
       "       [ 831.9097 ],\n",
       "       [ 846.4926 ],\n",
       "       [ 887.5891 ],\n",
       "       [ 948.8053 ],\n",
       "       [ 995.75946],\n",
       "       [1008.17206],\n",
       "       [ 998.91876],\n",
       "       [ 992.67175],\n",
       "       [ 998.893  ],\n",
       "       [1013.0174 ],\n",
       "       [1025.8729 ],\n",
       "       [1035.6385 ],\n",
       "       [1052.8254 ],\n",
       "       [1111.5592 ],\n",
       "       [1224.2833 ],\n",
       "       [1265.5294 ],\n",
       "       [1230.3729 ],\n",
       "       [1190.168  ],\n",
       "       [1139.0167 ],\n",
       "       [1073.3346 ],\n",
       "       [1001.90283],\n",
       "       [ 939.5857 ],\n",
       "       [ 896.1453 ],\n",
       "       [ 869.8129 ],\n",
       "       [ 855.1094 ],\n",
       "       [ 848.1908 ],\n",
       "       [ 852.0687 ],\n",
       "       [ 875.62537],\n",
       "       [ 923.51874],\n",
       "       [ 984.5567 ],\n",
       "       [1033.9121 ],\n",
       "       [1067.3716 ],\n",
       "       [1093.0162 ],\n",
       "       [1105.8702 ],\n",
       "       [1107.1451 ],\n",
       "       [1103.6377 ],\n",
       "       [1103.0776 ],\n",
       "       [1115.8391 ],\n",
       "       [1149.8091 ],\n",
       "       [1178.7548 ],\n",
       "       [1168.8921 ],\n",
       "       [1139.9625 ],\n",
       "       [1108.7101 ],\n",
       "       [1064.4719 ]], dtype=float32)"
      ]
     },
     "execution_count": 75,
     "metadata": {},
     "output_type": "execute_result"
    }
   ],
   "source": [
    "predictions"
   ]
  },
  {
   "cell_type": "code",
   "execution_count": 76,
   "metadata": {},
   "outputs": [],
   "source": [
    "real_values = test_set[:,2]"
   ]
  },
  {
   "cell_type": "code",
   "execution_count": 77,
   "metadata": {},
   "outputs": [
    {
     "data": {
      "text/plain": [
       "array([ 941.,  923.,  913.,  905.,  923.,  964., 1038., 1096., 1111.,\n",
       "       1094., 1049., 1082., 1077., 1070., 1085., 1148., 1241., 1335.,\n",
       "       1296., 1269., 1232., 1171., 1114., 1020.,  987.,  952.,  931.,\n",
       "        911.,  940.,  974., 1049., 1096., 1116., 1144., 1177., 1223.,\n",
       "       1221., 1203., 1207., 1226., 1279., 1305., 1242., 1180., 1133.,\n",
       "       1073.,  994.,  919.])"
      ]
     },
     "execution_count": 77,
     "metadata": {},
     "output_type": "execute_result"
    }
   ],
   "source": [
    "real_values"
   ]
  },
  {
   "cell_type": "code",
   "execution_count": 78,
   "metadata": {},
   "outputs": [
    {
     "data": {
      "image/png": "[encoded data removed]",
      "text/plain": [
       "<Figure size 640x480 with 1 Axes>"
      ]
     },
     "metadata": {},
     "output_type": "display_data"
    }
   ],
   "source": [
    "plt.plot(real_values, color='red', label='Real Electricity Consumption')\n",
    "plt.plot(predictions, color='blue', label='Predicted Electricity Consumption')\n",
    "plt.title('Electricity Consumption Prediction')\n",
    "plt.xlabel('Time')\n",
    "plt.ylabel('Electricity Consumption')\n",
    "plt.legend()\n",
    "plt.show()"
   ]
  },
  {
   "cell_type": "code",
   "execution_count": 79,
   "metadata": {},
   "outputs": [
    {
     "name": "stdout",
     "output_type": "stream",
     "text": [
      "The RMSE is: 113.33487190742883\n"
     ]
    }
   ],
   "source": [
    "#Now, we can calculate the RMSE\n",
    "import math\n",
    "from sklearn.metrics import mean_squared_error\n",
    "\n",
    "RMSE = math.sqrt(mean_squared_error(real_values, predictions))\n",
    "print('The RMSE is: ' + str(RMSE))"
   ]
  },
  {
   "cell_type": "code",
   "execution_count": 81,
   "metadata": {},
   "outputs": [],
   "source": [
    "#Now, we define the MAPE function\n",
    "def mean_absolute_percentage_error (y_true, y_pred):\n",
    "    y_true, y_pred = np.array(y_true), np.array(y_pred)\n",
    "    return np.mean(np.abs((y_true - y_pred) / y_true)) * 100"
   ]
  },
  {
   "cell_type": "code",
   "execution_count": 84,
   "metadata": {},
   "outputs": [
    {
     "name": "stdout",
     "output_type": "stream",
     "text": [
      "The MAPE is: 13.684504007077402%\n"
     ]
    }
   ],
   "source": [
    "MAPE= mean_absolute_percentage_error(real_values, predictions)\n",
    "\n",
    "print('The MAPE is: ' + str(MAPE) + '%')\n"
   ]
  }
 ],
 "metadata": {
  "kernelspec": {
   "display_name": "forecasting",
   "language": "python",
   "name": "python3"
  },
  "language_info": {
   "codemirror_mode": {
    "name": "ipython",
    "version": 3
   },
   "file_extension": ".py",
   "mimetype": "text/x-python",
   "name": "python",
   "nbconvert_exporter": "python",
   "pygments_lexer": "ipython3",
   "version": "3.10.12"
  },
  "orig_nbformat": 4
 },
 "nbformat": 4,
 "nbformat_minor": 2
}
