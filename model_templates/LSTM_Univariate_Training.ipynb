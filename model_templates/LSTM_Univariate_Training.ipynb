{
 "cells": [
  {
   "cell_type": "markdown",
   "metadata": {},
   "source": [
    "# **Univariate LSTM Models**"
   ]
  },
  {
   "cell_type": "code",
   "execution_count": 1,
   "metadata": {},
   "outputs": [],
   "source": [
    "#We start by importing the necessary libraries\n",
    "import numpy as np\n",
    "import pandas as pd\n",
    "import matplotlib.pyplot as plt"
   ]
  },
  {
   "cell_type": "code",
   "execution_count": 2,
   "metadata": {},
   "outputs": [],
   "source": [
    "#Now, we import the dataset. In this case, we don't need to set the date as index, and parse dates, as we have been doing for ARIMA models. We can just import the dataset as it is.\n",
    "df = pd.read_csv('Solar+Data+Set.csv')"
   ]
  },
  {
   "cell_type": "code",
   "execution_count": 3,
   "metadata": {},
   "outputs": [
    {
     "name": "stdout",
     "output_type": "stream",
     "text": [
      "<class 'pandas.core.frame.DataFrame'>\n",
      "RangeIndex: 8760 entries, 0 to 8759\n",
      "Data columns (total 2 columns):\n",
      " #   Column     Non-Null Count  Dtype  \n",
      "---  ------     --------------  -----  \n",
      " 0   Date       8760 non-null   object \n",
      " 1   Solar Ir   8760 non-null   float64\n",
      "dtypes: float64(1), object(1)\n",
      "memory usage: 137.0+ KB\n"
     ]
    }
   ],
   "source": [
    "df.info()"
   ]
  },
  {
   "cell_type": "code",
   "execution_count": 4,
   "metadata": {},
   "outputs": [
    {
     "data": {
      "text/html": [
       "<div>\n",
       "<style scoped>\n",
       "    .dataframe tbody tr th:only-of-type {\n",
       "        vertical-align: middle;\n",
       "    }\n",
       "\n",
       "    .dataframe tbody tr th {\n",
       "        vertical-align: top;\n",
       "    }\n",
       "\n",
       "    .dataframe thead th {\n",
       "        text-align: right;\n",
       "    }\n",
       "</style>\n",
       "<table border=\"1\" class=\"dataframe\">\n",
       "  <thead>\n",
       "    <tr style=\"text-align: right;\">\n",
       "      <th></th>\n",
       "      <th>Date</th>\n",
       "      <th>Solar Ir</th>\n",
       "    </tr>\n",
       "  </thead>\n",
       "  <tbody>\n",
       "    <tr>\n",
       "      <th>0</th>\n",
       "      <td>1/1/2019 0:00</td>\n",
       "      <td>0.0</td>\n",
       "    </tr>\n",
       "    <tr>\n",
       "      <th>1</th>\n",
       "      <td>1/1/2019 1:00</td>\n",
       "      <td>0.0</td>\n",
       "    </tr>\n",
       "    <tr>\n",
       "      <th>2</th>\n",
       "      <td>1/1/2019 2:00</td>\n",
       "      <td>0.0</td>\n",
       "    </tr>\n",
       "    <tr>\n",
       "      <th>3</th>\n",
       "      <td>1/1/2019 3:00</td>\n",
       "      <td>0.0</td>\n",
       "    </tr>\n",
       "    <tr>\n",
       "      <th>4</th>\n",
       "      <td>1/1/2019 4:00</td>\n",
       "      <td>0.0</td>\n",
       "    </tr>\n",
       "  </tbody>\n",
       "</table>\n",
       "</div>"
      ],
      "text/plain": [
       "            Date  Solar Ir \n",
       "0  1/1/2019 0:00        0.0\n",
       "1  1/1/2019 1:00        0.0\n",
       "2  1/1/2019 2:00        0.0\n",
       "3  1/1/2019 3:00        0.0\n",
       "4  1/1/2019 4:00        0.0"
      ]
     },
     "execution_count": 4,
     "metadata": {},
     "output_type": "execute_result"
    }
   ],
   "source": [
    "df.head()"
   ]
  },
  {
   "cell_type": "markdown",
   "metadata": {},
   "source": [
    "## **1. Preprocessing**"
   ]
  },
  {
   "cell_type": "code",
   "execution_count": 5,
   "metadata": {},
   "outputs": [
    {
     "data": {
      "text/plain": [
       "Date         0\n",
       "Solar Ir     0\n",
       "dtype: int64"
      ]
     },
     "execution_count": 5,
     "metadata": {},
     "output_type": "execute_result"
    }
   ],
   "source": [
    "#As always, it is really important to deal with missing values.\n",
    "df.isnull().sum()"
   ]
  },
  {
   "cell_type": "code",
   "execution_count": 6,
   "metadata": {},
   "outputs": [],
   "source": [
    "#We don't have any missing values, so we can proceed to the next step. Despite that, we will use the dropna function as a good practice, so we can use it in other cases.\n",
    "df.dropna(inplace=True)"
   ]
  },
  {
   "cell_type": "code",
   "execution_count": 7,
   "metadata": {},
   "outputs": [],
   "source": [
    "#Now, let's split data into train and set\n",
    "train = df.iloc[:8712,1:2].values #We are just using the second column, which is the energy generation. For LSTM date column is not necessary. Also, we will use values method to convert the dataframe into a numpy array.\n",
    "test = df.iloc[8712:,1:2].values"
   ]
  },
  {
   "cell_type": "code",
   "execution_count": 8,
   "metadata": {},
   "outputs": [
    {
     "name": "stdout",
     "output_type": "stream",
     "text": [
      "Train Shape: (8712, 1)\n",
      "Test Shape: (48, 1)\n"
     ]
    }
   ],
   "source": [
    "print('Train Shape:', train.shape)\n",
    "print('Test Shape:', test.shape)"
   ]
  },
  {
   "cell_type": "code",
   "execution_count": 9,
   "metadata": {},
   "outputs": [],
   "source": [
    "#Only part missing is feature scaling. In this example we just have one variable, so normalizing is not neccessary. However, we will do it as a good practice. Sometimes, the difference between values, despite just having one column, can be huge, so it is always a good idea to normalize.\n",
    "from sklearn.preprocessing import MinMaxScaler\n",
    "\n",
    "sc = MinMaxScaler(feature_range=(0,1)) #We create an object of the MinMaxScaler class, and we set the feature range from 0 to 1\n",
    "train_scaled = sc.fit_transform(train) #We fit and transform the train set´\n",
    "test_scaled = sc.fit_transform(test) #We transform the test set"
   ]
  },
  {
   "cell_type": "markdown",
   "metadata": {},
   "source": [
    "Before continuing our model, we have to understand a concept: Look Back Window or Period. This is the number of previous time steps to use as input variables to predict the next time period. In the training process, imagine that I have a look back window of 4. I will use t1, t2, t3 and t4 to predict t5. Then, I will use t2, t3, t4 and t5 to predict t6 and so on. That's how our model is going to be trained.\n",
    "\n",
    "The window size is a parameter that we are going to give to our model. Which window size should we use? It depends on each problem. As general rule, we want to consider at least one seasonality period. For example, if we have daily data and we know that there is a weekly seasonality, we should use a window size of 7. If we have monthly data and we know that there is a yearly seasonality, we should use a window size of 12.\n",
    "\n",
    "We can increase windows size and most of the time it will increase model accuracy but also, it will increase the training time. So, we have to find a balance between accuracy and training time.\n",
    "\n"
   ]
  },
  {
   "cell_type": "code",
   "execution_count": 10,
   "metadata": {},
   "outputs": [],
   "source": [
    "#We need to create empty lists as we are going to use for loop to append the values\n",
    "X_train = []\n",
    "y_train = []\n",
    "\n",
    "#We select windows size as 24, as we have 24 hours seasonality\n",
    "WS = 24"
   ]
  },
  {
   "cell_type": "code",
   "execution_count": 11,
   "metadata": {},
   "outputs": [],
   "source": [
    "#Now, we create the for loop for creating our X_train and y_train\n",
    "for i in range(WS, len(train_scaled)):\n",
    "    X_train.append(train_scaled[i-WS:i,0:1]) #We are using the append method and we are saying, go to train_scaled and select the values from i-WS to i, and select the first column. With that, we would have different batches of 24, 24... So, first batch is the first 24 hours, then the second batch is from 1 to 25, and so on.\n",
    "    y_train.append(train_scaled[i,0]) #For the y_train we are doing pretty much the same thing but we are just selecting the next value, so if first batch covers from 0 to 23, the y_train will be 24, and so on.\n",
    "\n",
    "#Finally we have to convert the X_train and y_train into numpy arrays\n",
    "X_train, y_train = np.array(X_train), np.array(y_train)"
   ]
  },
  {
   "cell_type": "markdown",
   "metadata": {},
   "source": [
    "## **2. Developing a LSTM Model**"
   ]
  },
  {
   "cell_type": "code",
   "execution_count": 12,
   "metadata": {},
   "outputs": [],
   "source": [
    "#First, we will import the necessary libraries\n",
    "from keras.models import Sequential\n",
    "from keras.layers import Dense\n",
    "from keras.layers import LSTM\n",
    "from keras.layers import Dropout"
   ]
  },
  {
   "cell_type": "code",
   "execution_count": 13,
   "metadata": {},
   "outputs": [],
   "source": [
    "Model_P = Sequential() #We create an object of the Sequential class"
   ]
  },
  {
   "cell_type": "code",
   "execution_count": 14,
   "metadata": {},
   "outputs": [],
   "source": [
    "#Now, we have to create our layers inside the model created\n",
    "Model_P.add(LSTM(units=60, return_sequences=True, input_shape = (X_train.shape[1],1))) #The parameters here have been selected kind of randomly. What we should do in next iterations is applying hyperparameter tuning to find the best parameters. The input shape has to be defined on our first layer. This first layer is responsible for receiving the input values"
   ]
  },
  {
   "cell_type": "markdown",
   "metadata": {},
   "source": [
    "(X_train.shape[1],1). The last one is indicating the number of dimensions. Now, we just have one dimension, so it will be one. If we had more than one dimension, we would have to change this parameter."
   ]
  },
  {
   "cell_type": "code",
   "execution_count": 15,
   "metadata": {},
   "outputs": [
    {
     "data": {
      "text/plain": [
       "24"
      ]
     },
     "execution_count": 15,
     "metadata": {},
     "output_type": "execute_result"
    }
   ],
   "source": [
    "X_train.shape[1]"
   ]
  },
  {
   "cell_type": "code",
   "execution_count": 16,
   "metadata": {},
   "outputs": [],
   "source": [
    "#Now, prior to create the next layer, we will add the dropout regularization to avoid overfitting. Dropout works dropping some of neurons randomly\n",
    "Model_P.add(Dropout(0.2)) #By indicating 0.2, we are saying that 20% of the neurons will be dropped"
   ]
  },
  {
   "cell_type": "code",
   "execution_count": 17,
   "metadata": {},
   "outputs": [],
   "source": [
    "#Now, we go to the next layer. It will be as the 1st one, but we don't need to specify the input shape. We will also add a dropout layer\n",
    "Model_P.add(LSTM(units=60, return_sequences=True))\n",
    "Model_P.add(Dropout(0.2))"
   ]
  },
  {
   "cell_type": "code",
   "execution_count": 18,
   "metadata": {},
   "outputs": [],
   "source": [
    "#We add a 3rd layer\n",
    "Model_P.add(LSTM(units=60, return_sequences=True))\n",
    "Model_P.add(Dropout(0.2))"
   ]
  },
  {
   "cell_type": "code",
   "execution_count": 19,
   "metadata": {},
   "outputs": [],
   "source": [
    "#Finally, we add a 4th layer. This time we won't return sequences, as we are not going to add more LSTM layers\n",
    "Model_P.add(LSTM(units=60))\n",
    "Model_P.add(Dropout(0.2))"
   ]
  },
  {
   "cell_type": "code",
   "execution_count": 20,
   "metadata": {},
   "outputs": [],
   "source": [
    "#Now, we add the output layer\n",
    "Model_P.add(Dense(units=1)) #We just need to specify the number of units, which is 1, as we are just predicting one value"
   ]
  },
  {
   "cell_type": "code",
   "execution_count": 21,
   "metadata": {},
   "outputs": [],
   "source": [
    "#Now, we need to compile the model\n",
    "Model_P.compile(optimizer='adam', loss='mean_squared_error') #When compiling, we need to specify the optimizer and the loss function. In this case, we are using adam optimizer (as it is good for time series), and mean squared error as loss function"
   ]
  },
  {
   "cell_type": "code",
   "execution_count": 22,
   "metadata": {},
   "outputs": [
    {
     "name": "stdout",
     "output_type": "stream",
     "text": [
      "Epoch 1/30\n",
      "272/272 [==============================] - 14s 30ms/step - loss: 0.0251\n",
      "Epoch 2/30\n",
      "272/272 [==============================] - 8s 29ms/step - loss: 0.0073\n",
      "Epoch 3/30\n",
      "272/272 [==============================] - 8s 31ms/step - loss: 0.0047\n",
      "Epoch 4/30\n",
      "272/272 [==============================] - 9s 33ms/step - loss: 0.0033\n",
      "Epoch 5/30\n",
      "272/272 [==============================] - 9s 34ms/step - loss: 0.0027\n",
      "Epoch 6/30\n",
      "272/272 [==============================] - 9s 34ms/step - loss: 0.0024\n",
      "Epoch 7/30\n",
      "272/272 [==============================] - 10s 35ms/step - loss: 0.0020\n",
      "Epoch 8/30\n",
      "272/272 [==============================] - 10s 36ms/step - loss: 0.0018\n",
      "Epoch 9/30\n",
      "272/272 [==============================] - 11s 40ms/step - loss: 0.0017\n",
      "Epoch 10/30\n",
      "272/272 [==============================] - 11s 39ms/step - loss: 0.0015\n",
      "Epoch 11/30\n",
      "272/272 [==============================] - 10s 37ms/step - loss: 0.0016\n",
      "Epoch 12/30\n",
      "272/272 [==============================] - 10s 37ms/step - loss: 0.0015\n",
      "Epoch 13/30\n",
      "272/272 [==============================] - 10s 37ms/step - loss: 0.0013\n",
      "Epoch 14/30\n",
      "272/272 [==============================] - 10s 36ms/step - loss: 0.0013\n",
      "Epoch 15/30\n",
      "272/272 [==============================] - 10s 36ms/step - loss: 0.0013\n",
      "Epoch 16/30\n",
      "272/272 [==============================] - 10s 37ms/step - loss: 0.0013\n",
      "Epoch 17/30\n",
      "272/272 [==============================] - 10s 36ms/step - loss: 0.0012\n",
      "Epoch 18/30\n",
      "272/272 [==============================] - 10s 37ms/step - loss: 0.0011\n",
      "Epoch 19/30\n",
      "272/272 [==============================] - 11s 39ms/step - loss: 0.0012\n",
      "Epoch 20/30\n",
      "272/272 [==============================] - 10s 37ms/step - loss: 0.0011\n",
      "Epoch 21/30\n",
      "272/272 [==============================] - 11s 41ms/step - loss: 0.0011\n",
      "Epoch 22/30\n",
      "272/272 [==============================] - 11s 40ms/step - loss: 0.0011\n",
      "Epoch 23/30\n",
      "272/272 [==============================] - 10s 37ms/step - loss: 0.0010\n",
      "Epoch 24/30\n",
      "272/272 [==============================] - 10s 38ms/step - loss: 0.0013\n",
      "Epoch 25/30\n",
      "272/272 [==============================] - 10s 37ms/step - loss: 0.0012\n",
      "Epoch 26/30\n",
      "272/272 [==============================] - 10s 37ms/step - loss: 0.0011\n",
      "Epoch 27/30\n",
      "272/272 [==============================] - 11s 40ms/step - loss: 9.9780e-04\n",
      "Epoch 28/30\n",
      "272/272 [==============================] - 10s 37ms/step - loss: 0.0010\n",
      "Epoch 29/30\n",
      "272/272 [==============================] - 10s 38ms/step - loss: 0.0010\n",
      "Epoch 30/30\n",
      "272/272 [==============================] - 10s 37ms/step - loss: 9.9782e-04\n"
     ]
    },
    {
     "data": {
      "text/plain": [
       "<keras.src.callbacks.History at 0x296194816f0>"
      ]
     },
     "execution_count": 22,
     "metadata": {},
     "output_type": "execute_result"
    }
   ],
   "source": [
    "#Now, we will fit our model\n",
    "Model_P.fit(X_train, y_train, epochs = 30, batch_size= 32) #Epochs mean number of iterations. We have to play with this parameter to find the best number of epochs. Batch size is the number of observations after which we want to update the weights. We can modify this parameter to find the best one."
   ]
  },
  {
   "cell_type": "markdown",
   "metadata": {},
   "source": [
    "Despite having a really low loss, it is even possible that in the test set our model is not able to predict the values correctly, so we have to be aware of that, and further analysis should be done. To avoid running the model several times, we shall save the model and load it later.\n",
    "\n",
    "To find the right epoch number, we can plot the result of the model and see when we are not increasing the accuracy anymore, or when computationally capability is not worth the accuracy increase."
   ]
  },
  {
   "cell_type": "code",
   "execution_count": 23,
   "metadata": {},
   "outputs": [],
   "source": [
    "Model_P.save('LSTM_Univariate.keras')"
   ]
  },
  {
   "cell_type": "code",
   "execution_count": 24,
   "metadata": {},
   "outputs": [
    {
     "data": {
      "image/png": "[encoded data removed]",
      "text/plain": [
       "<Figure size 640x480 with 1 Axes>"
      ]
     },
     "metadata": {},
     "output_type": "display_data"
    }
   ],
   "source": [
    "plt.plot(range(len(Model_P.history.history['loss'])), Model_P.history.history['loss']) #We plot the loss function to see how it is evolving\n",
    "plt.title('Loss Function')\n",
    "plt.xlabel('Epochs')\n",
    "plt.ylabel('Loss')\n",
    "plt.show()"
   ]
  },
  {
   "cell_type": "markdown",
   "metadata": {},
   "source": [
    "By looking at the previous graph we can see that after 15, the accuracy is not increasing anymore. So, we can use 15 as the epoch number, if the training time is too long now. We have also to be careful of overfitting, while picking the number of epochs"
   ]
  },
  {
   "cell_type": "code",
   "execution_count": 25,
   "metadata": {},
   "outputs": [],
   "source": [
    "#Now, if we want to start from here without having to run all the code, we can just load the model\n",
    "from keras.models import load_model\n",
    "Model_P = load_model('LSTM_Univariate.keras')"
   ]
  },
  {
   "cell_type": "markdown",
   "metadata": {},
   "source": [
    "What do we want to do now for predicting or testing our model? From the training part, we broke down our dataset into different batches of 24. But, for the testing, we need also to have the same structure, as our model is expecting to receive batches of 24, and then predicting the next value. Then, in order to test our model, we need to create such structure that generates batches of 24, and then we can predict the next value.\n",
    "\n",
    "So, imagine that we have batches of 4. We have t1, t2, t3, t4. We apply the model and then we get t5. Then, we use that t5 value predicted by our model in the next batch (t2, t3, t4, t5) to predict t6. And so on. That's how we are going to test our model or to use our model for predicting new values."
   ]
  },
  {
   "cell_type": "markdown",
   "metadata": {},
   "source": [
    "## **3. Testing the LSTM Model**"
   ]
  },
  {
   "cell_type": "code",
   "execution_count": 30,
   "metadata": {},
   "outputs": [],
   "source": [
    "#First, we need to create our test set, something like we did for the train set\n",
    "#We create empty lists\n",
    "prediction_test = []\n",
    "\n",
    "Batch_one = train_scaled[-WS:] #We select the last 24 values (or WS is 24) of the train set\n",
    "Batch_new = Batch_one.reshape(1,WS,1) #We reshape the batch to be able to use it in the model. 1 is the number of batches, WS is the window size, and 1 is the number of features"
   ]
  },
  {
   "cell_type": "code",
   "execution_count": 31,
   "metadata": {},
   "outputs": [
    {
     "name": "stdout",
     "output_type": "stream",
     "text": [
      "1/1 [==============================] - 0s 56ms/step\n",
      "1/1 [==============================] - 0s 23ms/step\n",
      "1/1 [==============================] - 0s 14ms/step\n",
      "1/1 [==============================] - 0s 18ms/step\n",
      "1/1 [==============================] - 0s 15ms/step\n",
      "1/1 [==============================] - 0s 20ms/step\n",
      "1/1 [==============================] - 0s 20ms/step\n",
      "1/1 [==============================] - 0s 18ms/step\n",
      "1/1 [==============================] - 0s 18ms/step\n",
      "1/1 [==============================] - 0s 19ms/step\n",
      "1/1 [==============================] - 0s 14ms/step\n",
      "1/1 [==============================] - 0s 17ms/step\n",
      "1/1 [==============================] - 0s 20ms/step\n",
      "1/1 [==============================] - 0s 18ms/step\n",
      "1/1 [==============================] - 0s 21ms/step\n",
      "1/1 [==============================] - 0s 19ms/step\n",
      "1/1 [==============================] - 0s 22ms/step\n",
      "1/1 [==============================] - 0s 16ms/step\n",
      "1/1 [==============================] - 0s 22ms/step\n",
      "1/1 [==============================] - 0s 18ms/step\n",
      "1/1 [==============================] - 0s 20ms/step\n",
      "1/1 [==============================] - 0s 20ms/step\n",
      "1/1 [==============================] - 0s 18ms/step\n",
      "1/1 [==============================] - 0s 18ms/step\n",
      "1/1 [==============================] - 0s 18ms/step\n",
      "1/1 [==============================] - 0s 22ms/step\n",
      "1/1 [==============================] - 0s 19ms/step\n",
      "1/1 [==============================] - 0s 22ms/step\n",
      "1/1 [==============================] - 0s 21ms/step\n",
      "1/1 [==============================] - 0s 23ms/step\n",
      "1/1 [==============================] - 0s 23ms/step\n",
      "1/1 [==============================] - 0s 20ms/step\n",
      "1/1 [==============================] - 0s 17ms/step\n",
      "1/1 [==============================] - 0s 25ms/step\n",
      "1/1 [==============================] - 0s 18ms/step\n",
      "1/1 [==============================] - 0s 18ms/step\n",
      "1/1 [==============================] - 0s 26ms/step\n",
      "1/1 [==============================] - 0s 20ms/step\n",
      "1/1 [==============================] - 0s 20ms/step\n",
      "1/1 [==============================] - 0s 19ms/step\n",
      "1/1 [==============================] - 0s 20ms/step\n",
      "1/1 [==============================] - 0s 15ms/step\n",
      "1/1 [==============================] - 0s 20ms/step\n",
      "1/1 [==============================] - 0s 23ms/step\n",
      "1/1 [==============================] - 0s 14ms/step\n",
      "1/1 [==============================] - 0s 22ms/step\n",
      "1/1 [==============================] - 0s 20ms/step\n",
      "1/1 [==============================] - 0s 20ms/step\n"
     ]
    }
   ],
   "source": [
    "#Now, we create a for loop to predict the values\n",
    "for i in range(len(test_scaled)): #Here we are applying the length of the test set, as we want to predict all the values in test set. If we wanted to predict further values, we would have to change this parameter\n",
    "    First_Pred = Model_P.predict(Batch_new)[0] #We predict the first value\n",
    "    prediction_test.append(First_Pred) #We append the  predicted value to the list prediction_test\n",
    "    Batch_new = np.append(Batch_new[:,1:,:],[[First_Pred]],axis=1) #From Barch Newm from second dimension, I say, start from 1, so I don't want the first value. Then, append to barch new the prediction that we have made (First Pred). Thanks to this, Batch_new will be update, containing always the last 23 values of the previous batch, and the new predicted value"
   ]
  },
  {
   "cell_type": "code",
   "execution_count": 34,
   "metadata": {},
   "outputs": [
    {
     "data": {
      "text/plain": [
       "array([[0.00475112],\n",
       "       [0.00501415],\n",
       "       [0.00557414],\n",
       "       [0.00635964],\n",
       "       [0.00729591],\n",
       "       [0.00833431],\n",
       "       [0.00960204],\n",
       "       [0.01409784],\n",
       "       [0.1491864 ],\n",
       "       [0.5533273 ],\n",
       "       [0.78658605],\n",
       "       [0.88186467],\n",
       "       [0.8935415 ],\n",
       "       [0.83034796],\n",
       "       [0.6858057 ],\n",
       "       [0.41958427],\n",
       "       [0.01335301],\n",
       "       [0.01263949],\n",
       "       [0.01148131],\n",
       "       [0.00997764],\n",
       "       [0.00846988],\n",
       "       [0.00727299],\n",
       "       [0.00643992],\n",
       "       [0.00590181],\n",
       "       [0.00564411],\n",
       "       [0.00553775],\n",
       "       [0.00589895],\n",
       "       [0.00660267],\n",
       "       [0.00752851],\n",
       "       [0.00858983],\n",
       "       [0.00998616],\n",
       "       [0.01834337],\n",
       "       [0.21129756],\n",
       "       [0.6089419 ],\n",
       "       [0.8206846 ],\n",
       "       [0.89436316],\n",
       "       [0.8943328 ],\n",
       "       [0.8228221 ],\n",
       "       [0.6760487 ],\n",
       "       [0.42111623],\n",
       "       [0.06241152],\n",
       "       [0.05167054],\n",
       "       [0.03962325],\n",
       "       [0.02787921],\n",
       "       [0.01828738],\n",
       "       [0.01184267],\n",
       "       [0.00818104],\n",
       "       [0.00633717]], dtype=float32)"
      ]
     },
     "execution_count": 34,
     "metadata": {},
     "output_type": "execute_result"
    }
   ],
   "source": [
    "prediction_test"
   ]
  },
  {
   "cell_type": "code",
   "execution_count": 33,
   "metadata": {},
   "outputs": [],
   "source": [
    "#We have now the prediction test. We need it as a numpy array\n",
    "prediction_test = np.array(prediction_test)"
   ]
  },
  {
   "cell_type": "code",
   "execution_count": 35,
   "metadata": {},
   "outputs": [
    {
     "data": {
      "text/plain": [
       "numpy.ndarray"
      ]
     },
     "execution_count": 35,
     "metadata": {},
     "output_type": "execute_result"
    }
   ],
   "source": [
    "type(prediction_test)"
   ]
  },
  {
   "cell_type": "code",
   "execution_count": 36,
   "metadata": {},
   "outputs": [],
   "source": [
    "#Now, we want to inverse transform the prediction test, as we had normalized data\n",
    "prediction_test = sc.inverse_transform(prediction_test) #We inverse transform the prediction test, as we had normalized it"
   ]
  },
  {
   "cell_type": "markdown",
   "metadata": {},
   "source": [
    "Now, we have been able to predict. What we have to do know is check how our model has been working."
   ]
  },
  {
   "cell_type": "code",
   "execution_count": 38,
   "metadata": {},
   "outputs": [
    {
     "data": {
      "text/plain": [
       "<matplotlib.legend.Legend at 0x2962701ad10>"
      ]
     },
     "execution_count": 38,
     "metadata": {},
     "output_type": "execute_result"
    },
    {
     "data": {
      "image/png": "[encoded data removed]",
      "text/plain": [
       "<Figure size 640x480 with 1 Axes>"
      ]
     },
     "metadata": {},
     "output_type": "display_data"
    }
   ],
   "source": [
    "plt.plot(test, color='red', label='Actual Values')\n",
    "plt.plot(prediction_test, color='blue', label='Predicted Values')\n",
    "plt.title('LSTM Univariate. Actual vs Predicted Values')\n",
    "plt.xlabel('Time')\n",
    "plt.ylabel('Energy Production')\n",
    "plt.legend()"
   ]
  },
  {
   "cell_type": "markdown",
   "metadata": {},
   "source": [
    "As we can see, the model is predicting quite well. We can do some hyperparameter tuning to improve the model, changing epochs, neurons, batch size, optimizer, etc."
   ]
  },
  {
   "cell_type": "code",
   "execution_count": 39,
   "metadata": {},
   "outputs": [
    {
     "name": "stdout",
     "output_type": "stream",
     "text": [
      "RMSE: 0.008749494573697548\n"
     ]
    }
   ],
   "source": [
    "import math\n",
    "from sklearn.metrics import mean_squared_error\n",
    "\n",
    "RMSE = math.sqrt(mean_squared_error(test, prediction_test))\n",
    "print('RMSE:', RMSE)"
   ]
  },
  {
   "cell_type": "code",
   "execution_count": 40,
   "metadata": {},
   "outputs": [
    {
     "name": "stdout",
     "output_type": "stream",
     "text": [
      "R2: 0.9800563048957386\n"
     ]
    }
   ],
   "source": [
    "from sklearn.metrics import r2_score\n",
    "\n",
    "R2 = r2_score(test, prediction_test)\n",
    "\n",
    "print('R2:', R2)"
   ]
  },
  {
   "cell_type": "markdown",
   "metadata": {},
   "source": [
    "Our R squared is 98%, so this is almost perfect, and the RMSE is really low, so it seems like the model has done a really good job"
   ]
  },
  {
   "cell_type": "markdown",
   "metadata": {},
   "source": [
    "By increasing the number inside range in the loop, we can predict further in the future. For example, if we want to predict 24 hours in the future, we can change the range to 24. If we want to predict 7 days in the future, we can change the range to 168."
   ]
  }
 ],
 "metadata": {
  "kernelspec": {
   "display_name": "forecasting",
   "language": "python",
   "name": "python3"
  },
  "language_info": {
   "codemirror_mode": {
    "name": "ipython",
    "version": 3
   },
   "file_extension": ".py",
   "mimetype": "text/x-python",
   "name": "python",
   "nbconvert_exporter": "python",
   "pygments_lexer": "ipython3",
   "version": "3.10.12"
  },
  "orig_nbformat": 4
 },
 "nbformat": 4,
 "nbformat_minor": 2
}
